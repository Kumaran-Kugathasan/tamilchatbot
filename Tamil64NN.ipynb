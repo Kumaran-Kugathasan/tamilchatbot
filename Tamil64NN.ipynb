{
  "nbformat": 4,
  "nbformat_minor": 0,
  "metadata": {
    "colab": {
      "name": "Tamil64NN.ipynb",
      "provenance": [],
      "authorship_tag": "ABX9TyP/anwr6we7OHj8CbGIKpgo"
    },
    "kernelspec": {
      "name": "python3",
      "display_name": "Python 3"
    },
    "accelerator": "TPU"
  },
  "cells": [
    {
      "cell_type": "code",
      "metadata": {
        "id": "37XMOSAOU4ug"
      },
      "source": [
        "import numpy as np\n",
        "%tensorflow_version 1.x\n",
        "import pandas as pd\n",
        "from nltk.corpus import stopwords\n",
        "from nltk.tokenize import word_tokenize\n",
        "from nltk.stem.lancaster import LancasterStemmer\n",
        "import nltk\n",
        "import re\n",
        "from sklearn.preprocessing import OneHotEncoder\n",
        "import matplotlib.pyplot as plt\n",
        "from keras.preprocessing.text import Tokenizer\n",
        "from keras.preprocessing.sequence import pad_sequences\n",
        "from keras.utils import to_categorical\n",
        "from keras.models import Sequential, load_model\n",
        "from keras.layers import Dense, LSTM, Bidirectional, Embedding, Dropout\n",
        "from keras.callbacks import ModelCheckpoint"
      ],
      "execution_count": null,
      "outputs": []
    },
    {
      "cell_type": "code",
      "metadata": {
        "id": "mPE3NXeSVtmj"
      },
      "source": [
        "import pandas as pd\n",
        "def load_dataset(filename):\n",
        "  df = pd.read_csv(filename, encoding = \"utf-8\",\n",
        "       names = [\"Sentence\", \"Intent\"])\n",
        "  intent = df[\"Intent\"]\n",
        "  unique_intent = list(set(intent))\n",
        "  sentences = list(df[\"Sentence\"])\n",
        "  \n",
        "  return (intent, unique_intent, sentences)"
      ],
      "execution_count": null,
      "outputs": []
    },
    {
      "cell_type": "code",
      "metadata": {
        "id": "bGqqZ3l4WF5O"
      },
      "source": [
        "intent, unique_intent, sentences = load_dataset(\"/content/bank.csv\")"
      ],
      "execution_count": null,
      "outputs": []
    },
    {
      "cell_type": "code",
      "metadata": {
        "id": "n4YnnZ6IWhvK",
        "outputId": "205bcece-d6f3-4be2-c660-455f7af9f478",
        "colab": {
          "base_uri": "https://localhost:8080/",
          "height": 119
        }
      },
      "source": [
        "print(intent[:5])"
      ],
      "execution_count": null,
      "outputs": [
        {
          "output_type": "stream",
          "text": [
            "0    2in1_acoount_info\n",
            "1    2in1_acoount_info\n",
            "2    2in1_acoount_info\n",
            "3    2in1_acoount_info\n",
            "4    2in1_acoount_info\n",
            "Name: Intent, dtype: object\n"
          ],
          "name": "stdout"
        }
      ]
    },
    {
      "cell_type": "code",
      "metadata": {
        "id": "ufy7zZXWWyjJ",
        "outputId": "23b45a0b-02bb-476f-8eac-9ac7fcd1e9f2",
        "colab": {
          "base_uri": "https://localhost:8080/",
          "height": 51
        }
      },
      "source": [
        "nltk.download(\"punkt\")\n",
        "def cleaning(sentences):\n",
        "  words = [] \n",
        "  for s in sentences:\n",
        "    w = word_tokenize(s)\n",
        "    words.append([i for i in w])     \n",
        "  return words  "
      ],
      "execution_count": null,
      "outputs": [
        {
          "output_type": "stream",
          "text": [
            "[nltk_data] Downloading package punkt to /root/nltk_data...\n",
            "[nltk_data]   Package punkt is already up-to-date!\n"
          ],
          "name": "stdout"
        }
      ]
    },
    {
      "cell_type": "code",
      "metadata": {
        "id": "W8N4GXnqYKcy",
        "outputId": "2afe5864-dfee-4887-f330-f1110fe43d46",
        "colab": {
          "base_uri": "https://localhost:8080/",
          "height": 88
        }
      },
      "source": [
        "cleaned_words = cleaning(sentences)\n",
        "print(len(cleaned_words))\n",
        "print(cleaned_words[:2])  \n",
        "print(len(sentences))"
      ],
      "execution_count": null,
      "outputs": [
        {
          "output_type": "stream",
          "text": [
            "1567\n",
            "[['நான்', '2in1', 'கணக்கில்', 'சேமிப்பது', 'எப்படி', '?'], ['2in1', 'கணக்கில்', 'நான்', 'சேமிப்பது', 'எப்படி', '?']]\n",
            "1567\n"
          ],
          "name": "stdout"
        }
      ]
    },
    {
      "cell_type": "code",
      "metadata": {
        "id": "QwgeL5dWcwLI"
      },
      "source": [
        "def create_tokenizer(words, filters = '!\"#$%&()*+,-./:;<=>?@[\\]^_`{|}~'):\n",
        "  token = Tokenizer(filters = filters)\n",
        "  token.fit_on_texts(words)\n",
        "  return token"
      ],
      "execution_count": null,
      "outputs": []
    },
    {
      "cell_type": "code",
      "metadata": {
        "id": "0yJr6j3zc2NH"
      },
      "source": [
        "def max_length(words):\n",
        "  return(len(max(words, key = len)))"
      ],
      "execution_count": null,
      "outputs": []
    },
    {
      "cell_type": "code",
      "metadata": {
        "id": "fGFv3Wz1c3h8",
        "outputId": "6b0645c9-92e7-421a-a210-7ee16cbd4b9f",
        "colab": {
          "base_uri": "https://localhost:8080/",
          "height": 34
        }
      },
      "source": [
        "word_tokenizer = create_tokenizer(cleaned_words)\n",
        "vocab_size = len(word_tokenizer.word_index) + 1\n",
        "max_length = max_length(cleaned_words)\n",
        "\n",
        "print(\"Vocab Size = %d and Maximum length = %d\" % (vocab_size, max_length))"
      ],
      "execution_count": null,
      "outputs": [
        {
          "output_type": "stream",
          "text": [
            "Vocab Size = 1141 and Maximum length = 22\n"
          ],
          "name": "stdout"
        }
      ]
    },
    {
      "cell_type": "code",
      "metadata": {
        "id": "HkLPLsZudGFP"
      },
      "source": [
        "def encoding_doc(token, words):\n",
        "  return(token.texts_to_sequences(words))"
      ],
      "execution_count": null,
      "outputs": []
    },
    {
      "cell_type": "code",
      "metadata": {
        "id": "tUFlvGmBdW_7"
      },
      "source": [
        "encoded_doc = encoding_doc(word_tokenizer, cleaned_words)"
      ],
      "execution_count": null,
      "outputs": []
    },
    {
      "cell_type": "code",
      "metadata": {
        "id": "GMhHK_fAdbEJ"
      },
      "source": [
        "def padding_doc(encoded_doc, max_length):\n",
        "  return(pad_sequences(encoded_doc, maxlen = max_length, padding = \"post\"))"
      ],
      "execution_count": null,
      "outputs": []
    },
    {
      "cell_type": "code",
      "metadata": {
        "id": "nztJIy7vdceo"
      },
      "source": [
        "padded_doc = padding_doc(encoded_doc, max_length)"
      ],
      "execution_count": null,
      "outputs": []
    },
    {
      "cell_type": "code",
      "metadata": {
        "id": "96UW6oSQdh4Q",
        "outputId": "804c961a-9eec-473b-b9db-6bedb2c9c52f",
        "colab": {
          "base_uri": "https://localhost:8080/",
          "height": 187
        }
      },
      "source": [
        "padded_doc[:5]"
      ],
      "execution_count": null,
      "outputs": [
        {
          "output_type": "execute_result",
          "data": {
            "text/plain": [
              "array([[  3,  45,  62, 348,  11,   1,   0,   0,   0,   0,   0,   0,   0,\n",
              "          0,   0,   0,   0,   0,   0,   0,   0,   0],\n",
              "       [ 45,  62,   3, 348,  11,   1,   0,   0,   0,   0,   0,   0,   0,\n",
              "          0,   0,   0,   0,   0,   0,   0,   0,   0],\n",
              "       [ 11,   3,  45,  62, 348,   1,   0,   0,   0,   0,   0,   0,   0,\n",
              "          0,   0,   0,   0,   0,   0,   0,   0,   0],\n",
              "       [  3,  11,  45,  62, 348,   1,   0,   0,   0,   0,   0,   0,   0,\n",
              "          0,   0,   0,   0,   0,   0,   0,   0,   0],\n",
              "       [ 45,  62,   3, 587, 287,   2,   1,   0,   0,   0,   0,   0,   0,\n",
              "          0,   0,   0,   0,   0,   0,   0,   0,   0]], dtype=int32)"
            ]
          },
          "metadata": {
            "tags": []
          },
          "execution_count": 150
        }
      ]
    },
    {
      "cell_type": "code",
      "metadata": {
        "id": "9c7J1AK8dozB",
        "outputId": "e322dde0-03ae-4c54-a262-59c462b623b3",
        "colab": {
          "base_uri": "https://localhost:8080/",
          "height": 34
        }
      },
      "source": [
        "print(\"Shape of padded docs = \",padded_doc.shape)"
      ],
      "execution_count": null,
      "outputs": [
        {
          "output_type": "stream",
          "text": [
            "Shape of padded docs =  (1567, 22)\n"
          ],
          "name": "stdout"
        }
      ]
    },
    {
      "cell_type": "code",
      "metadata": {
        "id": "CTIwsFBqeHPE"
      },
      "source": [
        "#tokenizer with filter changed\n",
        "output_tokenizer = create_tokenizer(unique_intent, filters = '!\"#$%&()*+,-/:;<=>?@[\\]^`{|}~')"
      ],
      "execution_count": null,
      "outputs": []
    },
    {
      "cell_type": "code",
      "metadata": {
        "id": "Xr1LmLrWeLnz",
        "outputId": "0d9121d4-b26a-4edc-9e6f-cf0b97e5f5a8",
        "colab": {
          "base_uri": "https://localhost:8080/",
          "height": 969
        }
      },
      "source": [
        "output_tokenizer.word_index"
      ],
      "execution_count": null,
      "outputs": [
        {
          "output_type": "execute_result",
          "data": {
            "text/plain": [
              "{'2in1_acoount_info': 7,\n",
              " '2in1_atm_card': 1,\n",
              " '2in1_interest_receiving': 46,\n",
              " '2in1_min_balance': 17,\n",
              " '2in1_pass_book': 47,\n",
              " 'account_currency': 20,\n",
              " 'bank_statement_online': 35,\n",
              " 'cancel_card': 56,\n",
              " 'card_automatic_renewal': 34,\n",
              " 'card_foreign_use': 23,\n",
              " 'card_machine_repair': 8,\n",
              " 'card_usage': 43,\n",
              " 'change_details': 14,\n",
              " 'cvv_use': 13,\n",
              " 'debit_card_requirement': 2,\n",
              " 'fcaispe_required_docs': 50,\n",
              " 'foreign_account_lkr_withdrawal': 3,\n",
              " 'foreign_currency_withdrawal': 45,\n",
              " 'foreign_currency_withdrawal_currency': 22,\n",
              " 'foreign_deposit_loan': 9,\n",
              " 'get_lc_form': 51,\n",
              " 'get_monthly_report': 30,\n",
              " 'housing_loan_documents': 5,\n",
              " 'housing_loan_purpose': 54,\n",
              " 'interest_credit_info': 44,\n",
              " 'internet_bank_loan_amount': 36,\n",
              " 'joint_account_details': 25,\n",
              " 'life_insurance_limit': 40,\n",
              " 'loan_requirement': 37,\n",
              " 'marriage_claim': 26,\n",
              " 'new_card_reader_cost': 11,\n",
              " 'new_saving_book': 24,\n",
              " 'nrfc_account_opening': 18,\n",
              " 'nrfc_info': 55,\n",
              " 'precashing_foreign_fixed_deposit': 31,\n",
              " 'repos_benefits': 53,\n",
              " 'resident_foreign_account_info': 52,\n",
              " 'saving_atmcard_available': 27,\n",
              " 'selan_sure_info': 32,\n",
              " 'seylan_tikiri_minimum_deposit': 4,\n",
              " 'sl_development_bond_benefits': 15,\n",
              " 'slbfe_info': 38,\n",
              " 'suspious_activity': 42,\n",
              " 'tikiri_gift_voucher_age_limit': 33,\n",
              " 'tikiri_gift_voucher_buying_info': 16,\n",
              " 'tikiri_gift_voucher_info': 49,\n",
              " 'tikiri_gift_voucher_min_amount': 48,\n",
              " 'tikiri_gift_voucher_per_person': 19,\n",
              " 'tikiri_gift_voucher_redeem': 28,\n",
              " 'tikiri_gift_voucher_validity': 6,\n",
              " 'tikiri_gift_voucher_withdrawal': 12,\n",
              " 'tikiri_required_docs': 41,\n",
              " 'treasury_bond_advantage': 39,\n",
              " 'treasury_bond_important_features': 21,\n",
              " 'treasury_bond_information': 10,\n",
              " 'update_personal_details': 29}"
            ]
          },
          "metadata": {
            "tags": []
          },
          "execution_count": 153
        }
      ]
    },
    {
      "cell_type": "code",
      "metadata": {
        "id": "cnAAOGnueWk8"
      },
      "source": [
        "encoded_output = encoding_doc(output_tokenizer, intent)"
      ],
      "execution_count": null,
      "outputs": []
    },
    {
      "cell_type": "code",
      "metadata": {
        "id": "Z6ZTSOXbeaU-"
      },
      "source": [
        "encoded_output = np.array(encoded_output).reshape(len(encoded_output), 1)"
      ],
      "execution_count": null,
      "outputs": []
    },
    {
      "cell_type": "code",
      "metadata": {
        "id": "AO3baU22ehDd",
        "outputId": "b98fb63f-cbde-41fe-9567-a587896b2d69",
        "colab": {
          "base_uri": "https://localhost:8080/",
          "height": 34
        }
      },
      "source": [
        "encoded_output.shape"
      ],
      "execution_count": null,
      "outputs": [
        {
          "output_type": "execute_result",
          "data": {
            "text/plain": [
              "(1567, 1)"
            ]
          },
          "metadata": {
            "tags": []
          },
          "execution_count": 156
        }
      ]
    },
    {
      "cell_type": "code",
      "metadata": {
        "id": "dQKN1NG9ekZX"
      },
      "source": [
        "def one_hot(encode):\n",
        "  o = OneHotEncoder(sparse = False)\n",
        "  return(o.fit_transform(encode))"
      ],
      "execution_count": null,
      "outputs": []
    },
    {
      "cell_type": "code",
      "metadata": {
        "id": "9J_Rnp9neovf"
      },
      "source": [
        "output_one_hot = one_hot(encoded_output)"
      ],
      "execution_count": null,
      "outputs": []
    },
    {
      "cell_type": "code",
      "metadata": {
        "id": "POdbSVHyerrC",
        "outputId": "8f0e9fef-55e8-42d5-fdba-987e7b3a114b",
        "colab": {
          "base_uri": "https://localhost:8080/",
          "height": 34
        }
      },
      "source": [
        "output_one_hot.shape"
      ],
      "execution_count": null,
      "outputs": [
        {
          "output_type": "execute_result",
          "data": {
            "text/plain": [
              "(1567, 56)"
            ]
          },
          "metadata": {
            "tags": []
          },
          "execution_count": 159
        }
      ]
    },
    {
      "cell_type": "code",
      "metadata": {
        "id": "MHYO6k-1evbX"
      },
      "source": [
        "from sklearn.model_selection import train_test_split"
      ],
      "execution_count": null,
      "outputs": []
    },
    {
      "cell_type": "code",
      "metadata": {
        "id": "EwgQclLNewsZ"
      },
      "source": [
        "train_X, val_X, train_Y, val_Y = train_test_split(padded_doc, output_one_hot, shuffle = True, test_size = 0.2)\n",
        "train_X, test_X, train_Y, test_Y = train_test_split(train_X, train_Y, shuffle = True, test_size = 0.2)"
      ],
      "execution_count": null,
      "outputs": []
    },
    {
      "cell_type": "code",
      "metadata": {
        "id": "ovNmNRFhe0o6",
        "outputId": "44fbbe4d-647d-4269-8024-482dcbb54139",
        "colab": {
          "base_uri": "https://localhost:8080/",
          "height": 68
        }
      },
      "source": [
        "print(\"Shape of train_X = %s and train_Y = %s\" % (train_X.shape, train_Y.shape))\n",
        "print(\"Shape of val_X = %s and val_Y = %s\" % (val_X.shape, val_Y.shape))\n",
        "print(\"Shape of test_X = %s and test_Y = %s\" % (val_X.shape, val_Y.shape))"
      ],
      "execution_count": null,
      "outputs": [
        {
          "output_type": "stream",
          "text": [
            "Shape of train_X = (1002, 22) and train_Y = (1002, 56)\n",
            "Shape of val_X = (314, 22) and val_Y = (314, 56)\n",
            "Shape of test_X = (314, 22) and test_Y = (314, 56)\n"
          ],
          "name": "stdout"
        }
      ]
    },
    {
      "cell_type": "code",
      "metadata": {
        "id": "qSRLYP3qe56h"
      },
      "source": [
        "def create_model(vocab_size, max_length):\n",
        "  model = Sequential()\n",
        "  model.add(Embedding(vocab_size, 300, input_length = max_length, trainable = False))\n",
        "  model.add(Bidirectional(LSTM(64)))\n",
        "#   model.add(LSTM(128))\n",
        "  model.add(Dense(32, activation = \"relu\"))\n",
        "  model.add(Dropout(0.5))\n",
        "  model.add(Dense(56, activation = \"softmax\"))\n",
        "  \n",
        "  return model"
      ],
      "execution_count": null,
      "outputs": []
    },
    {
      "cell_type": "code",
      "metadata": {
        "id": "nDbMkC6pe_5J",
        "outputId": "69ce62f8-c680-4c5a-8258-6f2a918dbd4e",
        "colab": {
          "base_uri": "https://localhost:8080/",
          "height": 323
        }
      },
      "source": [
        "model = create_model(vocab_size, max_length)\n",
        "\n",
        "model.compile(loss = \"categorical_crossentropy\", optimizer = \"adam\", metrics = [\"accuracy\"])\n",
        "model.summary()"
      ],
      "execution_count": null,
      "outputs": [
        {
          "output_type": "stream",
          "text": [
            "Model: \"sequential_5\"\n",
            "_________________________________________________________________\n",
            "Layer (type)                 Output Shape              Param #   \n",
            "=================================================================\n",
            "embedding_5 (Embedding)      (None, 22, 300)           342300    \n",
            "_________________________________________________________________\n",
            "bidirectional_5 (Bidirection (None, 128)               186880    \n",
            "_________________________________________________________________\n",
            "dense_9 (Dense)              (None, 32)                4128      \n",
            "_________________________________________________________________\n",
            "dropout_5 (Dropout)          (None, 32)                0         \n",
            "_________________________________________________________________\n",
            "dense_10 (Dense)             (None, 56)                1848      \n",
            "=================================================================\n",
            "Total params: 535,156\n",
            "Trainable params: 192,856\n",
            "Non-trainable params: 342,300\n",
            "_________________________________________________________________\n"
          ],
          "name": "stdout"
        }
      ]
    },
    {
      "cell_type": "code",
      "metadata": {
        "id": "FZaglVqnfGtp",
        "outputId": "a55b100c-cad0-43bf-d72c-8051a4ec2763",
        "colab": {
          "base_uri": "https://localhost:8080/",
          "height": 1000
        }
      },
      "source": [
        "filename = 'model.h5'\n",
        "checkpoint = ModelCheckpoint(filename, monitor='val_loss', verbose=1, save_best_only=True, mode='min')\n",
        "\n",
        "hist = model.fit(train_X, train_Y, epochs = 100, batch_size = 32, validation_data = (val_X, val_Y), callbacks = [checkpoint])"
      ],
      "execution_count": null,
      "outputs": [
        {
          "output_type": "stream",
          "text": [
            "Train on 1002 samples, validate on 314 samples\n",
            "Epoch 1/100\n",
            "1002/1002 [==============================] - 6s 6ms/step - loss: 3.9958 - acc: 0.0329 - val_loss: 3.9455 - val_acc: 0.0414\n",
            "\n",
            "Epoch 00001: val_loss improved from inf to 3.94549, saving model to model.h5\n",
            "Epoch 2/100\n",
            "1002/1002 [==============================] - 2s 2ms/step - loss: 3.9077 - acc: 0.0619 - val_loss: 3.8426 - val_acc: 0.0669\n",
            "\n",
            "Epoch 00002: val_loss improved from 3.94549 to 3.84261, saving model to model.h5\n",
            "Epoch 3/100\n",
            "1002/1002 [==============================] - 2s 2ms/step - loss: 3.7821 - acc: 0.0858 - val_loss: 3.6371 - val_acc: 0.1783\n",
            "\n",
            "Epoch 00003: val_loss improved from 3.84261 to 3.63707, saving model to model.h5\n",
            "Epoch 4/100\n",
            "1002/1002 [==============================] - 2s 2ms/step - loss: 3.5774 - acc: 0.1317 - val_loss: 3.4144 - val_acc: 0.1720\n",
            "\n",
            "Epoch 00004: val_loss improved from 3.63707 to 3.41439, saving model to model.h5\n",
            "Epoch 5/100\n",
            "1002/1002 [==============================] - 2s 2ms/step - loss: 3.3267 - acc: 0.1687 - val_loss: 3.1725 - val_acc: 0.1975\n",
            "\n",
            "Epoch 00005: val_loss improved from 3.41439 to 3.17247, saving model to model.h5\n",
            "Epoch 6/100\n",
            "1002/1002 [==============================] - 2s 2ms/step - loss: 3.1092 - acc: 0.2046 - val_loss: 2.8987 - val_acc: 0.3025\n",
            "\n",
            "Epoch 00006: val_loss improved from 3.17247 to 2.89868, saving model to model.h5\n",
            "Epoch 7/100\n",
            "1002/1002 [==============================] - 2s 2ms/step - loss: 2.9629 - acc: 0.2315 - val_loss: 2.7289 - val_acc: 0.3280\n",
            "\n",
            "Epoch 00007: val_loss improved from 2.89868 to 2.72888, saving model to model.h5\n",
            "Epoch 8/100\n",
            "1002/1002 [==============================] - 2s 2ms/step - loss: 2.7672 - acc: 0.2735 - val_loss: 2.5815 - val_acc: 0.3567\n",
            "\n",
            "Epoch 00008: val_loss improved from 2.72888 to 2.58151, saving model to model.h5\n",
            "Epoch 9/100\n",
            "1002/1002 [==============================] - 2s 2ms/step - loss: 2.6489 - acc: 0.2904 - val_loss: 2.4014 - val_acc: 0.3822\n",
            "\n",
            "Epoch 00009: val_loss improved from 2.58151 to 2.40145, saving model to model.h5\n",
            "Epoch 10/100\n",
            "1002/1002 [==============================] - 2s 2ms/step - loss: 2.4873 - acc: 0.3224 - val_loss: 2.3528 - val_acc: 0.4363\n",
            "\n",
            "Epoch 00010: val_loss improved from 2.40145 to 2.35282, saving model to model.h5\n",
            "Epoch 11/100\n",
            "1002/1002 [==============================] - 2s 2ms/step - loss: 2.3823 - acc: 0.3752 - val_loss: 2.2069 - val_acc: 0.4522\n",
            "\n",
            "Epoch 00011: val_loss improved from 2.35282 to 2.20685, saving model to model.h5\n",
            "Epoch 12/100\n",
            "1002/1002 [==============================] - 2s 2ms/step - loss: 2.2773 - acc: 0.3832 - val_loss: 2.0299 - val_acc: 0.4682\n",
            "\n",
            "Epoch 00012: val_loss improved from 2.20685 to 2.02988, saving model to model.h5\n",
            "Epoch 13/100\n",
            "1002/1002 [==============================] - 2s 2ms/step - loss: 2.0978 - acc: 0.4122 - val_loss: 1.9121 - val_acc: 0.5573\n",
            "\n",
            "Epoch 00013: val_loss improved from 2.02988 to 1.91214, saving model to model.h5\n",
            "Epoch 14/100\n",
            "1002/1002 [==============================] - 2s 2ms/step - loss: 2.0299 - acc: 0.4242 - val_loss: 1.8205 - val_acc: 0.5669\n",
            "\n",
            "Epoch 00014: val_loss improved from 1.91214 to 1.82047, saving model to model.h5\n",
            "Epoch 15/100\n",
            "1002/1002 [==============================] - 2s 2ms/step - loss: 1.8928 - acc: 0.4741 - val_loss: 1.6594 - val_acc: 0.6115\n",
            "\n",
            "Epoch 00015: val_loss improved from 1.82047 to 1.65938, saving model to model.h5\n",
            "Epoch 16/100\n",
            "1002/1002 [==============================] - 2s 2ms/step - loss: 1.8310 - acc: 0.4950 - val_loss: 1.6744 - val_acc: 0.5732\n",
            "\n",
            "Epoch 00016: val_loss did not improve from 1.65938\n",
            "Epoch 17/100\n",
            "1002/1002 [==============================] - 2s 1ms/step - loss: 1.7099 - acc: 0.5080 - val_loss: 1.5056 - val_acc: 0.6401\n",
            "\n",
            "Epoch 00017: val_loss improved from 1.65938 to 1.50560, saving model to model.h5\n",
            "Epoch 18/100\n",
            "1002/1002 [==============================] - 2s 2ms/step - loss: 1.6847 - acc: 0.5250 - val_loss: 1.4461 - val_acc: 0.6592\n",
            "\n",
            "Epoch 00018: val_loss improved from 1.50560 to 1.44608, saving model to model.h5\n",
            "Epoch 19/100\n",
            "1002/1002 [==============================] - 2s 2ms/step - loss: 1.5861 - acc: 0.5459 - val_loss: 1.3546 - val_acc: 0.6752\n",
            "\n",
            "Epoch 00019: val_loss improved from 1.44608 to 1.35463, saving model to model.h5\n",
            "Epoch 20/100\n",
            "1002/1002 [==============================] - 2s 2ms/step - loss: 1.4304 - acc: 0.5988 - val_loss: 1.2432 - val_acc: 0.6975\n",
            "\n",
            "Epoch 00020: val_loss improved from 1.35463 to 1.24322, saving model to model.h5\n",
            "Epoch 21/100\n",
            "1002/1002 [==============================] - 2s 2ms/step - loss: 1.4304 - acc: 0.5758 - val_loss: 1.2336 - val_acc: 0.7038\n",
            "\n",
            "Epoch 00021: val_loss improved from 1.24322 to 1.23361, saving model to model.h5\n",
            "Epoch 22/100\n",
            "1002/1002 [==============================] - 2s 2ms/step - loss: 1.3485 - acc: 0.6058 - val_loss: 1.1625 - val_acc: 0.7293\n",
            "\n",
            "Epoch 00022: val_loss improved from 1.23361 to 1.16250, saving model to model.h5\n",
            "Epoch 23/100\n",
            "1002/1002 [==============================] - 2s 2ms/step - loss: 1.2681 - acc: 0.6228 - val_loss: 1.0595 - val_acc: 0.7325\n",
            "\n",
            "Epoch 00023: val_loss improved from 1.16250 to 1.05949, saving model to model.h5\n",
            "Epoch 24/100\n",
            "1002/1002 [==============================] - 2s 2ms/step - loss: 1.1637 - acc: 0.6567 - val_loss: 1.0374 - val_acc: 0.7357\n",
            "\n",
            "Epoch 00024: val_loss improved from 1.05949 to 1.03744, saving model to model.h5\n",
            "Epoch 25/100\n",
            "1002/1002 [==============================] - 2s 2ms/step - loss: 1.1576 - acc: 0.6697 - val_loss: 0.9757 - val_acc: 0.7516\n",
            "\n",
            "Epoch 00025: val_loss improved from 1.03744 to 0.97571, saving model to model.h5\n",
            "Epoch 26/100\n",
            "1002/1002 [==============================] - 2s 2ms/step - loss: 1.1317 - acc: 0.6737 - val_loss: 1.0027 - val_acc: 0.7389\n",
            "\n",
            "Epoch 00026: val_loss did not improve from 0.97571\n",
            "Epoch 27/100\n",
            "1002/1002 [==============================] - 2s 2ms/step - loss: 1.0879 - acc: 0.6776 - val_loss: 0.8917 - val_acc: 0.7930\n",
            "\n",
            "Epoch 00027: val_loss improved from 0.97571 to 0.89172, saving model to model.h5\n",
            "Epoch 28/100\n",
            "1002/1002 [==============================] - 2s 2ms/step - loss: 1.0203 - acc: 0.7056 - val_loss: 0.9364 - val_acc: 0.7611\n",
            "\n",
            "Epoch 00028: val_loss did not improve from 0.89172\n",
            "Epoch 29/100\n",
            "1002/1002 [==============================] - 2s 2ms/step - loss: 0.9524 - acc: 0.7136 - val_loss: 0.8309 - val_acc: 0.7962\n",
            "\n",
            "Epoch 00029: val_loss improved from 0.89172 to 0.83094, saving model to model.h5\n",
            "Epoch 30/100\n",
            "1002/1002 [==============================] - 2s 2ms/step - loss: 0.9331 - acc: 0.7176 - val_loss: 0.8213 - val_acc: 0.7834\n",
            "\n",
            "Epoch 00030: val_loss improved from 0.83094 to 0.82125, saving model to model.h5\n",
            "Epoch 31/100\n",
            "1002/1002 [==============================] - 2s 2ms/step - loss: 0.8996 - acc: 0.7445 - val_loss: 0.8300 - val_acc: 0.7739\n",
            "\n",
            "Epoch 00031: val_loss did not improve from 0.82125\n",
            "Epoch 32/100\n",
            "1002/1002 [==============================] - 2s 2ms/step - loss: 0.8694 - acc: 0.7395 - val_loss: 0.7758 - val_acc: 0.8153\n",
            "\n",
            "Epoch 00032: val_loss improved from 0.82125 to 0.77577, saving model to model.h5\n",
            "Epoch 33/100\n",
            "1002/1002 [==============================] - 2s 2ms/step - loss: 0.8074 - acc: 0.7645 - val_loss: 0.7558 - val_acc: 0.8471\n",
            "\n",
            "Epoch 00033: val_loss improved from 0.77577 to 0.75582, saving model to model.h5\n",
            "Epoch 34/100\n",
            "1002/1002 [==============================] - 2s 2ms/step - loss: 0.7851 - acc: 0.7525 - val_loss: 0.7517 - val_acc: 0.8217\n",
            "\n",
            "Epoch 00034: val_loss improved from 0.75582 to 0.75168, saving model to model.h5\n",
            "Epoch 35/100\n",
            "1002/1002 [==============================] - 2s 2ms/step - loss: 0.7745 - acc: 0.7794 - val_loss: 0.7075 - val_acc: 0.8439\n",
            "\n",
            "Epoch 00035: val_loss improved from 0.75168 to 0.70746, saving model to model.h5\n",
            "Epoch 36/100\n",
            "1002/1002 [==============================] - 2s 2ms/step - loss: 0.7011 - acc: 0.7954 - val_loss: 0.6909 - val_acc: 0.8408\n",
            "\n",
            "Epoch 00036: val_loss improved from 0.70746 to 0.69087, saving model to model.h5\n",
            "Epoch 37/100\n",
            "1002/1002 [==============================] - 2s 2ms/step - loss: 0.7574 - acc: 0.7884 - val_loss: 0.6443 - val_acc: 0.8662\n",
            "\n",
            "Epoch 00037: val_loss improved from 0.69087 to 0.64432, saving model to model.h5\n",
            "Epoch 38/100\n",
            "1002/1002 [==============================] - 2s 2ms/step - loss: 0.7045 - acc: 0.7874 - val_loss: 0.6771 - val_acc: 0.8535\n",
            "\n",
            "Epoch 00038: val_loss did not improve from 0.64432\n",
            "Epoch 39/100\n",
            "1002/1002 [==============================] - 2s 2ms/step - loss: 0.6783 - acc: 0.8114 - val_loss: 0.6390 - val_acc: 0.8694\n",
            "\n",
            "Epoch 00039: val_loss improved from 0.64432 to 0.63898, saving model to model.h5\n",
            "Epoch 40/100\n",
            "1002/1002 [==============================] - 2s 2ms/step - loss: 0.6454 - acc: 0.7954 - val_loss: 0.6121 - val_acc: 0.8694\n",
            "\n",
            "Epoch 00040: val_loss improved from 0.63898 to 0.61209, saving model to model.h5\n",
            "Epoch 41/100\n",
            "1002/1002 [==============================] - 2s 2ms/step - loss: 0.6107 - acc: 0.8104 - val_loss: 0.5965 - val_acc: 0.8599\n",
            "\n",
            "Epoch 00041: val_loss improved from 0.61209 to 0.59649, saving model to model.h5\n",
            "Epoch 42/100\n",
            "1002/1002 [==============================] - 2s 2ms/step - loss: 0.5679 - acc: 0.8373 - val_loss: 0.6234 - val_acc: 0.8599\n",
            "\n",
            "Epoch 00042: val_loss did not improve from 0.59649\n",
            "Epoch 43/100\n",
            "1002/1002 [==============================] - 2s 2ms/step - loss: 0.5851 - acc: 0.8214 - val_loss: 0.5864 - val_acc: 0.8726\n",
            "\n",
            "Epoch 00043: val_loss improved from 0.59649 to 0.58636, saving model to model.h5\n",
            "Epoch 44/100\n",
            "1002/1002 [==============================] - 2s 2ms/step - loss: 0.6019 - acc: 0.8164 - val_loss: 0.6339 - val_acc: 0.8599\n",
            "\n",
            "Epoch 00044: val_loss did not improve from 0.58636\n",
            "Epoch 45/100\n",
            "1002/1002 [==============================] - 2s 2ms/step - loss: 0.5750 - acc: 0.8283 - val_loss: 0.5913 - val_acc: 0.8758\n",
            "\n",
            "Epoch 00045: val_loss did not improve from 0.58636\n",
            "Epoch 46/100\n",
            "1002/1002 [==============================] - 1s 1ms/step - loss: 0.5530 - acc: 0.8313 - val_loss: 0.5643 - val_acc: 0.8885\n",
            "\n",
            "Epoch 00046: val_loss improved from 0.58636 to 0.56432, saving model to model.h5\n",
            "Epoch 47/100\n",
            "1002/1002 [==============================] - 2s 1ms/step - loss: 0.5309 - acc: 0.8283 - val_loss: 0.5401 - val_acc: 0.8917\n",
            "\n",
            "Epoch 00047: val_loss improved from 0.56432 to 0.54009, saving model to model.h5\n",
            "Epoch 48/100\n",
            "1002/1002 [==============================] - 2s 2ms/step - loss: 0.5367 - acc: 0.8244 - val_loss: 0.5213 - val_acc: 0.8949\n",
            "\n",
            "Epoch 00048: val_loss improved from 0.54009 to 0.52129, saving model to model.h5\n",
            "Epoch 49/100\n",
            "1002/1002 [==============================] - 2s 2ms/step - loss: 0.4932 - acc: 0.8553 - val_loss: 0.5037 - val_acc: 0.9076\n",
            "\n",
            "Epoch 00049: val_loss improved from 0.52129 to 0.50369, saving model to model.h5\n",
            "Epoch 50/100\n",
            "1002/1002 [==============================] - 2s 2ms/step - loss: 0.4989 - acc: 0.8513 - val_loss: 0.5285 - val_acc: 0.8949\n",
            "\n",
            "Epoch 00050: val_loss did not improve from 0.50369\n",
            "Epoch 51/100\n",
            "1002/1002 [==============================] - 2s 2ms/step - loss: 0.4755 - acc: 0.8543 - val_loss: 0.5845 - val_acc: 0.8790\n",
            "\n",
            "Epoch 00051: val_loss did not improve from 0.50369\n",
            "Epoch 52/100\n",
            "1002/1002 [==============================] - 2s 2ms/step - loss: 0.4851 - acc: 0.8523 - val_loss: 0.5566 - val_acc: 0.8885\n",
            "\n",
            "Epoch 00052: val_loss did not improve from 0.50369\n",
            "Epoch 53/100\n",
            "1002/1002 [==============================] - 2s 2ms/step - loss: 0.4545 - acc: 0.8633 - val_loss: 0.5117 - val_acc: 0.8917\n",
            "\n",
            "Epoch 00053: val_loss did not improve from 0.50369\n",
            "Epoch 54/100\n",
            "1002/1002 [==============================] - 2s 2ms/step - loss: 0.4459 - acc: 0.8623 - val_loss: 0.5265 - val_acc: 0.8949\n",
            "\n",
            "Epoch 00054: val_loss did not improve from 0.50369\n",
            "Epoch 55/100\n",
            "1002/1002 [==============================] - 2s 2ms/step - loss: 0.4195 - acc: 0.8593 - val_loss: 0.4964 - val_acc: 0.9013\n",
            "\n",
            "Epoch 00055: val_loss improved from 0.50369 to 0.49637, saving model to model.h5\n",
            "Epoch 56/100\n",
            "1002/1002 [==============================] - 2s 2ms/step - loss: 0.4208 - acc: 0.8633 - val_loss: 0.4842 - val_acc: 0.8854\n",
            "\n",
            "Epoch 00056: val_loss improved from 0.49637 to 0.48417, saving model to model.h5\n",
            "Epoch 57/100\n",
            "1002/1002 [==============================] - 2s 2ms/step - loss: 0.4139 - acc: 0.8643 - val_loss: 0.4853 - val_acc: 0.8885\n",
            "\n",
            "Epoch 00057: val_loss did not improve from 0.48417\n",
            "Epoch 58/100\n",
            "1002/1002 [==============================] - 2s 2ms/step - loss: 0.4111 - acc: 0.8693 - val_loss: 0.5423 - val_acc: 0.8758\n",
            "\n",
            "Epoch 00058: val_loss did not improve from 0.48417\n",
            "Epoch 59/100\n",
            "1002/1002 [==============================] - 2s 2ms/step - loss: 0.4061 - acc: 0.8782 - val_loss: 0.5440 - val_acc: 0.8822\n",
            "\n",
            "Epoch 00059: val_loss did not improve from 0.48417\n",
            "Epoch 60/100\n",
            "1002/1002 [==============================] - 2s 2ms/step - loss: 0.4237 - acc: 0.8523 - val_loss: 0.4864 - val_acc: 0.9013\n",
            "\n",
            "Epoch 00060: val_loss did not improve from 0.48417\n",
            "Epoch 61/100\n",
            "1002/1002 [==============================] - 2s 2ms/step - loss: 0.4012 - acc: 0.8752 - val_loss: 0.5090 - val_acc: 0.8822\n",
            "\n",
            "Epoch 00061: val_loss did not improve from 0.48417\n",
            "Epoch 62/100\n",
            "1002/1002 [==============================] - 2s 2ms/step - loss: 0.3732 - acc: 0.8703 - val_loss: 0.4987 - val_acc: 0.8917\n",
            "\n",
            "Epoch 00062: val_loss did not improve from 0.48417\n",
            "Epoch 63/100\n",
            "1002/1002 [==============================] - 2s 2ms/step - loss: 0.3566 - acc: 0.8862 - val_loss: 0.5532 - val_acc: 0.8822\n",
            "\n",
            "Epoch 00063: val_loss did not improve from 0.48417\n",
            "Epoch 64/100\n",
            "1002/1002 [==============================] - 2s 2ms/step - loss: 0.3855 - acc: 0.8822 - val_loss: 0.5709 - val_acc: 0.8885\n",
            "\n",
            "Epoch 00064: val_loss did not improve from 0.48417\n",
            "Epoch 65/100\n",
            "1002/1002 [==============================] - 2s 2ms/step - loss: 0.3528 - acc: 0.8822 - val_loss: 0.4553 - val_acc: 0.9045\n",
            "\n",
            "Epoch 00065: val_loss improved from 0.48417 to 0.45530, saving model to model.h5\n",
            "Epoch 66/100\n",
            "1002/1002 [==============================] - 2s 2ms/step - loss: 0.3665 - acc: 0.8852 - val_loss: 0.5207 - val_acc: 0.8917\n",
            "\n",
            "Epoch 00066: val_loss did not improve from 0.45530\n",
            "Epoch 67/100\n",
            "1002/1002 [==============================] - 2s 2ms/step - loss: 0.3819 - acc: 0.8792 - val_loss: 0.5490 - val_acc: 0.8854\n",
            "\n",
            "Epoch 00067: val_loss did not improve from 0.45530\n",
            "Epoch 68/100\n",
            "1002/1002 [==============================] - 2s 2ms/step - loss: 0.3359 - acc: 0.8962 - val_loss: 0.5146 - val_acc: 0.8854\n",
            "\n",
            "Epoch 00068: val_loss did not improve from 0.45530\n",
            "Epoch 69/100\n",
            "1002/1002 [==============================] - 2s 2ms/step - loss: 0.3359 - acc: 0.8952 - val_loss: 0.5141 - val_acc: 0.8822\n",
            "\n",
            "Epoch 00069: val_loss did not improve from 0.45530\n",
            "Epoch 70/100\n",
            "1002/1002 [==============================] - 2s 2ms/step - loss: 0.3251 - acc: 0.9062 - val_loss: 0.5422 - val_acc: 0.8854\n",
            "\n",
            "Epoch 00070: val_loss did not improve from 0.45530\n",
            "Epoch 71/100\n",
            "1002/1002 [==============================] - 2s 2ms/step - loss: 0.3394 - acc: 0.8852 - val_loss: 0.5260 - val_acc: 0.8790\n",
            "\n",
            "Epoch 00071: val_loss did not improve from 0.45530\n",
            "Epoch 72/100\n",
            "1002/1002 [==============================] - 2s 2ms/step - loss: 0.3332 - acc: 0.8962 - val_loss: 0.5364 - val_acc: 0.8854\n",
            "\n",
            "Epoch 00072: val_loss did not improve from 0.45530\n",
            "Epoch 73/100\n",
            "1002/1002 [==============================] - 2s 2ms/step - loss: 0.3334 - acc: 0.8952 - val_loss: 0.4624 - val_acc: 0.8949\n",
            "\n",
            "Epoch 00073: val_loss did not improve from 0.45530\n",
            "Epoch 74/100\n",
            "1002/1002 [==============================] - 2s 2ms/step - loss: 0.2874 - acc: 0.9102 - val_loss: 0.5171 - val_acc: 0.8822\n",
            "\n",
            "Epoch 00074: val_loss did not improve from 0.45530\n",
            "Epoch 75/100\n",
            "1002/1002 [==============================] - 2s 2ms/step - loss: 0.2854 - acc: 0.9062 - val_loss: 0.5133 - val_acc: 0.8790\n",
            "\n",
            "Epoch 00075: val_loss did not improve from 0.45530\n",
            "Epoch 76/100\n",
            "1002/1002 [==============================] - 2s 2ms/step - loss: 0.3114 - acc: 0.8992 - val_loss: 0.4696 - val_acc: 0.8949\n",
            "\n",
            "Epoch 00076: val_loss did not improve from 0.45530\n",
            "Epoch 77/100\n",
            "1002/1002 [==============================] - 2s 2ms/step - loss: 0.3137 - acc: 0.8822 - val_loss: 0.5479 - val_acc: 0.8917\n",
            "\n",
            "Epoch 00077: val_loss did not improve from 0.45530\n",
            "Epoch 78/100\n",
            "1002/1002 [==============================] - 2s 2ms/step - loss: 0.2891 - acc: 0.9052 - val_loss: 0.4533 - val_acc: 0.8949\n",
            "\n",
            "Epoch 00078: val_loss improved from 0.45530 to 0.45328, saving model to model.h5\n",
            "Epoch 79/100\n",
            "1002/1002 [==============================] - 2s 2ms/step - loss: 0.3163 - acc: 0.9032 - val_loss: 0.4805 - val_acc: 0.8981\n",
            "\n",
            "Epoch 00079: val_loss did not improve from 0.45328\n",
            "Epoch 80/100\n",
            "1002/1002 [==============================] - 2s 2ms/step - loss: 0.3110 - acc: 0.9042 - val_loss: 0.5998 - val_acc: 0.8822\n",
            "\n",
            "Epoch 00080: val_loss did not improve from 0.45328\n",
            "Epoch 81/100\n",
            "1002/1002 [==============================] - 2s 2ms/step - loss: 0.2980 - acc: 0.9012 - val_loss: 0.5050 - val_acc: 0.8885\n",
            "\n",
            "Epoch 00081: val_loss did not improve from 0.45328\n",
            "Epoch 82/100\n",
            "1002/1002 [==============================] - 2s 2ms/step - loss: 0.2805 - acc: 0.9112 - val_loss: 0.4972 - val_acc: 0.8854\n",
            "\n",
            "Epoch 00082: val_loss did not improve from 0.45328\n",
            "Epoch 83/100\n",
            "1002/1002 [==============================] - 2s 2ms/step - loss: 0.2968 - acc: 0.8972 - val_loss: 0.5240 - val_acc: 0.8885\n",
            "\n",
            "Epoch 00083: val_loss did not improve from 0.45328\n",
            "Epoch 84/100\n",
            "1002/1002 [==============================] - 2s 2ms/step - loss: 0.2729 - acc: 0.9142 - val_loss: 0.5280 - val_acc: 0.8790\n",
            "\n",
            "Epoch 00084: val_loss did not improve from 0.45328\n",
            "Epoch 85/100\n",
            "1002/1002 [==============================] - 2s 2ms/step - loss: 0.2767 - acc: 0.9202 - val_loss: 0.5627 - val_acc: 0.8885\n",
            "\n",
            "Epoch 00085: val_loss did not improve from 0.45328\n",
            "Epoch 86/100\n",
            "1002/1002 [==============================] - 2s 2ms/step - loss: 0.2918 - acc: 0.9042 - val_loss: 0.5592 - val_acc: 0.8790\n",
            "\n",
            "Epoch 00086: val_loss did not improve from 0.45328\n",
            "Epoch 87/100\n",
            "1002/1002 [==============================] - 2s 2ms/step - loss: 0.2867 - acc: 0.9102 - val_loss: 0.5227 - val_acc: 0.8917\n",
            "\n",
            "Epoch 00087: val_loss did not improve from 0.45328\n",
            "Epoch 88/100\n",
            "1002/1002 [==============================] - 2s 2ms/step - loss: 0.2737 - acc: 0.9092 - val_loss: 0.5181 - val_acc: 0.8917\n",
            "\n",
            "Epoch 00088: val_loss did not improve from 0.45328\n",
            "Epoch 89/100\n",
            "1002/1002 [==============================] - 2s 2ms/step - loss: 0.2641 - acc: 0.9052 - val_loss: 0.5085 - val_acc: 0.8949\n",
            "\n",
            "Epoch 00089: val_loss did not improve from 0.45328\n",
            "Epoch 90/100\n",
            "1002/1002 [==============================] - 2s 2ms/step - loss: 0.3053 - acc: 0.8952 - val_loss: 0.4570 - val_acc: 0.9013\n",
            "\n",
            "Epoch 00090: val_loss did not improve from 0.45328\n",
            "Epoch 91/100\n",
            "1002/1002 [==============================] - 2s 2ms/step - loss: 0.2787 - acc: 0.9072 - val_loss: 0.5484 - val_acc: 0.8790\n",
            "\n",
            "Epoch 00091: val_loss did not improve from 0.45328\n",
            "Epoch 92/100\n",
            "1002/1002 [==============================] - 2s 2ms/step - loss: 0.2398 - acc: 0.9192 - val_loss: 0.4854 - val_acc: 0.8822\n",
            "\n",
            "Epoch 00092: val_loss did not improve from 0.45328\n",
            "Epoch 93/100\n",
            "1002/1002 [==============================] - 2s 2ms/step - loss: 0.2694 - acc: 0.9122 - val_loss: 0.5026 - val_acc: 0.8854\n",
            "\n",
            "Epoch 00093: val_loss did not improve from 0.45328\n",
            "Epoch 94/100\n",
            "1002/1002 [==============================] - 2s 2ms/step - loss: 0.2651 - acc: 0.9082 - val_loss: 0.5043 - val_acc: 0.8885\n",
            "\n",
            "Epoch 00094: val_loss did not improve from 0.45328\n",
            "Epoch 95/100\n",
            "1002/1002 [==============================] - 2s 2ms/step - loss: 0.2669 - acc: 0.9052 - val_loss: 0.5020 - val_acc: 0.8854\n",
            "\n",
            "Epoch 00095: val_loss did not improve from 0.45328\n",
            "Epoch 96/100\n",
            "1002/1002 [==============================] - 2s 2ms/step - loss: 0.2651 - acc: 0.9082 - val_loss: 0.5913 - val_acc: 0.8822\n",
            "\n",
            "Epoch 00096: val_loss did not improve from 0.45328\n",
            "Epoch 97/100\n",
            "1002/1002 [==============================] - 2s 2ms/step - loss: 0.2443 - acc: 0.9152 - val_loss: 0.4928 - val_acc: 0.8854\n",
            "\n",
            "Epoch 00097: val_loss did not improve from 0.45328\n",
            "Epoch 98/100\n",
            "1002/1002 [==============================] - 2s 2ms/step - loss: 0.2374 - acc: 0.9202 - val_loss: 0.6146 - val_acc: 0.8854\n",
            "\n",
            "Epoch 00098: val_loss did not improve from 0.45328\n",
            "Epoch 99/100\n",
            "1002/1002 [==============================] - 2s 2ms/step - loss: 0.2638 - acc: 0.9142 - val_loss: 0.5016 - val_acc: 0.8885\n",
            "\n",
            "Epoch 00099: val_loss did not improve from 0.45328\n",
            "Epoch 100/100\n",
            "1002/1002 [==============================] - 2s 2ms/step - loss: 0.2109 - acc: 0.9331 - val_loss: 0.5387 - val_acc: 0.8981\n",
            "\n",
            "Epoch 00100: val_loss did not improve from 0.45328\n"
          ],
          "name": "stdout"
        }
      ]
    },
    {
      "cell_type": "code",
      "metadata": {
        "id": "XIL1xGl0iUQD"
      },
      "source": [
        " model = load_model(\"model.h5\")"
      ],
      "execution_count": null,
      "outputs": []
    },
    {
      "cell_type": "code",
      "metadata": {
        "id": "g9KN2N6viaWQ"
      },
      "source": [
        "def predictions(text):\n",
        "  \n",
        "  test_word = word_tokenize(text)\n",
        "  test_ls = word_tokenizer.texts_to_sequences(test_word)\n",
        "  print(test_word)\n",
        "  #Check for unknown words\n",
        "  if [] in test_ls:\n",
        "    test_ls = list(filter(None, test_ls))\n",
        "    \n",
        "  test_ls = np.array(test_ls).reshape(1, len(test_ls))\n",
        " \n",
        "  x = padding_doc(test_ls, max_length)\n",
        "  \n",
        "  pred = model.predict_proba(x)\n",
        "  \n",
        "  \n",
        "  return pred"
      ],
      "execution_count": null,
      "outputs": []
    },
    {
      "cell_type": "code",
      "metadata": {
        "id": "wtGPJJ0toZDh"
      },
      "source": [
        "def get_final_output(pred, classes):\n",
        "  predictions = pred[0]\n",
        " \n",
        "  classes = np.array(classes)\n",
        "  ids = np.argsort(-predictions)\n",
        "  classes = classes[ids]\n",
        "  predictions = -np.sort(-predictions)\n",
        " \n",
        "  for i in range(pred.shape[1]):\n",
        "    print(\"%s has confidence = %s\" % (classes[i], (predictions[i])))\n",
        "\n"
      ],
      "execution_count": null,
      "outputs": []
    },
    {
      "cell_type": "code",
      "metadata": {
        "id": "Cdnd-hUeodU_",
        "outputId": "bf3aa27a-6d6c-4eff-8d59-26a94280a4ed",
        "colab": {
          "base_uri": "https://localhost:8080/",
          "height": 986
        }
      },
      "source": [
        "text = \"எனது கடன்அட்டையை நான் எவ்வகையில் ரத்து செய்வது?\"\n",
        "pred = predictions(text)\n",
        "get_final_output(pred, unique_intent)"
      ],
      "execution_count": null,
      "outputs": [
        {
          "output_type": "stream",
          "text": [
            "['எனது', 'கடன்அட்டையை', 'நான்', 'எவ்வகையில்', 'ரத்து', 'செய்வது', '?']\n",
            "update_personal_details has confidence = 0.7297555\n",
            "cancel_card has confidence = 0.1370059\n",
            "card_usage has confidence = 0.04566446\n",
            "marriage_claim has confidence = 0.035796303\n",
            "bank_statement_online has confidence = 0.01790954\n",
            "change_details has confidence = 0.01752386\n",
            "selan_sure_info has confidence = 0.0040816055\n",
            "debit_card_requirement has confidence = 0.0027313554\n",
            "card_foreign_use has confidence = 0.0026993423\n",
            "SLBFE_info has confidence = 0.0020200538\n",
            "treasury_bond_important_features has confidence = 0.0017377669\n",
            "get_monthly_report has confidence = 0.0015380286\n",
            "suspious_activity has confidence = 0.00058384915\n",
            "resident_foreign_account_info has confidence = 0.00043325592\n",
            "saving_atmcard_available has confidence = 0.00012482044\n",
            "sl_development_bond_benefits has confidence = 6.587701e-05\n",
            "2in1_acoount_info has confidence = 5.6259312e-05\n",
            "loan_requirement has confidence = 4.0774892e-05\n",
            "treasury_bond_information has confidence = 3.402551e-05\n",
            "CVV_use has confidence = 2.9669709e-05\n",
            "joint_account_details has confidence = 2.673904e-05\n",
            "2in1_atm_card has confidence = 2.5293644e-05\n",
            "card_machine_repair has confidence = 2.4594097e-05\n",
            "tikiri_required_docs has confidence = 2.3434462e-05\n",
            "card_automatic_renewal has confidence = 1.71797e-05\n",
            "NRFC_info has confidence = 1.4156915e-05\n",
            "new_card_reader_cost has confidence = 1.1534753e-05\n",
            "repos_benefits has confidence = 5.6198473e-06\n",
            "FCAISPE_required_docs has confidence = 4.0790196e-06\n",
            "account_currency has confidence = 3.5400558e-06\n",
            "precashing_foreign_fixed_deposit has confidence = 2.9357386e-06\n",
            "2in1_interest_receiving has confidence = 1.7788706e-06\n",
            "internet_bank_loan_amount has confidence = 1.6547252e-06\n",
            "NRFC_account_opening has confidence = 1.3424599e-06\n",
            "foreign_account_lkr_withdrawal has confidence = 1.2044158e-06\n",
            "tikiri_gift_voucher_validity has confidence = 7.1983044e-07\n",
            "treasury_bond_advantage has confidence = 5.6705045e-07\n",
            "tikiri_gift_voucher_redeem has confidence = 5.324386e-07\n",
            "get_lc_form has confidence = 4.9141005e-07\n",
            "interest_credit_info has confidence = 7.367246e-08\n",
            "tikiri_gift_voucher_per_person has confidence = 6.214075e-08\n",
            "2in1_pass_book has confidence = 4.7547196e-08\n",
            "foreign_deposit_loan has confidence = 4.1619664e-08\n",
            "tikiri_gift_voucher_withdrawal has confidence = 4.1290896e-08\n",
            "foreign_currency_withdrawal has confidence = 2.5563633e-08\n",
            "housing_loan_documents has confidence = 1.9665512e-08\n",
            "2in1_min_balance has confidence = 1.0454021e-08\n",
            "tikiri_gift_voucher_min_amount has confidence = 5.3608002e-09\n",
            "seylan_tikiri_minimum_deposit has confidence = 4.73759e-09\n",
            "housing_loan_purpose has confidence = 3.0055998e-09\n",
            "tikiri_gift_voucher_age_limit has confidence = 1.8502734e-09\n",
            "new_saving_book has confidence = 1.4602514e-09\n",
            "foreign_currency_withdrawal_currency has confidence = 1.3095453e-09\n",
            "tikiri_gift_voucher_buying_info has confidence = 9.183273e-10\n",
            "tikiri_gift_voucher_info has confidence = 1.6953038e-10\n",
            "life_insurance_limit has confidence = 1.6075048e-10\n"
          ],
          "name": "stdout"
        }
      ]
    },
    {
      "cell_type": "code",
      "metadata": {
        "id": "ApOOs_cxsu1f",
        "outputId": "8254f9ca-3312-40aa-8653-f6c3d22f932f",
        "colab": {
          "base_uri": "https://localhost:8080/",
          "height": 51
        }
      },
      "source": [
        "\n",
        "print(model.test_on_batch(test_X ,test_Y))\n",
        "model.metrics_names"
      ],
      "execution_count": null,
      "outputs": [
        {
          "output_type": "stream",
          "text": [
            "[0.53003687, 0.9123506]\n"
          ],
          "name": "stdout"
        },
        {
          "output_type": "execute_result",
          "data": {
            "text/plain": [
              "['loss', 'acc']"
            ]
          },
          "metadata": {
            "tags": []
          },
          "execution_count": 170
        }
      ]
    }
  ]
}