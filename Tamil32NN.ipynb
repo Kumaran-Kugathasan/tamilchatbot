{
  "nbformat": 4,
  "nbformat_minor": 0,
  "metadata": {
    "colab": {
      "name": "Tamil32NN.ipynb",
      "provenance": [],
      "authorship_tag": "ABX9TyMtCqX6bZpE2IiGXhLOAm1P"
    },
    "kernelspec": {
      "name": "python3",
      "display_name": "Python 3"
    },
    "accelerator": "TPU"
  },
  "cells": [
    {
      "cell_type": "code",
      "metadata": {
        "id": "37XMOSAOU4ug",
        "outputId": "ebaa123e-fde4-439c-f712-3e4004773ef1",
        "colab": {
          "base_uri": "https://localhost:8080/",
          "height": 34
        }
      },
      "source": [
        "import numpy as np\n",
        "%tensorflow_version 1.x\n",
        "import pandas as pd\n",
        "from nltk.corpus import stopwords\n",
        "from nltk.tokenize import word_tokenize\n",
        "from nltk.stem.lancaster import LancasterStemmer\n",
        "import nltk\n",
        "import re\n",
        "from sklearn.preprocessing import OneHotEncoder\n",
        "import matplotlib.pyplot as plt\n",
        "from keras.preprocessing.text import Tokenizer\n",
        "from keras.preprocessing.sequence import pad_sequences\n",
        "from keras.utils import to_categorical\n",
        "from keras.models import Sequential, load_model\n",
        "from keras.layers import Dense, LSTM, Bidirectional, Embedding, Dropout\n",
        "from keras.callbacks import ModelCheckpoint"
      ],
      "execution_count": null,
      "outputs": [
        {
          "output_type": "stream",
          "text": [
            "TensorFlow is already loaded. Please restart the runtime to change versions.\n"
          ],
          "name": "stdout"
        }
      ]
    },
    {
      "cell_type": "code",
      "metadata": {
        "id": "mPE3NXeSVtmj"
      },
      "source": [
        "import pandas as pd\n",
        "def load_dataset(filename):\n",
        "  df = pd.read_csv(filename, encoding = \"utf-8\",\n",
        "       names = [\"Sentence\", \"Intent\"])\n",
        "  intent = df[\"Intent\"]\n",
        "  unique_intent = list(set(intent))\n",
        "  sentences = list(df[\"Sentence\"])\n",
        "  \n",
        "  return (intent, unique_intent, sentences)"
      ],
      "execution_count": null,
      "outputs": []
    },
    {
      "cell_type": "code",
      "metadata": {
        "id": "bGqqZ3l4WF5O"
      },
      "source": [
        "intent, unique_intent, sentences = load_dataset(\"/content/bank.csv\")"
      ],
      "execution_count": null,
      "outputs": []
    },
    {
      "cell_type": "code",
      "metadata": {
        "id": "n4YnnZ6IWhvK",
        "outputId": "5bd67ba9-495a-4e94-b411-96d598e26b34",
        "colab": {
          "base_uri": "https://localhost:8080/",
          "height": 119
        }
      },
      "source": [
        "print(intent[:5])"
      ],
      "execution_count": null,
      "outputs": [
        {
          "output_type": "stream",
          "text": [
            "0    2in1_acoount_info\n",
            "1    2in1_acoount_info\n",
            "2    2in1_acoount_info\n",
            "3    2in1_acoount_info\n",
            "4    2in1_acoount_info\n",
            "Name: Intent, dtype: object\n"
          ],
          "name": "stdout"
        }
      ]
    },
    {
      "cell_type": "code",
      "metadata": {
        "id": "ufy7zZXWWyjJ",
        "outputId": "44fb42b0-114f-44db-f1ea-8eb537d79e11",
        "colab": {
          "base_uri": "https://localhost:8080/",
          "height": 51
        }
      },
      "source": [
        "nltk.download(\"punkt\")\n",
        "def cleaning(sentences):\n",
        "  words = [] \n",
        "  for s in sentences:\n",
        "    w = word_tokenize(s)\n",
        "    words.append([i for i in w])     \n",
        "  return words  "
      ],
      "execution_count": null,
      "outputs": [
        {
          "output_type": "stream",
          "text": [
            "[nltk_data] Downloading package punkt to /root/nltk_data...\n",
            "[nltk_data]   Package punkt is already up-to-date!\n"
          ],
          "name": "stdout"
        }
      ]
    },
    {
      "cell_type": "code",
      "metadata": {
        "id": "W8N4GXnqYKcy",
        "outputId": "3586a2c7-fb3f-48d0-d2c3-f83a262ecd38",
        "colab": {
          "base_uri": "https://localhost:8080/",
          "height": 88
        }
      },
      "source": [
        "cleaned_words = cleaning(sentences)\n",
        "print(len(cleaned_words))\n",
        "print(cleaned_words[:2])  \n",
        "print(len(sentences))"
      ],
      "execution_count": null,
      "outputs": [
        {
          "output_type": "stream",
          "text": [
            "1567\n",
            "[['நான்', '2in1', 'கணக்கில்', 'சேமிப்பது', 'எப்படி', '?'], ['2in1', 'கணக்கில்', 'நான்', 'சேமிப்பது', 'எப்படி', '?']]\n",
            "1567\n"
          ],
          "name": "stdout"
        }
      ]
    },
    {
      "cell_type": "code",
      "metadata": {
        "id": "QwgeL5dWcwLI"
      },
      "source": [
        "def create_tokenizer(words, filters = '!\"#$%&()*+,-./:;<=>?@[\\]^_`{|}~'):\n",
        "  token = Tokenizer(filters = filters)\n",
        "  token.fit_on_texts(words)\n",
        "  return token"
      ],
      "execution_count": null,
      "outputs": []
    },
    {
      "cell_type": "code",
      "metadata": {
        "id": "0yJr6j3zc2NH"
      },
      "source": [
        "def max_length(words):\n",
        "  return(len(max(words, key = len)))"
      ],
      "execution_count": null,
      "outputs": []
    },
    {
      "cell_type": "code",
      "metadata": {
        "id": "fGFv3Wz1c3h8",
        "outputId": "f5a9b91b-d47f-4aa0-cf8b-c3103eff3d18",
        "colab": {
          "base_uri": "https://localhost:8080/",
          "height": 34
        }
      },
      "source": [
        "word_tokenizer = create_tokenizer(cleaned_words)\n",
        "vocab_size = len(word_tokenizer.word_index) + 1\n",
        "max_length = max_length(cleaned_words)\n",
        "\n",
        "print(\"Vocab Size = %d and Maximum length = %d\" % (vocab_size, max_length))"
      ],
      "execution_count": null,
      "outputs": [
        {
          "output_type": "stream",
          "text": [
            "Vocab Size = 1141 and Maximum length = 22\n"
          ],
          "name": "stdout"
        }
      ]
    },
    {
      "cell_type": "code",
      "metadata": {
        "id": "HkLPLsZudGFP"
      },
      "source": [
        "def encoding_doc(token, words):\n",
        "  return(token.texts_to_sequences(words))"
      ],
      "execution_count": null,
      "outputs": []
    },
    {
      "cell_type": "code",
      "metadata": {
        "id": "tUFlvGmBdW_7"
      },
      "source": [
        "encoded_doc = encoding_doc(word_tokenizer, cleaned_words)"
      ],
      "execution_count": null,
      "outputs": []
    },
    {
      "cell_type": "code",
      "metadata": {
        "id": "GMhHK_fAdbEJ"
      },
      "source": [
        "def padding_doc(encoded_doc, max_length):\n",
        "  return(pad_sequences(encoded_doc, maxlen = max_length, padding = \"post\"))"
      ],
      "execution_count": null,
      "outputs": []
    },
    {
      "cell_type": "code",
      "metadata": {
        "id": "nztJIy7vdceo"
      },
      "source": [
        "padded_doc = padding_doc(encoded_doc, max_length)"
      ],
      "execution_count": null,
      "outputs": []
    },
    {
      "cell_type": "code",
      "metadata": {
        "id": "96UW6oSQdh4Q",
        "outputId": "63999493-5dd5-4dc5-e501-921b4b5088e3",
        "colab": {
          "base_uri": "https://localhost:8080/",
          "height": 187
        }
      },
      "source": [
        "padded_doc[:5]"
      ],
      "execution_count": null,
      "outputs": [
        {
          "output_type": "execute_result",
          "data": {
            "text/plain": [
              "array([[  3,  45,  62, 348,  11,   1,   0,   0,   0,   0,   0,   0,   0,\n",
              "          0,   0,   0,   0,   0,   0,   0,   0,   0],\n",
              "       [ 45,  62,   3, 348,  11,   1,   0,   0,   0,   0,   0,   0,   0,\n",
              "          0,   0,   0,   0,   0,   0,   0,   0,   0],\n",
              "       [ 11,   3,  45,  62, 348,   1,   0,   0,   0,   0,   0,   0,   0,\n",
              "          0,   0,   0,   0,   0,   0,   0,   0,   0],\n",
              "       [  3,  11,  45,  62, 348,   1,   0,   0,   0,   0,   0,   0,   0,\n",
              "          0,   0,   0,   0,   0,   0,   0,   0,   0],\n",
              "       [ 45,  62,   3, 587, 287,   2,   1,   0,   0,   0,   0,   0,   0,\n",
              "          0,   0,   0,   0,   0,   0,   0,   0,   0]], dtype=int32)"
            ]
          },
          "metadata": {
            "tags": []
          },
          "execution_count": 145
        }
      ]
    },
    {
      "cell_type": "code",
      "metadata": {
        "id": "9c7J1AK8dozB",
        "outputId": "93d8cc4a-3ee1-4176-b305-6ff7cb2e673a",
        "colab": {
          "base_uri": "https://localhost:8080/",
          "height": 34
        }
      },
      "source": [
        "print(\"Shape of padded docs = \",padded_doc.shape)"
      ],
      "execution_count": null,
      "outputs": [
        {
          "output_type": "stream",
          "text": [
            "Shape of padded docs =  (1567, 22)\n"
          ],
          "name": "stdout"
        }
      ]
    },
    {
      "cell_type": "code",
      "metadata": {
        "id": "CTIwsFBqeHPE"
      },
      "source": [
        "#tokenizer with filter changed\n",
        "output_tokenizer = create_tokenizer(unique_intent, filters = '!\"#$%&()*+,-/:;<=>?@[\\]^`{|}~')"
      ],
      "execution_count": null,
      "outputs": []
    },
    {
      "cell_type": "code",
      "metadata": {
        "id": "Xr1LmLrWeLnz",
        "outputId": "db6a2379-c013-46a2-8b7c-04daa9ad41d1",
        "colab": {
          "base_uri": "https://localhost:8080/",
          "height": 969
        }
      },
      "source": [
        "output_tokenizer.word_index"
      ],
      "execution_count": null,
      "outputs": [
        {
          "output_type": "execute_result",
          "data": {
            "text/plain": [
              "{'2in1_acoount_info': 11,\n",
              " '2in1_atm_card': 33,\n",
              " '2in1_interest_receiving': 16,\n",
              " '2in1_min_balance': 23,\n",
              " '2in1_pass_book': 56,\n",
              " 'account_currency': 24,\n",
              " 'bank_statement_online': 46,\n",
              " 'cancel_card': 4,\n",
              " 'card_automatic_renewal': 47,\n",
              " 'card_foreign_use': 5,\n",
              " 'card_machine_repair': 27,\n",
              " 'card_usage': 51,\n",
              " 'change_details': 3,\n",
              " 'cvv_use': 10,\n",
              " 'debit_card_requirement': 12,\n",
              " 'fcaispe_required_docs': 26,\n",
              " 'foreign_account_lkr_withdrawal': 20,\n",
              " 'foreign_currency_withdrawal': 1,\n",
              " 'foreign_currency_withdrawal_currency': 25,\n",
              " 'foreign_deposit_loan': 35,\n",
              " 'get_lc_form': 31,\n",
              " 'get_monthly_report': 13,\n",
              " 'housing_loan_documents': 32,\n",
              " 'housing_loan_purpose': 54,\n",
              " 'interest_credit_info': 38,\n",
              " 'internet_bank_loan_amount': 42,\n",
              " 'joint_account_details': 6,\n",
              " 'life_insurance_limit': 29,\n",
              " 'loan_requirement': 15,\n",
              " 'marriage_claim': 30,\n",
              " 'new_card_reader_cost': 50,\n",
              " 'new_saving_book': 52,\n",
              " 'nrfc_account_opening': 53,\n",
              " 'nrfc_info': 55,\n",
              " 'precashing_foreign_fixed_deposit': 34,\n",
              " 'repos_benefits': 36,\n",
              " 'resident_foreign_account_info': 44,\n",
              " 'saving_atmcard_available': 2,\n",
              " 'selan_sure_info': 17,\n",
              " 'seylan_tikiri_minimum_deposit': 18,\n",
              " 'sl_development_bond_benefits': 37,\n",
              " 'slbfe_info': 9,\n",
              " 'suspious_activity': 39,\n",
              " 'tikiri_gift_voucher_age_limit': 19,\n",
              " 'tikiri_gift_voucher_buying_info': 21,\n",
              " 'tikiri_gift_voucher_info': 7,\n",
              " 'tikiri_gift_voucher_min_amount': 14,\n",
              " 'tikiri_gift_voucher_per_person': 22,\n",
              " 'tikiri_gift_voucher_redeem': 41,\n",
              " 'tikiri_gift_voucher_validity': 45,\n",
              " 'tikiri_gift_voucher_withdrawal': 28,\n",
              " 'tikiri_required_docs': 43,\n",
              " 'treasury_bond_advantage': 8,\n",
              " 'treasury_bond_important_features': 40,\n",
              " 'treasury_bond_information': 48,\n",
              " 'update_personal_details': 49}"
            ]
          },
          "metadata": {
            "tags": []
          },
          "execution_count": 148
        }
      ]
    },
    {
      "cell_type": "code",
      "metadata": {
        "id": "cnAAOGnueWk8"
      },
      "source": [
        "encoded_output = encoding_doc(output_tokenizer, intent)"
      ],
      "execution_count": null,
      "outputs": []
    },
    {
      "cell_type": "code",
      "metadata": {
        "id": "Z6ZTSOXbeaU-"
      },
      "source": [
        "encoded_output = np.array(encoded_output).reshape(len(encoded_output), 1)"
      ],
      "execution_count": null,
      "outputs": []
    },
    {
      "cell_type": "code",
      "metadata": {
        "id": "AO3baU22ehDd",
        "outputId": "8048423b-57bc-4c86-a3d3-fc676bacc537",
        "colab": {
          "base_uri": "https://localhost:8080/",
          "height": 34
        }
      },
      "source": [
        "encoded_output.shape"
      ],
      "execution_count": null,
      "outputs": [
        {
          "output_type": "execute_result",
          "data": {
            "text/plain": [
              "(1567, 1)"
            ]
          },
          "metadata": {
            "tags": []
          },
          "execution_count": 151
        }
      ]
    },
    {
      "cell_type": "code",
      "metadata": {
        "id": "dQKN1NG9ekZX"
      },
      "source": [
        "def one_hot(encode):\n",
        "  o = OneHotEncoder(sparse = False)\n",
        "  return(o.fit_transform(encode))"
      ],
      "execution_count": null,
      "outputs": []
    },
    {
      "cell_type": "code",
      "metadata": {
        "id": "9J_Rnp9neovf"
      },
      "source": [
        "output_one_hot = one_hot(encoded_output)"
      ],
      "execution_count": null,
      "outputs": []
    },
    {
      "cell_type": "code",
      "metadata": {
        "id": "POdbSVHyerrC",
        "outputId": "90666d30-7f87-44f7-b8ea-081140022a25",
        "colab": {
          "base_uri": "https://localhost:8080/",
          "height": 34
        }
      },
      "source": [
        "output_one_hot.shape"
      ],
      "execution_count": null,
      "outputs": [
        {
          "output_type": "execute_result",
          "data": {
            "text/plain": [
              "(1567, 56)"
            ]
          },
          "metadata": {
            "tags": []
          },
          "execution_count": 154
        }
      ]
    },
    {
      "cell_type": "code",
      "metadata": {
        "id": "MHYO6k-1evbX"
      },
      "source": [
        "from sklearn.model_selection import train_test_split"
      ],
      "execution_count": null,
      "outputs": []
    },
    {
      "cell_type": "code",
      "metadata": {
        "id": "EwgQclLNewsZ"
      },
      "source": [
        "train_X, val_X, train_Y, val_Y = train_test_split(padded_doc, output_one_hot, shuffle = True, test_size = 0.3,  random_state=1, stratify=y)\n",
        "train_X, test_X, train_Y, test_Y = train_test_split(train_X, train_Y, shuffle = True, test_size = 0.3, random_state=1, stratify=y)"
      ],
      "execution_count": null,
      "outputs": []
    },
    {
      "cell_type": "code",
      "metadata": {
        "id": "ovNmNRFhe0o6",
        "outputId": "9355fc14-e5bc-4e26-ce9a-c87ce5e8c0eb",
        "colab": {
          "base_uri": "https://localhost:8080/",
          "height": 68
        }
      },
      "source": [
        "print(\"Shape of train_X = %s and train_Y = %s\" % (train_X.shape, train_Y.shape))\n",
        "print(\"Shape of val_X = %s and val_Y = %s\" % (val_X.shape, val_Y.shape))\n",
        "print(\"Shape of test_X = %s and test_Y = %s\" % (val_X.shape, val_Y.shape))"
      ],
      "execution_count": null,
      "outputs": [
        {
          "output_type": "stream",
          "text": [
            "Shape of train_X = (1002, 22) and train_Y = (1002, 56)\n",
            "Shape of val_X = (314, 22) and val_Y = (314, 56)\n",
            "Shape of test_X = (314, 22) and test_Y = (314, 56)\n"
          ],
          "name": "stdout"
        }
      ]
    },
    {
      "cell_type": "code",
      "metadata": {
        "id": "qSRLYP3qe56h"
      },
      "source": [
        "def create_model(vocab_size, max_length):\n",
        "  model = Sequential()\n",
        "  model.add(Embedding(vocab_size, 300, input_length = max_length, trainable = False))\n",
        "  model.add(Bidirectional(LSTM(32)))\n",
        "#   model.add(LSTM(128))\n",
        "  model.add(Dense(32, activation = \"relu\"))\n",
        "  model.add(Dropout(0.5))\n",
        "  model.add(Dense(56, activation = \"softmax\"))\n",
        "  \n",
        "  return model"
      ],
      "execution_count": null,
      "outputs": []
    },
    {
      "cell_type": "code",
      "metadata": {
        "id": "nDbMkC6pe_5J",
        "outputId": "e17cfcf4-5ad1-45e2-9a49-67daac94d095",
        "colab": {
          "base_uri": "https://localhost:8080/",
          "height": 323
        }
      },
      "source": [
        "model = create_model(vocab_size, max_length)\n",
        "\n",
        "model.compile(loss = \"categorical_crossentropy\", optimizer = \"adam\", metrics = [\"accuracy\"])\n",
        "model.summary()"
      ],
      "execution_count": null,
      "outputs": [
        {
          "output_type": "stream",
          "text": [
            "Model: \"sequential_5\"\n",
            "_________________________________________________________________\n",
            "Layer (type)                 Output Shape              Param #   \n",
            "=================================================================\n",
            "embedding_5 (Embedding)      (None, 22, 300)           342300    \n",
            "_________________________________________________________________\n",
            "bidirectional_5 (Bidirection (None, 64)                85248     \n",
            "_________________________________________________________________\n",
            "dense_9 (Dense)              (None, 32)                2080      \n",
            "_________________________________________________________________\n",
            "dropout_5 (Dropout)          (None, 32)                0         \n",
            "_________________________________________________________________\n",
            "dense_10 (Dense)             (None, 56)                1848      \n",
            "=================================================================\n",
            "Total params: 431,476\n",
            "Trainable params: 89,176\n",
            "Non-trainable params: 342,300\n",
            "_________________________________________________________________\n"
          ],
          "name": "stdout"
        }
      ]
    },
    {
      "cell_type": "code",
      "metadata": {
        "id": "FZaglVqnfGtp",
        "outputId": "f9cb336d-b825-4076-cab8-eb977a27304e",
        "colab": {
          "base_uri": "https://localhost:8080/",
          "height": 1000
        }
      },
      "source": [
        "filename = 'model.h5'\n",
        "checkpoint = ModelCheckpoint(filename, monitor='val_loss', verbose=1, save_best_only=True, mode='min')\n",
        "\n",
        "hist = model.fit(train_X, train_Y, epochs = 100, batch_size = 32, validation_data = (val_X, val_Y), callbacks = [checkpoint])"
      ],
      "execution_count": null,
      "outputs": [
        {
          "output_type": "stream",
          "text": [
            "Train on 1002 samples, validate on 314 samples\n",
            "Epoch 1/100\n",
            "1002/1002 [==============================] - 5s 5ms/step - loss: 4.0072 - acc: 0.0419 - val_loss: 3.9795 - val_acc: 0.0892\n",
            "\n",
            "Epoch 00001: val_loss improved from inf to 3.97945, saving model to model.h5\n",
            "Epoch 2/100\n",
            "1002/1002 [==============================] - 1s 1ms/step - loss: 3.9340 - acc: 0.0599 - val_loss: 3.8773 - val_acc: 0.0860\n",
            "\n",
            "Epoch 00002: val_loss improved from 3.97945 to 3.87727, saving model to model.h5\n",
            "Epoch 3/100\n",
            "1002/1002 [==============================] - 1s 1ms/step - loss: 3.8201 - acc: 0.0719 - val_loss: 3.7787 - val_acc: 0.1242\n",
            "\n",
            "Epoch 00003: val_loss improved from 3.87727 to 3.77871, saving model to model.h5\n",
            "Epoch 4/100\n",
            "1002/1002 [==============================] - 1s 1ms/step - loss: 3.6953 - acc: 0.0988 - val_loss: 3.6585 - val_acc: 0.1146\n",
            "\n",
            "Epoch 00004: val_loss improved from 3.77871 to 3.65853, saving model to model.h5\n",
            "Epoch 5/100\n",
            "1002/1002 [==============================] - 1s 1ms/step - loss: 3.5489 - acc: 0.1088 - val_loss: 3.5353 - val_acc: 0.1019\n",
            "\n",
            "Epoch 00005: val_loss improved from 3.65853 to 3.53526, saving model to model.h5\n",
            "Epoch 6/100\n",
            "1002/1002 [==============================] - 1s 1ms/step - loss: 3.4579 - acc: 0.1377 - val_loss: 3.3698 - val_acc: 0.1115\n",
            "\n",
            "Epoch 00006: val_loss improved from 3.53526 to 3.36978, saving model to model.h5\n",
            "Epoch 7/100\n",
            "1002/1002 [==============================] - 1s 1ms/step - loss: 3.2793 - acc: 0.1457 - val_loss: 3.2379 - val_acc: 0.2261\n",
            "\n",
            "Epoch 00007: val_loss improved from 3.36978 to 3.23792, saving model to model.h5\n",
            "Epoch 8/100\n",
            "1002/1002 [==============================] - 1s 1ms/step - loss: 3.1261 - acc: 0.1727 - val_loss: 3.1151 - val_acc: 0.2516\n",
            "\n",
            "Epoch 00008: val_loss improved from 3.23792 to 3.11514, saving model to model.h5\n",
            "Epoch 9/100\n",
            "1002/1002 [==============================] - 1s 1ms/step - loss: 3.0271 - acc: 0.2206 - val_loss: 2.9310 - val_acc: 0.2962\n",
            "\n",
            "Epoch 00009: val_loss improved from 3.11514 to 2.93102, saving model to model.h5\n",
            "Epoch 10/100\n",
            "1002/1002 [==============================] - 1s 1ms/step - loss: 2.9256 - acc: 0.2445 - val_loss: 2.8485 - val_acc: 0.3185\n",
            "\n",
            "Epoch 00010: val_loss improved from 2.93102 to 2.84849, saving model to model.h5\n",
            "Epoch 11/100\n",
            "1002/1002 [==============================] - 1s 1ms/step - loss: 2.8163 - acc: 0.2485 - val_loss: 2.6907 - val_acc: 0.3599\n",
            "\n",
            "Epoch 00011: val_loss improved from 2.84849 to 2.69069, saving model to model.h5\n",
            "Epoch 12/100\n",
            "1002/1002 [==============================] - 1s 1ms/step - loss: 2.6751 - acc: 0.3054 - val_loss: 2.5340 - val_acc: 0.4076\n",
            "\n",
            "Epoch 00012: val_loss improved from 2.69069 to 2.53397, saving model to model.h5\n",
            "Epoch 13/100\n",
            "1002/1002 [==============================] - 1s 1ms/step - loss: 2.5837 - acc: 0.2984 - val_loss: 2.5162 - val_acc: 0.4522\n",
            "\n",
            "Epoch 00013: val_loss improved from 2.53397 to 2.51624, saving model to model.h5\n",
            "Epoch 14/100\n",
            "1002/1002 [==============================] - 1s 1ms/step - loss: 2.4649 - acc: 0.3693 - val_loss: 2.3600 - val_acc: 0.4650\n",
            "\n",
            "Epoch 00014: val_loss improved from 2.51624 to 2.35998, saving model to model.h5\n",
            "Epoch 15/100\n",
            "1002/1002 [==============================] - 1s 1ms/step - loss: 2.3958 - acc: 0.3603 - val_loss: 2.2659 - val_acc: 0.4809\n",
            "\n",
            "Epoch 00015: val_loss improved from 2.35998 to 2.26593, saving model to model.h5\n",
            "Epoch 16/100\n",
            "1002/1002 [==============================] - 1s 1ms/step - loss: 2.2911 - acc: 0.3872 - val_loss: 2.1820 - val_acc: 0.4904\n",
            "\n",
            "Epoch 00016: val_loss improved from 2.26593 to 2.18204, saving model to model.h5\n",
            "Epoch 17/100\n",
            "1002/1002 [==============================] - 1s 1ms/step - loss: 2.2252 - acc: 0.4022 - val_loss: 2.0620 - val_acc: 0.5223\n",
            "\n",
            "Epoch 00017: val_loss improved from 2.18204 to 2.06199, saving model to model.h5\n",
            "Epoch 18/100\n",
            "1002/1002 [==============================] - 1s 1ms/step - loss: 2.1796 - acc: 0.4132 - val_loss: 2.0926 - val_acc: 0.5350\n",
            "\n",
            "Epoch 00018: val_loss did not improve from 2.06199\n",
            "Epoch 19/100\n",
            "1002/1002 [==============================] - 1s 1ms/step - loss: 2.1166 - acc: 0.4251 - val_loss: 1.9856 - val_acc: 0.5446\n",
            "\n",
            "Epoch 00019: val_loss improved from 2.06199 to 1.98559, saving model to model.h5\n",
            "Epoch 20/100\n",
            "1002/1002 [==============================] - 1s 1ms/step - loss: 2.0683 - acc: 0.4132 - val_loss: 1.9088 - val_acc: 0.5032\n",
            "\n",
            "Epoch 00020: val_loss improved from 1.98559 to 1.90881, saving model to model.h5\n",
            "Epoch 21/100\n",
            "1002/1002 [==============================] - 1s 1ms/step - loss: 1.9953 - acc: 0.4491 - val_loss: 1.8377 - val_acc: 0.5478\n",
            "\n",
            "Epoch 00021: val_loss improved from 1.90881 to 1.83772, saving model to model.h5\n",
            "Epoch 22/100\n",
            "1002/1002 [==============================] - 1s 1ms/step - loss: 1.9306 - acc: 0.4621 - val_loss: 1.7944 - val_acc: 0.5701\n",
            "\n",
            "Epoch 00022: val_loss improved from 1.83772 to 1.79438, saving model to model.h5\n",
            "Epoch 23/100\n",
            "1002/1002 [==============================] - 1s 1ms/step - loss: 1.8479 - acc: 0.4860 - val_loss: 1.6999 - val_acc: 0.5987\n",
            "\n",
            "Epoch 00023: val_loss improved from 1.79438 to 1.69985, saving model to model.h5\n",
            "Epoch 24/100\n",
            "1002/1002 [==============================] - 1s 1ms/step - loss: 1.8243 - acc: 0.4731 - val_loss: 1.6615 - val_acc: 0.5955\n",
            "\n",
            "Epoch 00024: val_loss improved from 1.69985 to 1.66152, saving model to model.h5\n",
            "Epoch 25/100\n",
            "1002/1002 [==============================] - 1s 1ms/step - loss: 1.7213 - acc: 0.5259 - val_loss: 1.6042 - val_acc: 0.5828\n",
            "\n",
            "Epoch 00025: val_loss improved from 1.66152 to 1.60416, saving model to model.h5\n",
            "Epoch 26/100\n",
            "1002/1002 [==============================] - 1s 1ms/step - loss: 1.6481 - acc: 0.5379 - val_loss: 1.5803 - val_acc: 0.6242\n",
            "\n",
            "Epoch 00026: val_loss improved from 1.60416 to 1.58027, saving model to model.h5\n",
            "Epoch 27/100\n",
            "1002/1002 [==============================] - 1s 1ms/step - loss: 1.6306 - acc: 0.5230 - val_loss: 1.5313 - val_acc: 0.6306\n",
            "\n",
            "Epoch 00027: val_loss improved from 1.58027 to 1.53126, saving model to model.h5\n",
            "Epoch 28/100\n",
            "1002/1002 [==============================] - 1s 1ms/step - loss: 1.5905 - acc: 0.5469 - val_loss: 1.4375 - val_acc: 0.6529\n",
            "\n",
            "Epoch 00028: val_loss improved from 1.53126 to 1.43754, saving model to model.h5\n",
            "Epoch 29/100\n",
            "1002/1002 [==============================] - 1s 1ms/step - loss: 1.5238 - acc: 0.5539 - val_loss: 1.3931 - val_acc: 0.6911\n",
            "\n",
            "Epoch 00029: val_loss improved from 1.43754 to 1.39311, saving model to model.h5\n",
            "Epoch 30/100\n",
            "1002/1002 [==============================] - 1s 1ms/step - loss: 1.4987 - acc: 0.5589 - val_loss: 1.3658 - val_acc: 0.6720\n",
            "\n",
            "Epoch 00030: val_loss improved from 1.39311 to 1.36580, saving model to model.h5\n",
            "Epoch 31/100\n",
            "1002/1002 [==============================] - 1s 1ms/step - loss: 1.4918 - acc: 0.5619 - val_loss: 1.3264 - val_acc: 0.6592\n",
            "\n",
            "Epoch 00031: val_loss improved from 1.36580 to 1.32644, saving model to model.h5\n",
            "Epoch 32/100\n",
            "1002/1002 [==============================] - 1s 1ms/step - loss: 1.4090 - acc: 0.5908 - val_loss: 1.2926 - val_acc: 0.6688\n",
            "\n",
            "Epoch 00032: val_loss improved from 1.32644 to 1.29263, saving model to model.h5\n",
            "Epoch 33/100\n",
            "1002/1002 [==============================] - 1s 1ms/step - loss: 1.3972 - acc: 0.5749 - val_loss: 1.2514 - val_acc: 0.6783\n",
            "\n",
            "Epoch 00033: val_loss improved from 1.29263 to 1.25144, saving model to model.h5\n",
            "Epoch 34/100\n",
            "1002/1002 [==============================] - 1s 1ms/step - loss: 1.2974 - acc: 0.6128 - val_loss: 1.2034 - val_acc: 0.7197\n",
            "\n",
            "Epoch 00034: val_loss improved from 1.25144 to 1.20342, saving model to model.h5\n",
            "Epoch 35/100\n",
            "1002/1002 [==============================] - 1s 1ms/step - loss: 1.3117 - acc: 0.6088 - val_loss: 1.1717 - val_acc: 0.7038\n",
            "\n",
            "Epoch 00035: val_loss improved from 1.20342 to 1.17166, saving model to model.h5\n",
            "Epoch 36/100\n",
            "1002/1002 [==============================] - 1s 1ms/step - loss: 1.2551 - acc: 0.6307 - val_loss: 1.1620 - val_acc: 0.7006\n",
            "\n",
            "Epoch 00036: val_loss improved from 1.17166 to 1.16199, saving model to model.h5\n",
            "Epoch 37/100\n",
            "1002/1002 [==============================] - 1s 1ms/step - loss: 1.3225 - acc: 0.6158 - val_loss: 1.1128 - val_acc: 0.7420\n",
            "\n",
            "Epoch 00037: val_loss improved from 1.16199 to 1.11277, saving model to model.h5\n",
            "Epoch 38/100\n",
            "1002/1002 [==============================] - 1s 1ms/step - loss: 1.2327 - acc: 0.6277 - val_loss: 1.0532 - val_acc: 0.7484\n",
            "\n",
            "Epoch 00038: val_loss improved from 1.11277 to 1.05320, saving model to model.h5\n",
            "Epoch 39/100\n",
            "1002/1002 [==============================] - 1s 1ms/step - loss: 1.1620 - acc: 0.6477 - val_loss: 1.0621 - val_acc: 0.7166\n",
            "\n",
            "Epoch 00039: val_loss did not improve from 1.05320\n",
            "Epoch 40/100\n",
            "1002/1002 [==============================] - 1s 1ms/step - loss: 1.1408 - acc: 0.6507 - val_loss: 1.0210 - val_acc: 0.7452\n",
            "\n",
            "Epoch 00040: val_loss improved from 1.05320 to 1.02105, saving model to model.h5\n",
            "Epoch 41/100\n",
            "1002/1002 [==============================] - 1s 1ms/step - loss: 1.1095 - acc: 0.6647 - val_loss: 0.9994 - val_acc: 0.7548\n",
            "\n",
            "Epoch 00041: val_loss improved from 1.02105 to 0.99936, saving model to model.h5\n",
            "Epoch 42/100\n",
            "1002/1002 [==============================] - 1s 1ms/step - loss: 1.0785 - acc: 0.6607 - val_loss: 1.0240 - val_acc: 0.7420\n",
            "\n",
            "Epoch 00042: val_loss did not improve from 0.99936\n",
            "Epoch 43/100\n",
            "1002/1002 [==============================] - 1s 1ms/step - loss: 1.0603 - acc: 0.6856 - val_loss: 0.9974 - val_acc: 0.7516\n",
            "\n",
            "Epoch 00043: val_loss improved from 0.99936 to 0.99739, saving model to model.h5\n",
            "Epoch 44/100\n",
            "1002/1002 [==============================] - 1s 1ms/step - loss: 1.0068 - acc: 0.7076 - val_loss: 0.9150 - val_acc: 0.7866\n",
            "\n",
            "Epoch 00044: val_loss improved from 0.99739 to 0.91499, saving model to model.h5\n",
            "Epoch 45/100\n",
            "1002/1002 [==============================] - 1s 1ms/step - loss: 0.9379 - acc: 0.7295 - val_loss: 0.9021 - val_acc: 0.7962\n",
            "\n",
            "Epoch 00045: val_loss improved from 0.91499 to 0.90207, saving model to model.h5\n",
            "Epoch 46/100\n",
            "1002/1002 [==============================] - 1s 1ms/step - loss: 0.9436 - acc: 0.7076 - val_loss: 0.8689 - val_acc: 0.7834\n",
            "\n",
            "Epoch 00046: val_loss improved from 0.90207 to 0.86886, saving model to model.h5\n",
            "Epoch 47/100\n",
            "1002/1002 [==============================] - 1s 1ms/step - loss: 0.9090 - acc: 0.7206 - val_loss: 0.8388 - val_acc: 0.7962\n",
            "\n",
            "Epoch 00047: val_loss improved from 0.86886 to 0.83883, saving model to model.h5\n",
            "Epoch 48/100\n",
            "1002/1002 [==============================] - 1s 1ms/step - loss: 0.9474 - acc: 0.7016 - val_loss: 0.8410 - val_acc: 0.8089\n",
            "\n",
            "Epoch 00048: val_loss did not improve from 0.83883\n",
            "Epoch 49/100\n",
            "1002/1002 [==============================] - 1s 1ms/step - loss: 0.9156 - acc: 0.7305 - val_loss: 0.8419 - val_acc: 0.8121\n",
            "\n",
            "Epoch 00049: val_loss did not improve from 0.83883\n",
            "Epoch 50/100\n",
            "1002/1002 [==============================] - 1s 1ms/step - loss: 0.8579 - acc: 0.7265 - val_loss: 0.8337 - val_acc: 0.8153\n",
            "\n",
            "Epoch 00050: val_loss improved from 0.83883 to 0.83367, saving model to model.h5\n",
            "Epoch 51/100\n",
            "1002/1002 [==============================] - 1s 1ms/step - loss: 0.8498 - acc: 0.7226 - val_loss: 0.8551 - val_acc: 0.7994\n",
            "\n",
            "Epoch 00051: val_loss did not improve from 0.83367\n",
            "Epoch 52/100\n",
            "1002/1002 [==============================] - 1s 1ms/step - loss: 0.8339 - acc: 0.7575 - val_loss: 0.8200 - val_acc: 0.8217\n",
            "\n",
            "Epoch 00052: val_loss improved from 0.83367 to 0.81995, saving model to model.h5\n",
            "Epoch 53/100\n",
            "1002/1002 [==============================] - 1s 1ms/step - loss: 0.7882 - acc: 0.7555 - val_loss: 0.7635 - val_acc: 0.8344\n",
            "\n",
            "Epoch 00053: val_loss improved from 0.81995 to 0.76345, saving model to model.h5\n",
            "Epoch 54/100\n",
            "1002/1002 [==============================] - 1s 1ms/step - loss: 0.7526 - acc: 0.7685 - val_loss: 0.7651 - val_acc: 0.8376\n",
            "\n",
            "Epoch 00054: val_loss did not improve from 0.76345\n",
            "Epoch 55/100\n",
            "1002/1002 [==============================] - 1s 1ms/step - loss: 0.7834 - acc: 0.7655 - val_loss: 0.7179 - val_acc: 0.8662\n",
            "\n",
            "Epoch 00055: val_loss improved from 0.76345 to 0.71790, saving model to model.h5\n",
            "Epoch 56/100\n",
            "1002/1002 [==============================] - 1s 1ms/step - loss: 0.7659 - acc: 0.7575 - val_loss: 0.7263 - val_acc: 0.8376\n",
            "\n",
            "Epoch 00056: val_loss did not improve from 0.71790\n",
            "Epoch 57/100\n",
            "1002/1002 [==============================] - 1s 1ms/step - loss: 0.7203 - acc: 0.7854 - val_loss: 0.7197 - val_acc: 0.8344\n",
            "\n",
            "Epoch 00057: val_loss did not improve from 0.71790\n",
            "Epoch 58/100\n",
            "1002/1002 [==============================] - 1s 1ms/step - loss: 0.7263 - acc: 0.7754 - val_loss: 0.6802 - val_acc: 0.8535\n",
            "\n",
            "Epoch 00058: val_loss improved from 0.71790 to 0.68023, saving model to model.h5\n",
            "Epoch 59/100\n",
            "1002/1002 [==============================] - 1s 1ms/step - loss: 0.7070 - acc: 0.7794 - val_loss: 0.7013 - val_acc: 0.8408\n",
            "\n",
            "Epoch 00059: val_loss did not improve from 0.68023\n",
            "Epoch 60/100\n",
            "1002/1002 [==============================] - 1s 1ms/step - loss: 0.6948 - acc: 0.7824 - val_loss: 0.6817 - val_acc: 0.8567\n",
            "\n",
            "Epoch 00060: val_loss did not improve from 0.68023\n",
            "Epoch 61/100\n",
            "1002/1002 [==============================] - 1s 1ms/step - loss: 0.6825 - acc: 0.7914 - val_loss: 0.6353 - val_acc: 0.8599\n",
            "\n",
            "Epoch 00061: val_loss improved from 0.68023 to 0.63530, saving model to model.h5\n",
            "Epoch 62/100\n",
            "1002/1002 [==============================] - 1s 1ms/step - loss: 0.6564 - acc: 0.7964 - val_loss: 0.6837 - val_acc: 0.8439\n",
            "\n",
            "Epoch 00062: val_loss did not improve from 0.63530\n",
            "Epoch 63/100\n",
            "1002/1002 [==============================] - 1s 1ms/step - loss: 0.6182 - acc: 0.8124 - val_loss: 0.6625 - val_acc: 0.8567\n",
            "\n",
            "Epoch 00063: val_loss did not improve from 0.63530\n",
            "Epoch 64/100\n",
            "1002/1002 [==============================] - 1s 1ms/step - loss: 0.5973 - acc: 0.8124 - val_loss: 0.6457 - val_acc: 0.8726\n",
            "\n",
            "Epoch 00064: val_loss did not improve from 0.63530\n",
            "Epoch 65/100\n",
            "1002/1002 [==============================] - 1s 1ms/step - loss: 0.6080 - acc: 0.8034 - val_loss: 0.6398 - val_acc: 0.8790\n",
            "\n",
            "Epoch 00065: val_loss did not improve from 0.63530\n",
            "Epoch 66/100\n",
            "1002/1002 [==============================] - 1s 1ms/step - loss: 0.6046 - acc: 0.8154 - val_loss: 0.6651 - val_acc: 0.8535\n",
            "\n",
            "Epoch 00066: val_loss did not improve from 0.63530\n",
            "Epoch 67/100\n",
            "1002/1002 [==============================] - 1s 1ms/step - loss: 0.5961 - acc: 0.8154 - val_loss: 0.6676 - val_acc: 0.8376\n",
            "\n",
            "Epoch 00067: val_loss did not improve from 0.63530\n",
            "Epoch 68/100\n",
            "1002/1002 [==============================] - 1s 1ms/step - loss: 0.5789 - acc: 0.8244 - val_loss: 0.5840 - val_acc: 0.8885\n",
            "\n",
            "Epoch 00068: val_loss improved from 0.63530 to 0.58402, saving model to model.h5\n",
            "Epoch 69/100\n",
            "1002/1002 [==============================] - 1s 1ms/step - loss: 0.5528 - acc: 0.8174 - val_loss: 0.6060 - val_acc: 0.8790\n",
            "\n",
            "Epoch 00069: val_loss did not improve from 0.58402\n",
            "Epoch 70/100\n",
            "1002/1002 [==============================] - 1s 1ms/step - loss: 0.5173 - acc: 0.8443 - val_loss: 0.6125 - val_acc: 0.8758\n",
            "\n",
            "Epoch 00070: val_loss did not improve from 0.58402\n",
            "Epoch 71/100\n",
            "1002/1002 [==============================] - 1s 1ms/step - loss: 0.5488 - acc: 0.8234 - val_loss: 0.5917 - val_acc: 0.8981\n",
            "\n",
            "Epoch 00071: val_loss did not improve from 0.58402\n",
            "Epoch 72/100\n",
            "1002/1002 [==============================] - 1s 1ms/step - loss: 0.5234 - acc: 0.8373 - val_loss: 0.5526 - val_acc: 0.8822\n",
            "\n",
            "Epoch 00072: val_loss improved from 0.58402 to 0.55257, saving model to model.h5\n",
            "Epoch 73/100\n",
            "1002/1002 [==============================] - 1s 1ms/step - loss: 0.5417 - acc: 0.8204 - val_loss: 0.6069 - val_acc: 0.8854\n",
            "\n",
            "Epoch 00073: val_loss did not improve from 0.55257\n",
            "Epoch 74/100\n",
            "1002/1002 [==============================] - 1s 1ms/step - loss: 0.5000 - acc: 0.8393 - val_loss: 0.5967 - val_acc: 0.9108\n",
            "\n",
            "Epoch 00074: val_loss did not improve from 0.55257\n",
            "Epoch 75/100\n",
            "1002/1002 [==============================] - 1s 1ms/step - loss: 0.4890 - acc: 0.8453 - val_loss: 0.5812 - val_acc: 0.8758\n",
            "\n",
            "Epoch 00075: val_loss did not improve from 0.55257\n",
            "Epoch 76/100\n",
            "1002/1002 [==============================] - 1s 1ms/step - loss: 0.5117 - acc: 0.8403 - val_loss: 0.5718 - val_acc: 0.8758\n",
            "\n",
            "Epoch 00076: val_loss did not improve from 0.55257\n",
            "Epoch 77/100\n",
            "1002/1002 [==============================] - 1s 1ms/step - loss: 0.4723 - acc: 0.8543 - val_loss: 0.5801 - val_acc: 0.8790\n",
            "\n",
            "Epoch 00077: val_loss did not improve from 0.55257\n",
            "Epoch 78/100\n",
            "1002/1002 [==============================] - 1s 1ms/step - loss: 0.4518 - acc: 0.8633 - val_loss: 0.5877 - val_acc: 0.8917\n",
            "\n",
            "Epoch 00078: val_loss did not improve from 0.55257\n",
            "Epoch 79/100\n",
            "1002/1002 [==============================] - 1s 1ms/step - loss: 0.4778 - acc: 0.8543 - val_loss: 0.6303 - val_acc: 0.8662\n",
            "\n",
            "Epoch 00079: val_loss did not improve from 0.55257\n",
            "Epoch 80/100\n",
            "1002/1002 [==============================] - 1s 1ms/step - loss: 0.4280 - acc: 0.8663 - val_loss: 0.5915 - val_acc: 0.8854\n",
            "\n",
            "Epoch 00080: val_loss did not improve from 0.55257\n",
            "Epoch 81/100\n",
            "1002/1002 [==============================] - 1s 1ms/step - loss: 0.4334 - acc: 0.8683 - val_loss: 0.5597 - val_acc: 0.8822\n",
            "\n",
            "Epoch 00081: val_loss did not improve from 0.55257\n",
            "Epoch 82/100\n",
            "1002/1002 [==============================] - 1s 1ms/step - loss: 0.4666 - acc: 0.8533 - val_loss: 0.5452 - val_acc: 0.8885\n",
            "\n",
            "Epoch 00082: val_loss improved from 0.55257 to 0.54518, saving model to model.h5\n",
            "Epoch 83/100\n",
            "1002/1002 [==============================] - 1s 1ms/step - loss: 0.4669 - acc: 0.8513 - val_loss: 0.5344 - val_acc: 0.9076\n",
            "\n",
            "Epoch 00083: val_loss improved from 0.54518 to 0.53443, saving model to model.h5\n",
            "Epoch 84/100\n",
            "1002/1002 [==============================] - 1s 1ms/step - loss: 0.4044 - acc: 0.8852 - val_loss: 0.5170 - val_acc: 0.8854\n",
            "\n",
            "Epoch 00084: val_loss improved from 0.53443 to 0.51700, saving model to model.h5\n",
            "Epoch 85/100\n",
            "1002/1002 [==============================] - 1s 1ms/step - loss: 0.4464 - acc: 0.8573 - val_loss: 0.5245 - val_acc: 0.9013\n",
            "\n",
            "Epoch 00085: val_loss did not improve from 0.51700\n",
            "Epoch 86/100\n",
            "1002/1002 [==============================] - 1s 1ms/step - loss: 0.4059 - acc: 0.8693 - val_loss: 0.5539 - val_acc: 0.8917\n",
            "\n",
            "Epoch 00086: val_loss did not improve from 0.51700\n",
            "Epoch 87/100\n",
            "1002/1002 [==============================] - 1s 1ms/step - loss: 0.4157 - acc: 0.8643 - val_loss: 0.5804 - val_acc: 0.8822\n",
            "\n",
            "Epoch 00087: val_loss did not improve from 0.51700\n",
            "Epoch 88/100\n",
            "1002/1002 [==============================] - 1s 1ms/step - loss: 0.3996 - acc: 0.8752 - val_loss: 0.5388 - val_acc: 0.8790\n",
            "\n",
            "Epoch 00088: val_loss did not improve from 0.51700\n",
            "Epoch 89/100\n",
            "1002/1002 [==============================] - 1s 1ms/step - loss: 0.4123 - acc: 0.8693 - val_loss: 0.5004 - val_acc: 0.9140\n",
            "\n",
            "Epoch 00089: val_loss improved from 0.51700 to 0.50039, saving model to model.h5\n",
            "Epoch 90/100\n",
            "1002/1002 [==============================] - 1s 1ms/step - loss: 0.4023 - acc: 0.8743 - val_loss: 0.5896 - val_acc: 0.8854\n",
            "\n",
            "Epoch 00090: val_loss did not improve from 0.50039\n",
            "Epoch 91/100\n",
            "1002/1002 [==============================] - 1s 1ms/step - loss: 0.4203 - acc: 0.8762 - val_loss: 0.5339 - val_acc: 0.9045\n",
            "\n",
            "Epoch 00091: val_loss did not improve from 0.50039\n",
            "Epoch 92/100\n",
            "1002/1002 [==============================] - 1s 1ms/step - loss: 0.4142 - acc: 0.8752 - val_loss: 0.5054 - val_acc: 0.9108\n",
            "\n",
            "Epoch 00092: val_loss did not improve from 0.50039\n",
            "Epoch 93/100\n",
            "1002/1002 [==============================] - 1s 1ms/step - loss: 0.4069 - acc: 0.8772 - val_loss: 0.5702 - val_acc: 0.8917\n",
            "\n",
            "Epoch 00093: val_loss did not improve from 0.50039\n",
            "Epoch 94/100\n",
            "1002/1002 [==============================] - 1s 1ms/step - loss: 0.3942 - acc: 0.8772 - val_loss: 0.5341 - val_acc: 0.8949\n",
            "\n",
            "Epoch 00094: val_loss did not improve from 0.50039\n",
            "Epoch 95/100\n",
            "1002/1002 [==============================] - 1s 1ms/step - loss: 0.3615 - acc: 0.8912 - val_loss: 0.4909 - val_acc: 0.9076\n",
            "\n",
            "Epoch 00095: val_loss improved from 0.50039 to 0.49093, saving model to model.h5\n",
            "Epoch 96/100\n",
            "1002/1002 [==============================] - 1s 1ms/step - loss: 0.4076 - acc: 0.8812 - val_loss: 0.6037 - val_acc: 0.8790\n",
            "\n",
            "Epoch 00096: val_loss did not improve from 0.49093\n",
            "Epoch 97/100\n",
            "1002/1002 [==============================] - 1s 1ms/step - loss: 0.3992 - acc: 0.8683 - val_loss: 0.4967 - val_acc: 0.9204\n",
            "\n",
            "Epoch 00097: val_loss did not improve from 0.49093\n",
            "Epoch 98/100\n",
            "1002/1002 [==============================] - 1s 1ms/step - loss: 0.4082 - acc: 0.8802 - val_loss: 0.6010 - val_acc: 0.8790\n",
            "\n",
            "Epoch 00098: val_loss did not improve from 0.49093\n",
            "Epoch 99/100\n",
            "1002/1002 [==============================] - 1s 1ms/step - loss: 0.3759 - acc: 0.8872 - val_loss: 0.5175 - val_acc: 0.8917\n",
            "\n",
            "Epoch 00099: val_loss did not improve from 0.49093\n",
            "Epoch 100/100\n",
            "1002/1002 [==============================] - 1s 1ms/step - loss: 0.3549 - acc: 0.8882 - val_loss: 0.5377 - val_acc: 0.9076\n",
            "\n",
            "Epoch 00100: val_loss did not improve from 0.49093\n"
          ],
          "name": "stdout"
        }
      ]
    },
    {
      "cell_type": "code",
      "metadata": {
        "id": "XIL1xGl0iUQD"
      },
      "source": [
        " model = load_model(\"model.h5\")"
      ],
      "execution_count": null,
      "outputs": []
    },
    {
      "cell_type": "code",
      "metadata": {
        "id": "g9KN2N6viaWQ"
      },
      "source": [
        "def predictions(text):\n",
        "  \n",
        "  test_word = word_tokenize(text)\n",
        "  test_ls = word_tokenizer.texts_to_sequences(test_word)\n",
        "  print(test_word)\n",
        "  #Check for unknown words\n",
        "  if [] in test_ls:\n",
        "    test_ls = list(filter(None, test_ls))\n",
        "    \n",
        "  test_ls = np.array(test_ls).reshape(1, len(test_ls))\n",
        " \n",
        "  x = padding_doc(test_ls, max_length)\n",
        "  \n",
        "  pred = model.predict_proba(x)\n",
        "  \n",
        "  \n",
        "  return pred"
      ],
      "execution_count": null,
      "outputs": []
    },
    {
      "cell_type": "code",
      "metadata": {
        "id": "wtGPJJ0toZDh"
      },
      "source": [
        "def get_final_output(pred, classes):\n",
        "  predictions = pred[0]\n",
        " \n",
        "  classes = np.array(classes)\n",
        "  ids = np.argsort(-predictions)\n",
        "  classes = classes[ids]\n",
        "  predictions = -np.sort(-predictions)\n",
        " \n",
        "  for i in range(pred.shape[1]):\n",
        "    print(\"%s has confidence = %s\" % (classes[i], (predictions[i])))\n",
        "\n"
      ],
      "execution_count": null,
      "outputs": []
    },
    {
      "cell_type": "code",
      "metadata": {
        "id": "Cdnd-hUeodU_",
        "outputId": "ed556171-80f0-46a7-979f-80301b226f50",
        "colab": {
          "base_uri": "https://localhost:8080/",
          "height": 986
        }
      },
      "source": [
        "text = \"எனது கடன்அட்டையை நான் எவ்வகையில் ரத்து செய்வது?\"\n",
        "pred = predictions(text)\n",
        "get_final_output(pred, unique_intent)"
      ],
      "execution_count": null,
      "outputs": [
        {
          "output_type": "stream",
          "text": [
            "['எனது', 'கடன்அட்டையை', 'நான்', 'எவ்வகையில்', 'ரத்து', 'செய்வது', '?']\n",
            "cancel_card has confidence = 0.41703138\n",
            "change_details has confidence = 0.28217405\n",
            "update_personal_details has confidence = 0.238206\n",
            "treasury_bond_information has confidence = 0.020806456\n",
            "SLBFE_info has confidence = 0.010435545\n",
            "2in1_acoount_info has confidence = 0.006394624\n",
            "NRFC_info has confidence = 0.0053531164\n",
            "treasury_bond_important_features has confidence = 0.00503632\n",
            "new_saving_book has confidence = 0.0022377733\n",
            "2in1_atm_card has confidence = 0.002153035\n",
            "2in1_interest_receiving has confidence = 0.0015600394\n",
            "resident_foreign_account_info has confidence = 0.0012103756\n",
            "treasury_bond_advantage has confidence = 0.0011654552\n",
            "debit_card_requirement has confidence = 0.00096731103\n",
            "marriage_claim has confidence = 0.0009551597\n",
            "card_usage has confidence = 0.0009390282\n",
            "suspious_activity has confidence = 0.00088435656\n",
            "bank_statement_online has confidence = 0.0006678072\n",
            "interest_credit_info has confidence = 0.00027162704\n",
            "card_automatic_renewal has confidence = 0.00026214254\n",
            "repos_benefits has confidence = 0.00023964145\n",
            "get_monthly_report has confidence = 0.00019196307\n",
            "sl_development_bond_benefits has confidence = 0.00015129961\n",
            "selan_sure_info has confidence = 0.00014776502\n",
            "get_lc_form has confidence = 0.00013991192\n",
            "tikiri_gift_voucher_redeem has confidence = 0.00011255691\n",
            "card_machine_repair has confidence = 8.737822e-05\n",
            "card_foreign_use has confidence = 6.106502e-05\n",
            "2in1_pass_book has confidence = 5.2163832e-05\n",
            "foreign_account_lkr_withdrawal has confidence = 2.8037062e-05\n",
            "loan_requirement has confidence = 1.541535e-05\n",
            "account_currency has confidence = 1.2480754e-05\n",
            "internet_bank_loan_amount has confidence = 1.17887275e-05\n",
            "foreign_deposit_loan has confidence = 9.437271e-06\n",
            "joint_account_details has confidence = 4.3009595e-06\n",
            "saving_atmcard_available has confidence = 3.8269877e-06\n",
            "new_card_reader_cost has confidence = 3.0889e-06\n",
            "tikiri_gift_voucher_per_person has confidence = 2.7208307e-06\n",
            "foreign_currency_withdrawal_currency has confidence = 2.4218732e-06\n",
            "tikiri_required_docs has confidence = 2.2190238e-06\n",
            "CVV_use has confidence = 2.196579e-06\n",
            "2in1_min_balance has confidence = 1.981628e-06\n",
            "housing_loan_purpose has confidence = 1.4974313e-06\n",
            "housing_loan_documents has confidence = 1.2489487e-06\n",
            "tikiri_gift_voucher_validity has confidence = 1.1721905e-06\n",
            "foreign_currency_withdrawal has confidence = 4.5127328e-07\n",
            "life_insurance_limit has confidence = 9.1699825e-08\n",
            "tikiri_gift_voucher_age_limit has confidence = 8.491822e-08\n",
            "NRFC_account_opening has confidence = 5.572951e-08\n",
            "precashing_foreign_fixed_deposit has confidence = 5.4767384e-08\n",
            "seylan_tikiri_minimum_deposit has confidence = 3.477046e-08\n",
            "tikiri_gift_voucher_withdrawal has confidence = 1.510005e-08\n",
            "FCAISPE_required_docs has confidence = 2.3583469e-09\n",
            "tikiri_gift_voucher_buying_info has confidence = 1.0010928e-09\n",
            "tikiri_gift_voucher_min_amount has confidence = 8.82033e-11\n",
            "tikiri_gift_voucher_info has confidence = 1.5256444e-11\n"
          ],
          "name": "stdout"
        }
      ]
    },
    {
      "cell_type": "code",
      "metadata": {
        "id": "ApOOs_cxsu1f",
        "outputId": "b0a30493-b819-4df5-c5c5-880ef50d473a",
        "colab": {
          "base_uri": "https://localhost:8080/",
          "height": 51
        }
      },
      "source": [
        "\n",
        "print(model.test_on_batch(test_X ,test_Y))\n",
        "model.metrics_names"
      ],
      "execution_count": null,
      "outputs": [
        {
          "output_type": "stream",
          "text": [
            "[0.4184269, 0.89641434]\n"
          ],
          "name": "stdout"
        },
        {
          "output_type": "execute_result",
          "data": {
            "text/plain": [
              "['loss', 'acc']"
            ]
          },
          "metadata": {
            "tags": []
          },
          "execution_count": 165
        }
      ]
    }
  ]
}