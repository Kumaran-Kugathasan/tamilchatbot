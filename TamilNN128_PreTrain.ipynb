{
  "nbformat": 4,
  "nbformat_minor": 0,
  "metadata": {
    "colab": {
      "name": "TamilNN128-PreTrain.ipynb",
      "provenance": [],
      "authorship_tag": "ABX9TyM/64RuOVZFdjvB2rXpmzY8"
    },
    "kernelspec": {
      "name": "python3",
      "display_name": "Python 3"
    },
    "accelerator": "TPU"
  },
  "cells": [
    {
      "cell_type": "code",
      "metadata": {
        "id": "37XMOSAOU4ug",
        "outputId": "52703c9e-f7c2-434a-f9c5-66cba7bfec94",
        "colab": {
          "base_uri": "https://localhost:8080/",
          "height": 51
        }
      },
      "source": [
        "import numpy as np\n",
        "%tensorflow_version 1.x\n",
        "\n",
        "import pandas as pd\n",
        "from nltk.corpus import stopwords\n",
        "from nltk.tokenize import word_tokenize\n",
        "from nltk.stem.lancaster import LancasterStemmer\n",
        "import nltk\n",
        "import re\n",
        "from sklearn.preprocessing import OneHotEncoder\n",
        "import matplotlib.pyplot as plt\n",
        "from keras.preprocessing.text import Tokenizer\n",
        "from keras.preprocessing.sequence import pad_sequences\n",
        "from keras.utils import to_categorical\n",
        "from keras.models import Sequential, load_model\n",
        "from keras.layers import Dense, LSTM, Bidirectional, Embedding, Dropout\n",
        "from keras.callbacks import ModelCheckpoint\n",
        "import os\n",
        "# Keras\n",
        "\n",
        "from keras.layers import Dense, Flatten, LSTM, Conv1D, MaxPooling1D, Dropout, Activation\n",
        "from keras.layers.embeddings import Embedding\n",
        "# Any results you write to the current directory are saved as output.\n",
        "# Others\n",
        "import string"
      ],
      "execution_count": null,
      "outputs": [
        {
          "output_type": "stream",
          "text": [
            "TensorFlow 1.x selected.\n"
          ],
          "name": "stdout"
        },
        {
          "output_type": "stream",
          "text": [
            "Using TensorFlow backend.\n"
          ],
          "name": "stderr"
        }
      ]
    },
    {
      "cell_type": "code",
      "metadata": {
        "id": "l00pV9c95SPg"
      },
      "source": [
        "from gensim.models import FastText\n",
        "\n",
        "FastText."
      ],
      "execution_count": null,
      "outputs": []
    },
    {
      "cell_type": "code",
      "metadata": {
        "id": "WZ9j-PVADe1C",
        "outputId": "51c1412f-1ab3-4700-cdba-c685f506c041",
        "colab": {
          "base_uri": "https://localhost:8080/",
          "height": 258
        }
      },
      "source": [
        "import sys\n",
        "!{sys.executable} -m pip install fasttext"
      ],
      "execution_count": null,
      "outputs": [
        {
          "output_type": "stream",
          "text": [
            "Collecting fasttext\n",
            "\u001b[?25l  Downloading https://files.pythonhosted.org/packages/f8/85/e2b368ab6d3528827b147fdb814f8189acc981a4bc2f99ab894650e05c40/fasttext-0.9.2.tar.gz (68kB)\n",
            "\r\u001b[K     |████▊                           | 10kB 15.5MB/s eta 0:00:01\r\u001b[K     |█████████▌                      | 20kB 2.2MB/s eta 0:00:01\r\u001b[K     |██████████████▎                 | 30kB 2.8MB/s eta 0:00:01\r\u001b[K     |███████████████████             | 40kB 3.1MB/s eta 0:00:01\r\u001b[K     |███████████████████████▉        | 51kB 2.6MB/s eta 0:00:01\r\u001b[K     |████████████████████████████▋   | 61kB 2.8MB/s eta 0:00:01\r\u001b[K     |████████████████████████████████| 71kB 2.2MB/s \n",
            "\u001b[?25hRequirement already satisfied: pybind11>=2.2 in /usr/local/lib/python3.6/dist-packages (from fasttext) (2.5.0)\n",
            "Requirement already satisfied: setuptools>=0.7.0 in /usr/local/lib/python3.6/dist-packages (from fasttext) (47.1.1)\n",
            "Requirement already satisfied: numpy in /usr/local/lib/python3.6/dist-packages (from fasttext) (1.18.4)\n",
            "Building wheels for collected packages: fasttext\n",
            "  Building wheel for fasttext (setup.py) ... \u001b[?25l\u001b[?25hdone\n",
            "  Created wheel for fasttext: filename=fasttext-0.9.2-cp36-cp36m-linux_x86_64.whl size=3015313 sha256=5e25a5b903dd39bd4e051a4c7481a94a765ca29de8a1a86e48dd52f34f54090e\n",
            "  Stored in directory: /root/.cache/pip/wheels/98/ba/7f/b154944a1cf5a8cee91c154b75231136cc3a3321ab0e30f592\n",
            "Successfully built fasttext\n",
            "Installing collected packages: fasttext\n",
            "Successfully installed fasttext-0.9.2\n"
          ],
          "name": "stdout"
        }
      ]
    },
    {
      "cell_type": "code",
      "metadata": {
        "id": "2TRi921GEFkk",
        "outputId": "384bf195-414a-47f6-d4f4-ef4df3c6d87f",
        "colab": {
          "base_uri": "https://localhost:8080/",
          "height": 34
        }
      },
      "source": [
        "import fasttext.util\n",
        "fasttext.util.download_model('ta', if_exists='ignore')  # Tamil\n",
        "ft = fasttext.load_model('cc.ta.300.bin')"
      ],
      "execution_count": null,
      "outputs": [
        {
          "output_type": "stream",
          "text": [
            "Downloading https://dl.fbaipublicfiles.com/fasttext/vectors-crawl/cc.ta.300.bin.gz\n",
            "Buffered data was truncated after reaching the output size limit."
          ],
          "name": "stdout"
        }
      ]
    },
    {
      "cell_type": "code",
      "metadata": {
        "id": "CTg8FOQ56Z6Q",
        "outputId": "b14572c7-19ef-47db-fc3f-f2a532562d57",
        "colab": {
          "base_uri": "https://localhost:8080/",
          "height": 299
        }
      },
      "source": [
        "import fasttext"
      ],
      "execution_count": null,
      "outputs": [
        {
          "output_type": "error",
          "ename": "ModuleNotFoundError",
          "evalue": "ignored",
          "traceback": [
            "\u001b[0;31m---------------------------------------------------------------------------\u001b[0m",
            "\u001b[0;31mModuleNotFoundError\u001b[0m                       Traceback (most recent call last)",
            "\u001b[0;32m<ipython-input-5-c5c00c7017fe>\u001b[0m in \u001b[0;36m<module>\u001b[0;34m()\u001b[0m\n\u001b[0;32m----> 1\u001b[0;31m \u001b[0;32mimport\u001b[0m \u001b[0mfasttext\u001b[0m\u001b[0;34m\u001b[0m\u001b[0;34m\u001b[0m\u001b[0m\n\u001b[0m",
            "\u001b[0;31mModuleNotFoundError\u001b[0m: No module named 'fasttext'",
            "",
            "\u001b[0;31m---------------------------------------------------------------------------\u001b[0;32m\nNOTE: If your import is failing due to a missing package, you can\nmanually install dependencies using either !pip or !apt.\n\nTo view examples of installing some common dependencies, click the\n\"Open Examples\" button below.\n\u001b[0;31m---------------------------------------------------------------------------\u001b[0m\n"
          ]
        }
      ]
    },
    {
      "cell_type": "code",
      "metadata": {
        "id": "_ezxM5CtIOq2"
      },
      "source": [
        "\n",
        "\n",
        "def create_embedding_matrix(filepath, word_index, embedding_dim):\n",
        "    vocab_size = len(word_index) + 1  # Adding again 1 because of reserved 0 index\n",
        "    embedding_matrix = np.zeros((vocab_size, embedding_dim))\n",
        "\n",
        "    with open(filepath) as f:\n",
        "        for line in f:\n",
        "            word, *vector = line.split()\n",
        "            if word in word_index:\n",
        "                idx = word_index[word] \n",
        "                embedding_matrix[idx] = np.array(\n",
        "                    vector, dtype=np.float32)[:embedding_dim]\n",
        "\n",
        "    return embedding_matrix\n"
      ],
      "execution_count": null,
      "outputs": []
    },
    {
      "cell_type": "code",
      "metadata": {
        "id": "mPE3NXeSVtmj"
      },
      "source": [
        "import pandas as pd\n",
        "def load_dataset(filename):\n",
        "  df = pd.read_csv(filename, encoding = \"utf-8\",\n",
        "       names = [\"Sentence\", \"Intent\"])\n",
        "  intent = df[\"Intent\"]\n",
        "  unique_intent = list(set(intent))\n",
        "  sentences = list(df[\"Sentence\"])\n",
        "  \n",
        "  return (intent, unique_intent, sentences)"
      ],
      "execution_count": null,
      "outputs": []
    },
    {
      "cell_type": "code",
      "metadata": {
        "id": "bGqqZ3l4WF5O"
      },
      "source": [
        "intent, unique_intent, sentences = load_dataset(\"/content/bank.csv\")"
      ],
      "execution_count": null,
      "outputs": []
    },
    {
      "cell_type": "code",
      "metadata": {
        "id": "n4YnnZ6IWhvK",
        "outputId": "42d5be4c-4c95-4bd2-d3f4-086bb803704f",
        "colab": {
          "base_uri": "https://localhost:8080/",
          "height": 119
        }
      },
      "source": [
        "print(intent[:5])"
      ],
      "execution_count": null,
      "outputs": [
        {
          "output_type": "stream",
          "text": [
            "0    2in1_acoount_info\n",
            "1    2in1_acoount_info\n",
            "2    2in1_acoount_info\n",
            "3    2in1_acoount_info\n",
            "4    2in1_acoount_info\n",
            "Name: Intent, dtype: object\n"
          ],
          "name": "stdout"
        }
      ]
    },
    {
      "cell_type": "code",
      "metadata": {
        "id": "ufy7zZXWWyjJ",
        "outputId": "5d392c56-f95b-4e2b-9c10-ac2e9da08c79",
        "colab": {
          "base_uri": "https://localhost:8080/",
          "height": 51
        }
      },
      "source": [
        "nltk.download(\"punkt\")\n",
        "def cleaning(sentences):\n",
        "  words = [] \n",
        "  for s in sentences:\n",
        "    w = word_tokenize(s)\n",
        "    words.append([i for i in w])     \n",
        "  return words  "
      ],
      "execution_count": null,
      "outputs": [
        {
          "output_type": "stream",
          "text": [
            "[nltk_data] Downloading package punkt to /root/nltk_data...\n",
            "[nltk_data]   Unzipping tokenizers/punkt.zip.\n"
          ],
          "name": "stdout"
        }
      ]
    },
    {
      "cell_type": "code",
      "metadata": {
        "id": "W8N4GXnqYKcy",
        "outputId": "e30ed123-c228-4f4b-8821-635b43ac4ca0",
        "colab": {
          "base_uri": "https://localhost:8080/",
          "height": 88
        }
      },
      "source": [
        "cleaned_words = cleaning(sentences)\n",
        "print(len(cleaned_words))\n",
        "print(cleaned_words[:2])  \n",
        "print(len(sentences))"
      ],
      "execution_count": null,
      "outputs": [
        {
          "output_type": "stream",
          "text": [
            "1567\n",
            "[['நான்', '2in1', 'கணக்கில்', 'சேமிப்பது', 'எப்படி', '?'], ['2in1', 'கணக்கில்', 'நான்', 'சேமிப்பது', 'எப்படி', '?']]\n",
            "1567\n"
          ],
          "name": "stdout"
        }
      ]
    },
    {
      "cell_type": "code",
      "metadata": {
        "id": "QwgeL5dWcwLI"
      },
      "source": [
        "def create_tokenizer(words, filters = '!\"#$%&()*+,-./:;<=>?@[\\]^_`{|}~'):\n",
        "  token = Tokenizer(filters = filters)\n",
        "  token.fit_on_texts(words)\n",
        "  return token"
      ],
      "execution_count": null,
      "outputs": []
    },
    {
      "cell_type": "code",
      "metadata": {
        "id": "0yJr6j3zc2NH"
      },
      "source": [
        "def max_length(words):\n",
        "  return(len(max(words, key = len)))"
      ],
      "execution_count": null,
      "outputs": []
    },
    {
      "cell_type": "code",
      "metadata": {
        "id": "fGFv3Wz1c3h8",
        "outputId": "8371707d-5682-4de5-c6bb-3c73fba2e83a",
        "colab": {
          "base_uri": "https://localhost:8080/",
          "height": 34
        }
      },
      "source": [
        "word_tokenizer = create_tokenizer(cleaned_words)\n",
        "vocab_size = len(word_tokenizer.word_index) + 1\n",
        "max_length = max_length(cleaned_words)\n",
        "\n",
        "print(\"Vocab Size = %d and Maximum length = %d\" % (vocab_size, max_length))"
      ],
      "execution_count": null,
      "outputs": [
        {
          "output_type": "stream",
          "text": [
            "Vocab Size = 1141 and Maximum length = 22\n"
          ],
          "name": "stdout"
        }
      ]
    },
    {
      "cell_type": "code",
      "metadata": {
        "id": "fjbB3twmJu-Q",
        "outputId": "848f2939-e059-4412-99ab-f3909e0c281f",
        "colab": {
          "base_uri": "https://localhost:8080/",
          "height": 323
        }
      },
      "source": [
        "embedding_dim = 50\n",
        "embedding_matrix = create_embedding_matrix('/content/cc.ta.300.bin',word_tokenizer.word_index, embedding_dim)"
      ],
      "execution_count": null,
      "outputs": [
        {
          "output_type": "error",
          "ename": "UnicodeDecodeError",
          "evalue": "ignored",
          "traceback": [
            "\u001b[0;31m---------------------------------------------------------------------------\u001b[0m",
            "\u001b[0;31mUnicodeDecodeError\u001b[0m                        Traceback (most recent call last)",
            "\u001b[0;32m<ipython-input-19-14a8c32522ef>\u001b[0m in \u001b[0;36m<module>\u001b[0;34m()\u001b[0m\n\u001b[1;32m      1\u001b[0m \u001b[0membedding_dim\u001b[0m \u001b[0;34m=\u001b[0m \u001b[0;36m50\u001b[0m\u001b[0;34m\u001b[0m\u001b[0;34m\u001b[0m\u001b[0m\n\u001b[0;32m----> 2\u001b[0;31m \u001b[0membedding_matrix\u001b[0m \u001b[0;34m=\u001b[0m \u001b[0mcreate_embedding_matrix\u001b[0m\u001b[0;34m(\u001b[0m\u001b[0;34m'/content/cc.ta.300.bin'\u001b[0m\u001b[0;34m,\u001b[0m\u001b[0mword_tokenizer\u001b[0m\u001b[0;34m.\u001b[0m\u001b[0mword_index\u001b[0m\u001b[0;34m,\u001b[0m \u001b[0membedding_dim\u001b[0m\u001b[0;34m)\u001b[0m\u001b[0;34m\u001b[0m\u001b[0;34m\u001b[0m\u001b[0m\n\u001b[0m",
            "\u001b[0;32m<ipython-input-6-fb7119344a93>\u001b[0m in \u001b[0;36mcreate_embedding_matrix\u001b[0;34m(filepath, word_index, embedding_dim)\u001b[0m\n\u001b[1;32m      6\u001b[0m \u001b[0;34m\u001b[0m\u001b[0m\n\u001b[1;32m      7\u001b[0m     \u001b[0;32mwith\u001b[0m \u001b[0mopen\u001b[0m\u001b[0;34m(\u001b[0m\u001b[0mfilepath\u001b[0m\u001b[0;34m)\u001b[0m \u001b[0;32mas\u001b[0m \u001b[0mf\u001b[0m\u001b[0;34m:\u001b[0m\u001b[0;34m\u001b[0m\u001b[0;34m\u001b[0m\u001b[0m\n\u001b[0;32m----> 8\u001b[0;31m         \u001b[0;32mfor\u001b[0m \u001b[0mline\u001b[0m \u001b[0;32min\u001b[0m \u001b[0mf\u001b[0m\u001b[0;34m:\u001b[0m\u001b[0;34m\u001b[0m\u001b[0;34m\u001b[0m\u001b[0m\n\u001b[0m\u001b[1;32m      9\u001b[0m             \u001b[0mword\u001b[0m\u001b[0;34m,\u001b[0m \u001b[0;34m*\u001b[0m\u001b[0mvector\u001b[0m \u001b[0;34m=\u001b[0m \u001b[0mline\u001b[0m\u001b[0;34m.\u001b[0m\u001b[0msplit\u001b[0m\u001b[0;34m(\u001b[0m\u001b[0;34m)\u001b[0m\u001b[0;34m\u001b[0m\u001b[0;34m\u001b[0m\u001b[0m\n\u001b[1;32m     10\u001b[0m             \u001b[0;32mif\u001b[0m \u001b[0mword\u001b[0m \u001b[0;32min\u001b[0m \u001b[0mword_index\u001b[0m\u001b[0;34m:\u001b[0m\u001b[0;34m\u001b[0m\u001b[0;34m\u001b[0m\u001b[0m\n",
            "\u001b[0;32m/usr/lib/python3.6/codecs.py\u001b[0m in \u001b[0;36mdecode\u001b[0;34m(self, input, final)\u001b[0m\n\u001b[1;32m    319\u001b[0m         \u001b[0;31m# decode input (taking the buffer into account)\u001b[0m\u001b[0;34m\u001b[0m\u001b[0;34m\u001b[0m\u001b[0;34m\u001b[0m\u001b[0m\n\u001b[1;32m    320\u001b[0m         \u001b[0mdata\u001b[0m \u001b[0;34m=\u001b[0m \u001b[0mself\u001b[0m\u001b[0;34m.\u001b[0m\u001b[0mbuffer\u001b[0m \u001b[0;34m+\u001b[0m \u001b[0minput\u001b[0m\u001b[0;34m\u001b[0m\u001b[0;34m\u001b[0m\u001b[0m\n\u001b[0;32m--> 321\u001b[0;31m         \u001b[0;34m(\u001b[0m\u001b[0mresult\u001b[0m\u001b[0;34m,\u001b[0m \u001b[0mconsumed\u001b[0m\u001b[0;34m)\u001b[0m \u001b[0;34m=\u001b[0m \u001b[0mself\u001b[0m\u001b[0;34m.\u001b[0m\u001b[0m_buffer_decode\u001b[0m\u001b[0;34m(\u001b[0m\u001b[0mdata\u001b[0m\u001b[0;34m,\u001b[0m \u001b[0mself\u001b[0m\u001b[0;34m.\u001b[0m\u001b[0merrors\u001b[0m\u001b[0;34m,\u001b[0m \u001b[0mfinal\u001b[0m\u001b[0;34m)\u001b[0m\u001b[0;34m\u001b[0m\u001b[0;34m\u001b[0m\u001b[0m\n\u001b[0m\u001b[1;32m    322\u001b[0m         \u001b[0;31m# keep undecoded input until the next call\u001b[0m\u001b[0;34m\u001b[0m\u001b[0;34m\u001b[0m\u001b[0;34m\u001b[0m\u001b[0m\n\u001b[1;32m    323\u001b[0m         \u001b[0mself\u001b[0m\u001b[0;34m.\u001b[0m\u001b[0mbuffer\u001b[0m \u001b[0;34m=\u001b[0m \u001b[0mdata\u001b[0m\u001b[0;34m[\u001b[0m\u001b[0mconsumed\u001b[0m\u001b[0;34m:\u001b[0m\u001b[0;34m]\u001b[0m\u001b[0;34m\u001b[0m\u001b[0;34m\u001b[0m\u001b[0m\n",
            "\u001b[0;31mUnicodeDecodeError\u001b[0m: 'utf-8' codec can't decode byte 0xba in position 0: invalid start byte"
          ]
        }
      ]
    },
    {
      "cell_type": "code",
      "metadata": {
        "id": "HkLPLsZudGFP"
      },
      "source": [
        "def encoding_doc(token, words):\n",
        "  return(token.texts_to_sequences(words))"
      ],
      "execution_count": null,
      "outputs": []
    },
    {
      "cell_type": "code",
      "metadata": {
        "id": "tUFlvGmBdW_7"
      },
      "source": [
        "encoded_doc = encoding_doc(word_tokenizer, cleaned_words)"
      ],
      "execution_count": null,
      "outputs": []
    },
    {
      "cell_type": "code",
      "metadata": {
        "id": "GMhHK_fAdbEJ"
      },
      "source": [
        "def padding_doc(encoded_doc, max_length):\n",
        "  return(pad_sequences(encoded_doc, maxlen = max_length, padding = \"post\"))"
      ],
      "execution_count": null,
      "outputs": []
    },
    {
      "cell_type": "code",
      "metadata": {
        "id": "nztJIy7vdceo"
      },
      "source": [
        "padded_doc = padding_doc(encoded_doc, max_length)"
      ],
      "execution_count": null,
      "outputs": []
    },
    {
      "cell_type": "code",
      "metadata": {
        "id": "96UW6oSQdh4Q",
        "outputId": "96200cd3-a4cb-4fa7-b1ed-54433b0989c6",
        "colab": {
          "base_uri": "https://localhost:8080/",
          "height": 187
        }
      },
      "source": [
        "padded_doc[:5]"
      ],
      "execution_count": null,
      "outputs": [
        {
          "output_type": "execute_result",
          "data": {
            "text/plain": [
              "array([[  3,  45,  62, 348,  11,   1,   0,   0,   0,   0,   0,   0,   0,\n",
              "          0,   0,   0,   0,   0,   0,   0,   0,   0],\n",
              "       [ 45,  62,   3, 348,  11,   1,   0,   0,   0,   0,   0,   0,   0,\n",
              "          0,   0,   0,   0,   0,   0,   0,   0,   0],\n",
              "       [ 11,   3,  45,  62, 348,   1,   0,   0,   0,   0,   0,   0,   0,\n",
              "          0,   0,   0,   0,   0,   0,   0,   0,   0],\n",
              "       [  3,  11,  45,  62, 348,   1,   0,   0,   0,   0,   0,   0,   0,\n",
              "          0,   0,   0,   0,   0,   0,   0,   0,   0],\n",
              "       [ 45,  62,   3, 587, 287,   2,   1,   0,   0,   0,   0,   0,   0,\n",
              "          0,   0,   0,   0,   0,   0,   0,   0,   0]], dtype=int32)"
            ]
          },
          "metadata": {
            "tags": []
          },
          "execution_count": 18
        }
      ]
    },
    {
      "cell_type": "code",
      "metadata": {
        "id": "9c7J1AK8dozB",
        "outputId": "a497c8e2-0195-48b3-a792-f41eac1d684c",
        "colab": {
          "base_uri": "https://localhost:8080/",
          "height": 34
        }
      },
      "source": [
        "print(\"Shape of padded docs = \",padded_doc.shape)"
      ],
      "execution_count": null,
      "outputs": [
        {
          "output_type": "stream",
          "text": [
            "Shape of padded docs =  (1567, 22)\n"
          ],
          "name": "stdout"
        }
      ]
    },
    {
      "cell_type": "code",
      "metadata": {
        "id": "CTIwsFBqeHPE"
      },
      "source": [
        "#tokenizer with filter changed\n",
        "output_tokenizer = create_tokenizer(unique_intent, filters = '!\"#$%&()*+,-/:;<=>?@[\\]^`{|}~')"
      ],
      "execution_count": null,
      "outputs": []
    },
    {
      "cell_type": "code",
      "metadata": {
        "id": "Xr1LmLrWeLnz",
        "outputId": "fbcbcdc5-2c9a-4ad6-e8f9-a54611befce0",
        "colab": {
          "base_uri": "https://localhost:8080/",
          "height": 969
        }
      },
      "source": [
        "output_tokenizer.word_index"
      ],
      "execution_count": null,
      "outputs": [
        {
          "output_type": "execute_result",
          "data": {
            "text/plain": [
              "{'2in1_acoount_info': 11,\n",
              " '2in1_atm_card': 15,\n",
              " '2in1_interest_receiving': 27,\n",
              " '2in1_min_balance': 55,\n",
              " '2in1_pass_book': 13,\n",
              " 'account_currency': 5,\n",
              " 'bank_statement_online': 41,\n",
              " 'cancel_card': 54,\n",
              " 'card_automatic_renewal': 35,\n",
              " 'card_foreign_use': 28,\n",
              " 'card_machine_repair': 50,\n",
              " 'card_usage': 36,\n",
              " 'change_details': 34,\n",
              " 'cvv_use': 42,\n",
              " 'debit_card_requirement': 48,\n",
              " 'fcaispe_required_docs': 19,\n",
              " 'foreign_account_lkr_withdrawal': 20,\n",
              " 'foreign_currency_withdrawal': 3,\n",
              " 'foreign_currency_withdrawal_currency': 7,\n",
              " 'foreign_deposit_loan': 29,\n",
              " 'get_lc_form': 46,\n",
              " 'get_monthly_report': 38,\n",
              " 'housing_loan_documents': 1,\n",
              " 'housing_loan_purpose': 39,\n",
              " 'interest_credit_info': 52,\n",
              " 'internet_bank_loan_amount': 30,\n",
              " 'joint_account_details': 37,\n",
              " 'life_insurance_limit': 40,\n",
              " 'loan_requirement': 8,\n",
              " 'marriage_claim': 43,\n",
              " 'new_card_reader_cost': 45,\n",
              " 'new_saving_book': 14,\n",
              " 'nrfc_account_opening': 9,\n",
              " 'nrfc_info': 33,\n",
              " 'precashing_foreign_fixed_deposit': 47,\n",
              " 'repos_benefits': 53,\n",
              " 'resident_foreign_account_info': 24,\n",
              " 'saving_atmcard_available': 2,\n",
              " 'selan_sure_info': 26,\n",
              " 'seylan_tikiri_minimum_deposit': 49,\n",
              " 'sl_development_bond_benefits': 31,\n",
              " 'slbfe_info': 32,\n",
              " 'suspious_activity': 44,\n",
              " 'tikiri_gift_voucher_age_limit': 12,\n",
              " 'tikiri_gift_voucher_buying_info': 22,\n",
              " 'tikiri_gift_voucher_info': 18,\n",
              " 'tikiri_gift_voucher_min_amount': 16,\n",
              " 'tikiri_gift_voucher_per_person': 6,\n",
              " 'tikiri_gift_voucher_redeem': 4,\n",
              " 'tikiri_gift_voucher_validity': 21,\n",
              " 'tikiri_gift_voucher_withdrawal': 10,\n",
              " 'tikiri_required_docs': 17,\n",
              " 'treasury_bond_advantage': 25,\n",
              " 'treasury_bond_important_features': 56,\n",
              " 'treasury_bond_information': 51,\n",
              " 'update_personal_details': 23}"
            ]
          },
          "metadata": {
            "tags": []
          },
          "execution_count": 21
        }
      ]
    },
    {
      "cell_type": "code",
      "metadata": {
        "id": "cnAAOGnueWk8"
      },
      "source": [
        "encoded_output = encoding_doc(output_tokenizer, intent)"
      ],
      "execution_count": null,
      "outputs": []
    },
    {
      "cell_type": "code",
      "metadata": {
        "id": "Z6ZTSOXbeaU-"
      },
      "source": [
        "encoded_output = np.array(encoded_output).reshape(len(encoded_output), 1)"
      ],
      "execution_count": null,
      "outputs": []
    },
    {
      "cell_type": "code",
      "metadata": {
        "id": "AO3baU22ehDd",
        "outputId": "f64c8d1b-6a3d-4b6c-9ee1-88da63084bc3",
        "colab": {
          "base_uri": "https://localhost:8080/",
          "height": 34
        }
      },
      "source": [
        "encoded_output.shape"
      ],
      "execution_count": null,
      "outputs": [
        {
          "output_type": "execute_result",
          "data": {
            "text/plain": [
              "(1567, 1)"
            ]
          },
          "metadata": {
            "tags": []
          },
          "execution_count": 24
        }
      ]
    },
    {
      "cell_type": "code",
      "metadata": {
        "id": "dQKN1NG9ekZX"
      },
      "source": [
        "def one_hot(encode):\n",
        "  o = OneHotEncoder(sparse = False)\n",
        "  return(o.fit_transform(encode))"
      ],
      "execution_count": null,
      "outputs": []
    },
    {
      "cell_type": "code",
      "metadata": {
        "id": "9J_Rnp9neovf"
      },
      "source": [
        "output_one_hot = one_hot(encoded_output)"
      ],
      "execution_count": null,
      "outputs": []
    },
    {
      "cell_type": "code",
      "metadata": {
        "id": "POdbSVHyerrC",
        "outputId": "503e564f-8136-4374-84b0-3a01f7a3a73f",
        "colab": {
          "base_uri": "https://localhost:8080/",
          "height": 34
        }
      },
      "source": [
        "output_one_hot.shape"
      ],
      "execution_count": null,
      "outputs": [
        {
          "output_type": "execute_result",
          "data": {
            "text/plain": [
              "(1567, 56)"
            ]
          },
          "metadata": {
            "tags": []
          },
          "execution_count": 27
        }
      ]
    },
    {
      "cell_type": "code",
      "metadata": {
        "id": "MHYO6k-1evbX"
      },
      "source": [
        "from sklearn.model_selection import train_test_split"
      ],
      "execution_count": null,
      "outputs": []
    },
    {
      "cell_type": "markdown",
      "metadata": {
        "id": "3YIwMUYIaIgJ"
      },
      "source": [
        ""
      ]
    },
    {
      "cell_type": "code",
      "metadata": {
        "id": "EwgQclLNewsZ"
      },
      "source": [
        "train_X, val_X, train_Y, val_Y = train_test_split(padded_doc, output_one_hot, shuffle = True, test_size = 0.2)"
      ],
      "execution_count": null,
      "outputs": []
    },
    {
      "cell_type": "code",
      "metadata": {
        "id": "ovNmNRFhe0o6",
        "outputId": "e861bc3f-eb3a-4032-aaa5-2238aecd2d34",
        "colab": {
          "base_uri": "https://localhost:8080/",
          "height": 51
        }
      },
      "source": [
        "print(\"Shape of train_X = %s and train_Y = %s\" % (train_X.shape, train_Y.shape))\n",
        "print(\"Shape of val_X = %s and val_Y = %s\" % (val_X.shape, val_Y.shape))"
      ],
      "execution_count": null,
      "outputs": [
        {
          "output_type": "stream",
          "text": [
            "Shape of train_X = (1253, 22) and train_Y = (1253, 56)\n",
            "Shape of val_X = (314, 22) and val_Y = (314, 56)\n"
          ],
          "name": "stdout"
        }
      ]
    },
    {
      "cell_type": "code",
      "metadata": {
        "id": "Fvb7gYYuRl22"
      },
      "source": [
        "try:\n",
        "    response = requests.get(url)\n",
        "except Exception as e:\n",
        "    print(e)\n",
        "\n",
        "\n"
      ],
      "execution_count": null,
      "outputs": []
    },
    {
      "cell_type": "code",
      "metadata": {
        "id": "ty_lkN7URmhV"
      },
      "source": [
        "with open('events.txt','w') as fd:\n",
        "    fd.write(response.text)"
      ],
      "execution_count": null,
      "outputs": []
    },
    {
      "cell_type": "code",
      "metadata": {
        "id": "vYMdF6jwNRyY"
      },
      "source": [
        "file = open(\"embed.tz\", \"w\")\n"
      ],
      "execution_count": null,
      "outputs": []
    },
    {
      "cell_type": "code",
      "metadata": {
        "id": "EPlISGKuNbrY",
        "outputId": "f7f932d0-49b9-4e5e-fdd0-be1b5941e8bb",
        "colab": {
          "base_uri": "https://localhost:8080/",
          "height": 333
        }
      },
      "source": [
        "import gzip\n",
        "f = gzip.open(r, 'rb')\n",
        "file_content = f.read()\n",
        "f.close()"
      ],
      "execution_count": null,
      "outputs": [
        {
          "output_type": "error",
          "ename": "TypeError",
          "evalue": "ignored",
          "traceback": [
            "\u001b[0;31m---------------------------------------------------------------------------\u001b[0m",
            "\u001b[0;31mTypeError\u001b[0m                                 Traceback (most recent call last)",
            "\u001b[0;32m<ipython-input-4-8e02cd01a443>\u001b[0m in \u001b[0;36m<module>\u001b[0;34m()\u001b[0m\n\u001b[1;32m      1\u001b[0m \u001b[0;32mimport\u001b[0m \u001b[0mgzip\u001b[0m\u001b[0;34m\u001b[0m\u001b[0;34m\u001b[0m\u001b[0m\n\u001b[0;32m----> 2\u001b[0;31m \u001b[0mf\u001b[0m \u001b[0;34m=\u001b[0m \u001b[0mgzip\u001b[0m\u001b[0;34m.\u001b[0m\u001b[0mopen\u001b[0m\u001b[0;34m(\u001b[0m\u001b[0mr\u001b[0m\u001b[0;34m,\u001b[0m \u001b[0;34m'rb'\u001b[0m\u001b[0;34m)\u001b[0m\u001b[0;34m\u001b[0m\u001b[0;34m\u001b[0m\u001b[0m\n\u001b[0m\u001b[1;32m      3\u001b[0m \u001b[0mfile_content\u001b[0m \u001b[0;34m=\u001b[0m \u001b[0mf\u001b[0m\u001b[0;34m.\u001b[0m\u001b[0mread\u001b[0m\u001b[0;34m(\u001b[0m\u001b[0;34m)\u001b[0m\u001b[0;34m\u001b[0m\u001b[0;34m\u001b[0m\u001b[0m\n\u001b[1;32m      4\u001b[0m \u001b[0mf\u001b[0m\u001b[0;34m.\u001b[0m\u001b[0mclose\u001b[0m\u001b[0;34m(\u001b[0m\u001b[0;34m)\u001b[0m\u001b[0;34m\u001b[0m\u001b[0;34m\u001b[0m\u001b[0m\n",
            "\u001b[0;32m/usr/lib/python3.6/gzip.py\u001b[0m in \u001b[0;36mopen\u001b[0;34m(filename, mode, compresslevel, encoding, errors, newline)\u001b[0m\n\u001b[1;32m     55\u001b[0m         \u001b[0mbinary_file\u001b[0m \u001b[0;34m=\u001b[0m \u001b[0mGzipFile\u001b[0m\u001b[0;34m(\u001b[0m\u001b[0;32mNone\u001b[0m\u001b[0;34m,\u001b[0m \u001b[0mgz_mode\u001b[0m\u001b[0;34m,\u001b[0m \u001b[0mcompresslevel\u001b[0m\u001b[0;34m,\u001b[0m \u001b[0mfilename\u001b[0m\u001b[0;34m)\u001b[0m\u001b[0;34m\u001b[0m\u001b[0;34m\u001b[0m\u001b[0m\n\u001b[1;32m     56\u001b[0m     \u001b[0;32melse\u001b[0m\u001b[0;34m:\u001b[0m\u001b[0;34m\u001b[0m\u001b[0;34m\u001b[0m\u001b[0m\n\u001b[0;32m---> 57\u001b[0;31m         \u001b[0;32mraise\u001b[0m \u001b[0mTypeError\u001b[0m\u001b[0;34m(\u001b[0m\u001b[0;34m\"filename must be a str or bytes object, or a file\"\u001b[0m\u001b[0;34m)\u001b[0m\u001b[0;34m\u001b[0m\u001b[0;34m\u001b[0m\u001b[0m\n\u001b[0m\u001b[1;32m     58\u001b[0m \u001b[0;34m\u001b[0m\u001b[0m\n\u001b[1;32m     59\u001b[0m     \u001b[0;32mif\u001b[0m \u001b[0;34m\"t\"\u001b[0m \u001b[0;32min\u001b[0m \u001b[0mmode\u001b[0m\u001b[0;34m:\u001b[0m\u001b[0;34m\u001b[0m\u001b[0;34m\u001b[0m\u001b[0m\n",
            "\u001b[0;31mTypeError\u001b[0m: filename must be a str or bytes object, or a file"
          ]
        }
      ]
    },
    {
      "cell_type": "code",
      "metadata": {
        "id": "9A_GKymYL5H2"
      },
      "source": [
        "import gzip\n",
        "f = gzip.open('file.txt.gz', 'rb')\n",
        "file_content = f.read()\n",
        "f.close()"
      ],
      "execution_count": null,
      "outputs": []
    },
    {
      "cell_type": "code",
      "metadata": {
        "id": "qSRLYP3qe56h"
      },
      "source": [
        "def create_model(vocab_size, max_length):\n",
        "  model = Sequential()\n",
        "  model.add(Embedding(vocab_size, 300, input_length = max_length, trainable = False))\n",
        "  model.add(Bidirectional(LSTM(128)))\n",
        "#   model.add(LSTM(128))\n",
        "  model.add(Dense(32, activation = \"relu\"))\n",
        "  model.add(Dropout(0.5))\n",
        "  model.add(Dense(56, activation = \"softmax\"))\n",
        "  \n",
        "  return model"
      ],
      "execution_count": null,
      "outputs": []
    },
    {
      "cell_type": "code",
      "metadata": {
        "id": "nDbMkC6pe_5J",
        "outputId": "58f57519-a106-43dd-be75-30faee4588cb",
        "colab": {
          "base_uri": "https://localhost:8080/",
          "height": 323
        }
      },
      "source": [
        "model = create_model(vocab_size, max_length)\n",
        "\n",
        "model.compile(loss = \"categorical_crossentropy\", optimizer = \"adam\", metrics = [\"accuracy\"])\n",
        "model.summary()"
      ],
      "execution_count": null,
      "outputs": [
        {
          "output_type": "stream",
          "text": [
            "Model: \"sequential_3\"\n",
            "_________________________________________________________________\n",
            "Layer (type)                 Output Shape              Param #   \n",
            "=================================================================\n",
            "embedding_3 (Embedding)      (None, 22, 300)           342300    \n",
            "_________________________________________________________________\n",
            "bidirectional_3 (Bidirection (None, 256)               439296    \n",
            "_________________________________________________________________\n",
            "dense_5 (Dense)              (None, 32)                8224      \n",
            "_________________________________________________________________\n",
            "dropout_3 (Dropout)          (None, 32)                0         \n",
            "_________________________________________________________________\n",
            "dense_6 (Dense)              (None, 56)                1848      \n",
            "=================================================================\n",
            "Total params: 791,668\n",
            "Trainable params: 449,368\n",
            "Non-trainable params: 342,300\n",
            "_________________________________________________________________\n"
          ],
          "name": "stdout"
        }
      ]
    },
    {
      "cell_type": "code",
      "metadata": {
        "id": "FZaglVqnfGtp",
        "outputId": "656942f4-ba91-45f5-f770-b238af84e4f5",
        "colab": {
          "base_uri": "https://localhost:8080/",
          "height": 1000
        }
      },
      "source": [
        "filename = 'model.h5'\n",
        "checkpoint = ModelCheckpoint(filename, monitor='val_loss', verbose=1, save_best_only=True, mode='min')\n",
        "\n",
        "hist = model.fit(train_X, train_Y, epochs = 100, batch_size = 32, validation_data = (val_X, val_Y), callbacks = [checkpoint])"
      ],
      "execution_count": null,
      "outputs": [
        {
          "output_type": "stream",
          "text": [
            "Train on 1253 samples, validate on 314 samples\n",
            "Epoch 1/100\n",
            "1253/1253 [==============================] - 7s 5ms/step - loss: 3.9949 - acc: 0.0471 - val_loss: 3.9353 - val_acc: 0.0701\n",
            "\n",
            "Epoch 00001: val_loss improved from inf to 3.93529, saving model to model.h5\n",
            "Epoch 2/100\n",
            "1253/1253 [==============================] - 3s 3ms/step - loss: 3.9036 - acc: 0.0950 - val_loss: 3.7962 - val_acc: 0.1561\n",
            "\n",
            "Epoch 00002: val_loss improved from 3.93529 to 3.79616, saving model to model.h5\n",
            "Epoch 3/100\n",
            "1253/1253 [==============================] - 3s 3ms/step - loss: 3.6894 - acc: 0.1293 - val_loss: 3.4614 - val_acc: 0.1210\n",
            "\n",
            "Epoch 00003: val_loss improved from 3.79616 to 3.46139, saving model to model.h5\n",
            "Epoch 4/100\n",
            "1253/1253 [==============================] - 4s 3ms/step - loss: 3.3546 - acc: 0.1883 - val_loss: 3.0261 - val_acc: 0.2675\n",
            "\n",
            "Epoch 00004: val_loss improved from 3.46139 to 3.02610, saving model to model.h5\n",
            "Epoch 5/100\n",
            "1253/1253 [==============================] - 4s 3ms/step - loss: 3.0238 - acc: 0.2522 - val_loss: 2.8410 - val_acc: 0.3471\n",
            "\n",
            "Epoch 00005: val_loss improved from 3.02610 to 2.84104, saving model to model.h5\n",
            "Epoch 6/100\n",
            "1253/1253 [==============================] - 3s 3ms/step - loss: 2.8230 - acc: 0.2793 - val_loss: 2.5532 - val_acc: 0.3790\n",
            "\n",
            "Epoch 00006: val_loss improved from 2.84104 to 2.55317, saving model to model.h5\n",
            "Epoch 7/100\n",
            "1253/1253 [==============================] - 3s 3ms/step - loss: 2.5529 - acc: 0.3336 - val_loss: 2.2643 - val_acc: 0.4172\n",
            "\n",
            "Epoch 00007: val_loss improved from 2.55317 to 2.26429, saving model to model.h5\n",
            "Epoch 8/100\n",
            "1253/1253 [==============================] - 4s 3ms/step - loss: 2.3498 - acc: 0.3727 - val_loss: 2.1680 - val_acc: 0.3822\n",
            "\n",
            "Epoch 00008: val_loss improved from 2.26429 to 2.16797, saving model to model.h5\n",
            "Epoch 9/100\n",
            "1253/1253 [==============================] - 4s 3ms/step - loss: 2.1932 - acc: 0.3982 - val_loss: 1.9331 - val_acc: 0.4650\n",
            "\n",
            "Epoch 00009: val_loss improved from 2.16797 to 1.93313, saving model to model.h5\n",
            "Epoch 10/100\n",
            "1253/1253 [==============================] - 4s 3ms/step - loss: 2.0121 - acc: 0.4437 - val_loss: 1.7341 - val_acc: 0.5255\n",
            "\n",
            "Epoch 00010: val_loss improved from 1.93313 to 1.73411, saving model to model.h5\n",
            "Epoch 11/100\n",
            "1253/1253 [==============================] - 3s 3ms/step - loss: 1.8635 - acc: 0.4773 - val_loss: 1.6358 - val_acc: 0.5573\n",
            "\n",
            "Epoch 00011: val_loss improved from 1.73411 to 1.63580, saving model to model.h5\n",
            "Epoch 12/100\n",
            "1253/1253 [==============================] - 3s 3ms/step - loss: 1.7577 - acc: 0.5108 - val_loss: 1.5579 - val_acc: 0.6369\n",
            "\n",
            "Epoch 00012: val_loss improved from 1.63580 to 1.55786, saving model to model.h5\n",
            "Epoch 13/100\n",
            "1253/1253 [==============================] - 3s 3ms/step - loss: 1.6069 - acc: 0.5443 - val_loss: 1.2848 - val_acc: 0.6847\n",
            "\n",
            "Epoch 00013: val_loss improved from 1.55786 to 1.28477, saving model to model.h5\n",
            "Epoch 14/100\n",
            "1253/1253 [==============================] - 3s 3ms/step - loss: 1.4836 - acc: 0.5754 - val_loss: 1.2033 - val_acc: 0.6975\n",
            "\n",
            "Epoch 00014: val_loss improved from 1.28477 to 1.20327, saving model to model.h5\n",
            "Epoch 15/100\n",
            "1253/1253 [==============================] - 3s 3ms/step - loss: 1.3957 - acc: 0.5866 - val_loss: 1.0912 - val_acc: 0.7420\n",
            "\n",
            "Epoch 00015: val_loss improved from 1.20327 to 1.09120, saving model to model.h5\n",
            "Epoch 16/100\n",
            "1253/1253 [==============================] - 3s 3ms/step - loss: 1.3899 - acc: 0.6018 - val_loss: 1.0115 - val_acc: 0.7548\n",
            "\n",
            "Epoch 00016: val_loss improved from 1.09120 to 1.01154, saving model to model.h5\n",
            "Epoch 17/100\n",
            "1253/1253 [==============================] - 3s 3ms/step - loss: 1.2133 - acc: 0.6321 - val_loss: 0.9122 - val_acc: 0.7962\n",
            "\n",
            "Epoch 00017: val_loss improved from 1.01154 to 0.91215, saving model to model.h5\n",
            "Epoch 18/100\n",
            "1253/1253 [==============================] - 3s 3ms/step - loss: 1.1802 - acc: 0.6488 - val_loss: 0.8121 - val_acc: 0.8057\n",
            "\n",
            "Epoch 00018: val_loss improved from 0.91215 to 0.81212, saving model to model.h5\n",
            "Epoch 19/100\n",
            "1253/1253 [==============================] - 3s 3ms/step - loss: 1.0946 - acc: 0.6672 - val_loss: 0.7361 - val_acc: 0.8121\n",
            "\n",
            "Epoch 00019: val_loss improved from 0.81212 to 0.73607, saving model to model.h5\n",
            "Epoch 20/100\n",
            "1253/1253 [==============================] - 3s 3ms/step - loss: 1.0201 - acc: 0.6864 - val_loss: 0.7262 - val_acc: 0.8408\n",
            "\n",
            "Epoch 00020: val_loss improved from 0.73607 to 0.72617, saving model to model.h5\n",
            "Epoch 21/100\n",
            "1253/1253 [==============================] - 3s 3ms/step - loss: 0.9473 - acc: 0.7095 - val_loss: 0.6528 - val_acc: 0.8567\n",
            "\n",
            "Epoch 00021: val_loss improved from 0.72617 to 0.65280, saving model to model.h5\n",
            "Epoch 22/100\n",
            "1253/1253 [==============================] - 3s 3ms/step - loss: 0.9260 - acc: 0.7151 - val_loss: 0.6026 - val_acc: 0.8408\n",
            "\n",
            "Epoch 00022: val_loss improved from 0.65280 to 0.60265, saving model to model.h5\n",
            "Epoch 23/100\n",
            "1253/1253 [==============================] - 3s 3ms/step - loss: 0.8788 - acc: 0.7167 - val_loss: 0.5868 - val_acc: 0.8471\n",
            "\n",
            "Epoch 00023: val_loss improved from 0.60265 to 0.58675, saving model to model.h5\n",
            "Epoch 24/100\n",
            "1253/1253 [==============================] - 3s 3ms/step - loss: 0.7805 - acc: 0.7502 - val_loss: 0.5153 - val_acc: 0.8790\n",
            "\n",
            "Epoch 00024: val_loss improved from 0.58675 to 0.51533, saving model to model.h5\n",
            "Epoch 25/100\n",
            "1253/1253 [==============================] - 3s 3ms/step - loss: 0.7649 - acc: 0.7590 - val_loss: 0.4710 - val_acc: 0.8790\n",
            "\n",
            "Epoch 00025: val_loss improved from 0.51533 to 0.47101, saving model to model.h5\n",
            "Epoch 26/100\n",
            "1253/1253 [==============================] - 3s 3ms/step - loss: 0.7926 - acc: 0.7422 - val_loss: 0.4818 - val_acc: 0.9013\n",
            "\n",
            "Epoch 00026: val_loss did not improve from 0.47101\n",
            "Epoch 27/100\n",
            "1253/1253 [==============================] - 3s 3ms/step - loss: 0.6848 - acc: 0.7933 - val_loss: 0.4984 - val_acc: 0.8790\n",
            "\n",
            "Epoch 00027: val_loss did not improve from 0.47101\n",
            "Epoch 28/100\n",
            "1253/1253 [==============================] - 3s 3ms/step - loss: 0.6387 - acc: 0.7989 - val_loss: 0.4098 - val_acc: 0.8949\n",
            "\n",
            "Epoch 00028: val_loss improved from 0.47101 to 0.40981, saving model to model.h5\n",
            "Epoch 29/100\n",
            "1253/1253 [==============================] - 4s 3ms/step - loss: 0.6201 - acc: 0.8005 - val_loss: 0.4171 - val_acc: 0.9045\n",
            "\n",
            "Epoch 00029: val_loss did not improve from 0.40981\n",
            "Epoch 30/100\n",
            "1253/1253 [==============================] - 3s 3ms/step - loss: 0.5982 - acc: 0.8045 - val_loss: 0.3992 - val_acc: 0.9045\n",
            "\n",
            "Epoch 00030: val_loss improved from 0.40981 to 0.39917, saving model to model.h5\n",
            "Epoch 31/100\n",
            "1253/1253 [==============================] - 3s 3ms/step - loss: 0.6105 - acc: 0.7901 - val_loss: 0.3633 - val_acc: 0.9076\n",
            "\n",
            "Epoch 00031: val_loss improved from 0.39917 to 0.36326, saving model to model.h5\n",
            "Epoch 32/100\n",
            "1253/1253 [==============================] - 3s 3ms/step - loss: 0.5750 - acc: 0.8172 - val_loss: 0.3650 - val_acc: 0.9013\n",
            "\n",
            "Epoch 00032: val_loss did not improve from 0.36326\n",
            "Epoch 33/100\n",
            "1253/1253 [==============================] - 3s 3ms/step - loss: 0.5956 - acc: 0.8148 - val_loss: 0.3896 - val_acc: 0.9076\n",
            "\n",
            "Epoch 00033: val_loss did not improve from 0.36326\n",
            "Epoch 34/100\n",
            "1253/1253 [==============================] - 3s 3ms/step - loss: 0.5293 - acc: 0.8308 - val_loss: 0.3605 - val_acc: 0.9299\n",
            "\n",
            "Epoch 00034: val_loss improved from 0.36326 to 0.36052, saving model to model.h5\n",
            "Epoch 35/100\n",
            "1253/1253 [==============================] - 3s 3ms/step - loss: 0.5207 - acc: 0.8380 - val_loss: 0.3580 - val_acc: 0.9236\n",
            "\n",
            "Epoch 00035: val_loss improved from 0.36052 to 0.35802, saving model to model.h5\n",
            "Epoch 36/100\n",
            "1253/1253 [==============================] - 3s 3ms/step - loss: 0.4857 - acc: 0.8508 - val_loss: 0.3675 - val_acc: 0.9236\n",
            "\n",
            "Epoch 00036: val_loss did not improve from 0.35802\n",
            "Epoch 37/100\n",
            "1253/1253 [==============================] - 3s 3ms/step - loss: 0.5415 - acc: 0.8388 - val_loss: 0.3862 - val_acc: 0.9204\n",
            "\n",
            "Epoch 00037: val_loss did not improve from 0.35802\n",
            "Epoch 38/100\n",
            "1253/1253 [==============================] - 3s 3ms/step - loss: 0.4267 - acc: 0.8651 - val_loss: 0.3055 - val_acc: 0.9363\n",
            "\n",
            "Epoch 00038: val_loss improved from 0.35802 to 0.30551, saving model to model.h5\n",
            "Epoch 39/100\n",
            "1253/1253 [==============================] - 3s 3ms/step - loss: 0.4280 - acc: 0.8627 - val_loss: 0.3301 - val_acc: 0.9268\n",
            "\n",
            "Epoch 00039: val_loss did not improve from 0.30551\n",
            "Epoch 40/100\n",
            "1253/1253 [==============================] - 3s 3ms/step - loss: 0.4134 - acc: 0.8651 - val_loss: 0.3250 - val_acc: 0.9363\n",
            "\n",
            "Epoch 00040: val_loss did not improve from 0.30551\n",
            "Epoch 41/100\n",
            "1253/1253 [==============================] - 3s 3ms/step - loss: 0.5039 - acc: 0.8364 - val_loss: 0.3640 - val_acc: 0.9268\n",
            "\n",
            "Epoch 00041: val_loss did not improve from 0.30551\n",
            "Epoch 42/100\n",
            "1253/1253 [==============================] - 3s 3ms/step - loss: 0.3894 - acc: 0.8651 - val_loss: 0.3370 - val_acc: 0.9204\n",
            "\n",
            "Epoch 00042: val_loss did not improve from 0.30551\n",
            "Epoch 43/100\n",
            "1253/1253 [==============================] - 3s 3ms/step - loss: 0.3895 - acc: 0.8763 - val_loss: 0.3069 - val_acc: 0.9395\n",
            "\n",
            "Epoch 00043: val_loss did not improve from 0.30551\n",
            "Epoch 44/100\n",
            "1253/1253 [==============================] - 3s 3ms/step - loss: 0.4484 - acc: 0.8388 - val_loss: 0.2949 - val_acc: 0.9427\n",
            "\n",
            "Epoch 00044: val_loss improved from 0.30551 to 0.29490, saving model to model.h5\n",
            "Epoch 45/100\n",
            "1253/1253 [==============================] - 3s 3ms/step - loss: 0.3601 - acc: 0.8803 - val_loss: 0.3219 - val_acc: 0.9363\n",
            "\n",
            "Epoch 00045: val_loss did not improve from 0.29490\n",
            "Epoch 46/100\n",
            "1253/1253 [==============================] - 4s 3ms/step - loss: 0.3525 - acc: 0.8819 - val_loss: 0.3152 - val_acc: 0.9459\n",
            "\n",
            "Epoch 00046: val_loss did not improve from 0.29490\n",
            "Epoch 47/100\n",
            "1253/1253 [==============================] - 3s 3ms/step - loss: 0.3631 - acc: 0.8723 - val_loss: 0.3172 - val_acc: 0.9363\n",
            "\n",
            "Epoch 00047: val_loss did not improve from 0.29490\n",
            "Epoch 48/100\n",
            "1253/1253 [==============================] - 3s 3ms/step - loss: 0.3524 - acc: 0.8811 - val_loss: 0.3140 - val_acc: 0.9459\n",
            "\n",
            "Epoch 00048: val_loss did not improve from 0.29490\n",
            "Epoch 49/100\n",
            "1253/1253 [==============================] - 3s 3ms/step - loss: 0.3872 - acc: 0.8755 - val_loss: 0.3633 - val_acc: 0.9299\n",
            "\n",
            "Epoch 00049: val_loss did not improve from 0.29490\n",
            "Epoch 50/100\n",
            "1253/1253 [==============================] - 3s 3ms/step - loss: 0.2908 - acc: 0.9098 - val_loss: 0.3670 - val_acc: 0.9268\n",
            "\n",
            "Epoch 00050: val_loss did not improve from 0.29490\n",
            "Epoch 51/100\n",
            "1253/1253 [==============================] - 3s 3ms/step - loss: 0.3304 - acc: 0.8883 - val_loss: 0.2985 - val_acc: 0.9395\n",
            "\n",
            "Epoch 00051: val_loss did not improve from 0.29490\n",
            "Epoch 52/100\n",
            "1253/1253 [==============================] - 3s 3ms/step - loss: 0.3143 - acc: 0.8986 - val_loss: 0.3144 - val_acc: 0.9459\n",
            "\n",
            "Epoch 00052: val_loss did not improve from 0.29490\n",
            "Epoch 53/100\n",
            "1253/1253 [==============================] - 3s 3ms/step - loss: 0.2990 - acc: 0.8962 - val_loss: 0.3307 - val_acc: 0.9331\n",
            "\n",
            "Epoch 00053: val_loss did not improve from 0.29490\n",
            "Epoch 54/100\n",
            "1253/1253 [==============================] - 3s 3ms/step - loss: 0.3158 - acc: 0.8923 - val_loss: 0.3544 - val_acc: 0.9331\n",
            "\n",
            "Epoch 00054: val_loss did not improve from 0.29490\n",
            "Epoch 55/100\n",
            "1253/1253 [==============================] - 3s 3ms/step - loss: 0.3683 - acc: 0.8723 - val_loss: 0.3648 - val_acc: 0.9395\n",
            "\n",
            "Epoch 00055: val_loss did not improve from 0.29490\n",
            "Epoch 56/100\n",
            "1253/1253 [==============================] - 3s 3ms/step - loss: 0.3047 - acc: 0.8994 - val_loss: 0.3132 - val_acc: 0.9299\n",
            "\n",
            "Epoch 00056: val_loss did not improve from 0.29490\n",
            "Epoch 57/100\n",
            "1253/1253 [==============================] - 3s 3ms/step - loss: 0.3224 - acc: 0.8970 - val_loss: 0.3086 - val_acc: 0.9459\n",
            "\n",
            "Epoch 00057: val_loss did not improve from 0.29490\n",
            "Epoch 58/100\n",
            "1253/1253 [==============================] - 3s 3ms/step - loss: 0.3193 - acc: 0.8875 - val_loss: 0.3768 - val_acc: 0.9395\n",
            "\n",
            "Epoch 00058: val_loss did not improve from 0.29490\n",
            "Epoch 59/100\n",
            "1253/1253 [==============================] - 3s 3ms/step - loss: 0.2991 - acc: 0.9026 - val_loss: 0.3540 - val_acc: 0.9331\n",
            "\n",
            "Epoch 00059: val_loss did not improve from 0.29490\n",
            "Epoch 60/100\n",
            "1253/1253 [==============================] - 3s 3ms/step - loss: 0.3278 - acc: 0.8779 - val_loss: 0.3190 - val_acc: 0.9363\n",
            "\n",
            "Epoch 00060: val_loss did not improve from 0.29490\n",
            "Epoch 61/100\n",
            "1253/1253 [==============================] - 3s 3ms/step - loss: 0.2759 - acc: 0.9122 - val_loss: 0.3272 - val_acc: 0.9427\n",
            "\n",
            "Epoch 00061: val_loss did not improve from 0.29490\n",
            "Epoch 62/100\n",
            "1253/1253 [==============================] - 3s 3ms/step - loss: 0.2628 - acc: 0.9170 - val_loss: 0.3214 - val_acc: 0.9427\n",
            "\n",
            "Epoch 00062: val_loss did not improve from 0.29490\n",
            "Epoch 63/100\n",
            "1253/1253 [==============================] - 3s 3ms/step - loss: 0.3055 - acc: 0.8955 - val_loss: 0.3066 - val_acc: 0.9522\n",
            "\n",
            "Epoch 00063: val_loss did not improve from 0.29490\n",
            "Epoch 64/100\n",
            "1253/1253 [==============================] - 3s 3ms/step - loss: 0.2529 - acc: 0.9106 - val_loss: 0.3938 - val_acc: 0.9331\n",
            "\n",
            "Epoch 00064: val_loss did not improve from 0.29490\n",
            "Epoch 65/100\n",
            "1253/1253 [==============================] - 3s 3ms/step - loss: 0.2622 - acc: 0.9066 - val_loss: 0.3279 - val_acc: 0.9427\n",
            "\n",
            "Epoch 00065: val_loss did not improve from 0.29490\n",
            "Epoch 66/100\n",
            "1253/1253 [==============================] - 3s 3ms/step - loss: 0.2786 - acc: 0.9122 - val_loss: 0.3404 - val_acc: 0.9395\n",
            "\n",
            "Epoch 00066: val_loss did not improve from 0.29490\n",
            "Epoch 67/100\n",
            "1253/1253 [==============================] - 3s 3ms/step - loss: 0.2598 - acc: 0.9106 - val_loss: 0.3264 - val_acc: 0.9459\n",
            "\n",
            "Epoch 00067: val_loss did not improve from 0.29490\n",
            "Epoch 68/100\n",
            "1253/1253 [==============================] - 4s 3ms/step - loss: 0.2442 - acc: 0.9266 - val_loss: 0.3558 - val_acc: 0.9331\n",
            "\n",
            "Epoch 00068: val_loss did not improve from 0.29490\n",
            "Epoch 69/100\n",
            "1253/1253 [==============================] - 3s 3ms/step - loss: 0.2440 - acc: 0.9090 - val_loss: 0.3371 - val_acc: 0.9490\n",
            "\n",
            "Epoch 00069: val_loss did not improve from 0.29490\n",
            "Epoch 70/100\n",
            "1253/1253 [==============================] - 3s 3ms/step - loss: 0.2537 - acc: 0.9082 - val_loss: 0.3539 - val_acc: 0.9331\n",
            "\n",
            "Epoch 00070: val_loss did not improve from 0.29490\n",
            "Epoch 71/100\n",
            "1253/1253 [==============================] - 3s 3ms/step - loss: 0.2572 - acc: 0.9146 - val_loss: 0.3467 - val_acc: 0.9459\n",
            "\n",
            "Epoch 00071: val_loss did not improve from 0.29490\n",
            "Epoch 72/100\n",
            "1253/1253 [==============================] - 3s 3ms/step - loss: 0.2412 - acc: 0.9186 - val_loss: 0.4618 - val_acc: 0.9236\n",
            "\n",
            "Epoch 00072: val_loss did not improve from 0.29490\n",
            "Epoch 73/100\n",
            "1253/1253 [==============================] - 3s 3ms/step - loss: 0.2565 - acc: 0.9194 - val_loss: 0.3674 - val_acc: 0.9395\n",
            "\n",
            "Epoch 00073: val_loss did not improve from 0.29490\n",
            "Epoch 74/100\n",
            "1253/1253 [==============================] - 3s 3ms/step - loss: 0.2587 - acc: 0.9098 - val_loss: 0.3833 - val_acc: 0.9395\n",
            "\n",
            "Epoch 00074: val_loss did not improve from 0.29490\n",
            "Epoch 75/100\n",
            "1253/1253 [==============================] - 3s 3ms/step - loss: 0.2357 - acc: 0.9226 - val_loss: 0.3577 - val_acc: 0.9395\n",
            "\n",
            "Epoch 00075: val_loss did not improve from 0.29490\n",
            "Epoch 76/100\n",
            "1253/1253 [==============================] - 3s 3ms/step - loss: 0.2478 - acc: 0.9082 - val_loss: 0.3558 - val_acc: 0.9427\n",
            "\n",
            "Epoch 00076: val_loss did not improve from 0.29490\n",
            "Epoch 77/100\n",
            "1253/1253 [==============================] - 3s 3ms/step - loss: 0.2612 - acc: 0.9058 - val_loss: 0.3471 - val_acc: 0.9522\n",
            "\n",
            "Epoch 00077: val_loss did not improve from 0.29490\n",
            "Epoch 78/100\n",
            "1253/1253 [==============================] - 3s 3ms/step - loss: 0.2374 - acc: 0.9194 - val_loss: 0.3917 - val_acc: 0.9395\n",
            "\n",
            "Epoch 00078: val_loss did not improve from 0.29490\n",
            "Epoch 79/100\n",
            "1253/1253 [==============================] - 3s 3ms/step - loss: 0.2507 - acc: 0.9066 - val_loss: 0.3543 - val_acc: 0.9395\n",
            "\n",
            "Epoch 00079: val_loss did not improve from 0.29490\n",
            "Epoch 80/100\n",
            "1253/1253 [==============================] - 3s 3ms/step - loss: 0.2317 - acc: 0.9202 - val_loss: 0.3486 - val_acc: 0.9363\n",
            "\n",
            "Epoch 00080: val_loss did not improve from 0.29490\n",
            "Epoch 81/100\n",
            "1253/1253 [==============================] - 3s 3ms/step - loss: 0.2188 - acc: 0.9298 - val_loss: 0.3661 - val_acc: 0.9363\n",
            "\n",
            "Epoch 00081: val_loss did not improve from 0.29490\n",
            "Epoch 82/100\n",
            "1253/1253 [==============================] - 3s 3ms/step - loss: 0.2133 - acc: 0.9218 - val_loss: 0.3611 - val_acc: 0.9459\n",
            "\n",
            "Epoch 00082: val_loss did not improve from 0.29490\n",
            "Epoch 83/100\n",
            "1253/1253 [==============================] - 4s 3ms/step - loss: 0.1934 - acc: 0.9354 - val_loss: 0.3418 - val_acc: 0.9395\n",
            "\n",
            "Epoch 00083: val_loss did not improve from 0.29490\n",
            "Epoch 84/100\n",
            "1253/1253 [==============================] - 4s 3ms/step - loss: 0.1760 - acc: 0.9409 - val_loss: 0.3848 - val_acc: 0.9331\n",
            "\n",
            "Epoch 00084: val_loss did not improve from 0.29490\n",
            "Epoch 85/100\n",
            "1253/1253 [==============================] - 4s 3ms/step - loss: 0.2379 - acc: 0.9154 - val_loss: 0.3308 - val_acc: 0.9363\n",
            "\n",
            "Epoch 00085: val_loss did not improve from 0.29490\n",
            "Epoch 86/100\n",
            "1253/1253 [==============================] - 3s 3ms/step - loss: 0.2239 - acc: 0.9170 - val_loss: 0.4039 - val_acc: 0.9363\n",
            "\n",
            "Epoch 00086: val_loss did not improve from 0.29490\n",
            "Epoch 87/100\n",
            "1253/1253 [==============================] - 4s 3ms/step - loss: 0.1848 - acc: 0.9417 - val_loss: 0.3704 - val_acc: 0.9427\n",
            "\n",
            "Epoch 00087: val_loss did not improve from 0.29490\n",
            "Epoch 88/100\n",
            "1253/1253 [==============================] - 3s 3ms/step - loss: 0.2119 - acc: 0.9258 - val_loss: 0.4283 - val_acc: 0.9395\n",
            "\n",
            "Epoch 00088: val_loss did not improve from 0.29490\n",
            "Epoch 89/100\n",
            "1253/1253 [==============================] - 3s 3ms/step - loss: 0.2323 - acc: 0.9194 - val_loss: 0.3195 - val_acc: 0.9490\n",
            "\n",
            "Epoch 00089: val_loss did not improve from 0.29490\n",
            "Epoch 90/100\n",
            "1253/1253 [==============================] - 4s 3ms/step - loss: 0.2176 - acc: 0.9186 - val_loss: 0.3900 - val_acc: 0.9490\n",
            "\n",
            "Epoch 00090: val_loss did not improve from 0.29490\n",
            "Epoch 91/100\n",
            "1253/1253 [==============================] - 3s 3ms/step - loss: 0.2133 - acc: 0.9266 - val_loss: 0.3350 - val_acc: 0.9395\n",
            "\n",
            "Epoch 00091: val_loss did not improve from 0.29490\n",
            "Epoch 92/100\n",
            "1253/1253 [==============================] - 4s 3ms/step - loss: 0.2169 - acc: 0.9194 - val_loss: 0.3309 - val_acc: 0.9459\n",
            "\n",
            "Epoch 00092: val_loss did not improve from 0.29490\n",
            "Epoch 93/100\n",
            "1253/1253 [==============================] - 4s 3ms/step - loss: 0.2019 - acc: 0.9338 - val_loss: 0.3890 - val_acc: 0.9395\n",
            "\n",
            "Epoch 00093: val_loss did not improve from 0.29490\n",
            "Epoch 94/100\n",
            "1253/1253 [==============================] - 3s 3ms/step - loss: 0.2053 - acc: 0.9282 - val_loss: 0.3641 - val_acc: 0.9363\n",
            "\n",
            "Epoch 00094: val_loss did not improve from 0.29490\n",
            "Epoch 95/100\n",
            "1253/1253 [==============================] - 3s 3ms/step - loss: 0.2110 - acc: 0.9154 - val_loss: 0.3332 - val_acc: 0.9427\n",
            "\n",
            "Epoch 00095: val_loss did not improve from 0.29490\n",
            "Epoch 96/100\n",
            "1253/1253 [==============================] - 3s 3ms/step - loss: 0.2141 - acc: 0.9266 - val_loss: 0.3813 - val_acc: 0.9490\n",
            "\n",
            "Epoch 00096: val_loss did not improve from 0.29490\n",
            "Epoch 97/100\n",
            "1253/1253 [==============================] - 4s 3ms/step - loss: 0.2233 - acc: 0.9186 - val_loss: 0.3479 - val_acc: 0.9395\n",
            "\n",
            "Epoch 00097: val_loss did not improve from 0.29490\n",
            "Epoch 98/100\n",
            "1253/1253 [==============================] - 4s 3ms/step - loss: 0.1800 - acc: 0.9401 - val_loss: 0.3706 - val_acc: 0.9459\n",
            "\n",
            "Epoch 00098: val_loss did not improve from 0.29490\n",
            "Epoch 99/100\n",
            "1253/1253 [==============================] - 3s 3ms/step - loss: 0.1919 - acc: 0.9282 - val_loss: 0.3408 - val_acc: 0.9363\n",
            "\n",
            "Epoch 00099: val_loss did not improve from 0.29490\n",
            "Epoch 100/100\n",
            "1253/1253 [==============================] - 3s 3ms/step - loss: 0.1795 - acc: 0.9306 - val_loss: 0.3835 - val_acc: 0.9459\n",
            "\n",
            "Epoch 00100: val_loss did not improve from 0.29490\n"
          ],
          "name": "stdout"
        }
      ]
    },
    {
      "cell_type": "code",
      "metadata": {
        "id": "XIL1xGl0iUQD"
      },
      "source": [
        " model = load_model(\"model.h5\")"
      ],
      "execution_count": null,
      "outputs": []
    },
    {
      "cell_type": "code",
      "metadata": {
        "id": "g9KN2N6viaWQ"
      },
      "source": [
        "def predictions(text):\n",
        "  \n",
        "  test_word = word_tokenize(text)\n",
        "  test_ls = word_tokenizer.texts_to_sequences(test_word)\n",
        "  print(test_word)\n",
        "  #Check for unknown words\n",
        "  if [] in test_ls:\n",
        "    test_ls = list(filter(None, test_ls))\n",
        "    \n",
        "  test_ls = np.array(test_ls).reshape(1, len(test_ls))\n",
        " \n",
        "  x = padding_doc(test_ls, max_length)\n",
        "  \n",
        "  pred = model.predict_proba(x)\n",
        "  \n",
        "  \n",
        "  return pred"
      ],
      "execution_count": null,
      "outputs": []
    },
    {
      "cell_type": "code",
      "metadata": {
        "id": "wtGPJJ0toZDh"
      },
      "source": [
        "def get_final_output(pred, classes):\n",
        "  predictions = pred[0]\n",
        " \n",
        "  classes = np.array(classes)\n",
        "  ids = np.argsort(-predictions)\n",
        "  classes = classes[ids]\n",
        "  predictions = -np.sort(-predictions)\n",
        " \n",
        "  for i in range(pred.shape[1]):\n",
        "    print(\"%s has confidence = %s\" % (classes[i], (predictions[i])))\n",
        "\n"
      ],
      "execution_count": null,
      "outputs": []
    },
    {
      "cell_type": "code",
      "metadata": {
        "id": "Cdnd-hUeodU_",
        "outputId": "36e7f924-670b-4350-cab0-3b0c8b60d26b",
        "colab": {
          "base_uri": "https://localhost:8080/",
          "height": 986
        }
      },
      "source": [
        "text = \"எனது புதிய விவரங்களை சேர்க்க முடியுமா?\"\n",
        "pred = predictions(text)\n",
        "get_final_output(pred, unique_intent)"
      ],
      "execution_count": null,
      "outputs": [
        {
          "output_type": "stream",
          "text": [
            "['எனது', 'புதிய', 'விவரங்களை', 'சேர்க்க', 'முடியுமா', '?']\n",
            "update_personal_details has confidence = 0.93242615\n",
            "SLBFE_info has confidence = 0.020040171\n",
            "change_details has confidence = 0.019487733\n",
            "cancel_card has confidence = 0.015004314\n",
            "card_foreign_use has confidence = 0.0035710086\n",
            "tikiri_required_docs has confidence = 0.003110624\n",
            "bank_statement_online has confidence = 0.0011076604\n",
            "selan_sure_info has confidence = 0.00086482265\n",
            "debit_card_requirement has confidence = 0.0008186766\n",
            "NRFC_info has confidence = 0.00070686627\n",
            "life_insurance_limit has confidence = 0.0006872598\n",
            "get_monthly_report has confidence = 0.00047484663\n",
            "foreign_account_lkr_withdrawal has confidence = 0.00031837297\n",
            "interest_credit_info has confidence = 0.00025930084\n",
            "marriage_claim has confidence = 0.00023986808\n",
            "2in1_atm_card has confidence = 0.00020179489\n",
            "card_usage has confidence = 0.00013834114\n",
            "2in1_interest_receiving has confidence = 8.135061e-05\n",
            "2in1_acoount_info has confidence = 7.6420656e-05\n",
            "suspious_activity has confidence = 7.515003e-05\n",
            "tikiri_gift_voucher_per_person has confidence = 5.5565037e-05\n",
            "treasury_bond_information has confidence = 5.2821782e-05\n",
            "2in1_pass_book has confidence = 3.6496884e-05\n",
            "tikiri_gift_voucher_redeem has confidence = 3.6028472e-05\n",
            "sl_development_bond_benefits has confidence = 2.1172591e-05\n",
            "housing_loan_documents has confidence = 1.6132024e-05\n",
            "seylan_tikiri_minimum_deposit has confidence = 1.5498283e-05\n",
            "account_currency has confidence = 1.2212423e-05\n",
            "card_automatic_renewal has confidence = 1.1721678e-05\n",
            "resident_foreign_account_info has confidence = 1.0547604e-05\n",
            "2in1_min_balance has confidence = 6.9882217e-06\n",
            "new_saving_book has confidence = 5.70026e-06\n",
            "saving_atmcard_available has confidence = 5.36458e-06\n",
            "card_machine_repair has confidence = 3.989295e-06\n",
            "loan_requirement has confidence = 3.6336314e-06\n",
            "tikiri_gift_voucher_validity has confidence = 3.4361742e-06\n",
            "FCAISPE_required_docs has confidence = 2.1756664e-06\n",
            "tikiri_gift_voucher_age_limit has confidence = 1.6483925e-06\n",
            "internet_bank_loan_amount has confidence = 1.5850621e-06\n",
            "housing_loan_purpose has confidence = 1.1496138e-06\n",
            "tikiri_gift_voucher_info has confidence = 8.686733e-07\n",
            "tikiri_gift_voucher_min_amount has confidence = 7.989812e-07\n",
            "foreign_currency_withdrawal has confidence = 7.0441297e-07\n",
            "treasury_bond_advantage has confidence = 5.7955475e-07\n",
            "new_card_reader_cost has confidence = 5.6133706e-07\n",
            "foreign_deposit_loan has confidence = 3.7372934e-07\n",
            "treasury_bond_important_features has confidence = 3.5533654e-07\n",
            "tikiri_gift_voucher_withdrawal has confidence = 2.8164763e-07\n",
            "joint_account_details has confidence = 2.6604798e-07\n",
            "repos_benefits has confidence = 2.5474802e-07\n",
            "get_lc_form has confidence = 1.4804382e-07\n",
            "CVV_use has confidence = 1.2043387e-07\n",
            "NRFC_account_opening has confidence = 4.5430614e-08\n",
            "tikiri_gift_voucher_buying_info has confidence = 4.204202e-08\n",
            "foreign_currency_withdrawal_currency has confidence = 2.976016e-08\n",
            "precashing_foreign_fixed_deposit has confidence = 2.3277805e-08\n"
          ],
          "name": "stdout"
        }
      ]
    },
    {
      "cell_type": "code",
      "metadata": {
        "id": "ApOOs_cxsu1f",
        "outputId": "d0fff014-4992-496b-a707-1c3dddf3dfd4",
        "colab": {
          "base_uri": "https://localhost:8080/",
          "height": 51
        }
      },
      "source": [
        "\n",
        "print(model.test_on_batch(val_X,val_Y))\n",
        "model.metrics_names"
      ],
      "execution_count": null,
      "outputs": [
        {
          "output_type": "stream",
          "text": [
            "[0.2949007, 0.9426752]\n"
          ],
          "name": "stdout"
        },
        {
          "output_type": "execute_result",
          "data": {
            "text/plain": [
              "['loss', 'acc']"
            ]
          },
          "metadata": {
            "tags": []
          },
          "execution_count": 102
        }
      ]
    }
  ]
}