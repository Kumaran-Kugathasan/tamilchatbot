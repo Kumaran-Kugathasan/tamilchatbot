{
  "nbformat": 4,
  "nbformat_minor": 0,
  "metadata": {
    "colab": {
      "name": "SVM Heirachy combine.ipynb",
      "provenance": [],
      "collapsed_sections": [],
      "authorship_tag": "ABX9TyPOQqM4+98RATl4g3LwgPeH"
    },
    "kernelspec": {
      "name": "python3",
      "display_name": "Python 3"
    },
    "accelerator": "TPU"
  },
  "cells": [
    {
      "cell_type": "code",
      "metadata": {
        "id": "aMGdVhNx6Yw2",
        "colab": {
          "base_uri": "https://localhost:8080/"
        },
        "outputId": "693fa315-682d-41ef-db42-de7b496a65b5"
      },
      "source": [
        "import pandas as pd\n",
        "\n",
        "df_list = []\n",
        "filepath ='/content/Bank Dataset Hierarchy - CatagoricalIntents.csv'\n",
        "df = pd.read_csv(filepath, encoding = \"utf-8\", names=['sentence', 'Level1', 'Level2'], sep=',')\n",
        "df_list.append(df)\n",
        "\n",
        "df = pd.concat(df_list)\n",
        "print(df.iloc[0])"
      ],
      "execution_count": null,
      "outputs": [
        {
          "output_type": "stream",
          "text": [
            "sentence    நான் 2in1 கணக்கில் சேமிப்பது எப்படி ?\n",
            "Level1                                       2in1\n",
            "Level2                          2in1_acoount_info\n",
            "Name: 0, dtype: object\n"
          ],
          "name": "stdout"
        }
      ]
    },
    {
      "cell_type": "code",
      "metadata": {
        "id": "v-svpcUH9QFh",
        "colab": {
          "base_uri": "https://localhost:8080/"
        },
        "outputId": "0013fd1d-9b4b-463f-8905-52382660bd62"
      },
      "source": [
        "from sklearn.feature_extraction.text import CountVectorizer\n",
        "from sklearn.model_selection import train_test_split\n",
        "import numpy as np\n",
        "import matplotlib.pyplot as plt\n",
        "from sklearn import svm\n",
        "\n",
        "sentences = df['sentence'].values\n",
        "y = df['Level1'].values\n",
        "\n",
        "from nltk.corpus import stopwords\n",
        "from nltk.tokenize import word_tokenize\n",
        "from nltk.stem.lancaster import LancasterStemmer\n",
        "import nltk\n",
        "nltk.download(\"punkt\")\n"
      ],
      "execution_count": null,
      "outputs": [
        {
          "output_type": "stream",
          "text": [
            "[nltk_data] Downloading package punkt to /root/nltk_data...\n",
            "[nltk_data]   Package punkt is already up-to-date!\n"
          ],
          "name": "stdout"
        },
        {
          "output_type": "execute_result",
          "data": {
            "text/plain": [
              "True"
            ]
          },
          "metadata": {
            "tags": []
          },
          "execution_count": 64
        }
      ]
    },
    {
      "cell_type": "code",
      "metadata": {
        "id": "a0Y_X0SFN3RD",
        "colab": {
          "base_uri": "https://localhost:8080/",
          "height": 442
        },
        "outputId": "7a92b878-6885-4c36-e771-ff16cc388968"
      },
      "source": [
        "import matplotlib.pyplot as plt\n",
        "fig = plt.figure(figsize=(8,6))\n",
        "df.groupby('Level1').size().plot.bar(ylim=0)\n",
        "plt.show()"
      ],
      "execution_count": null,
      "outputs": [
        {
          "output_type": "display_data",
          "data": {
            "image/png": "[encoded data removed]",
            "text/plain": [
              "<Figure size 576x432 with 1 Axes>"
            ]
          },
          "metadata": {
            "tags": [],
            "needs_background": "light"
          }
        }
      ]
    },
    {
      "cell_type": "code",
      "metadata": {
        "id": "ZMsE9iyFNcMl",
        "colab": {
          "base_uri": "https://localhost:8080/"
        },
        "outputId": "30fb67b0-7a4f-47e4-db65-bee097dd3dcb"
      },
      "source": [
        "ab = df.groupby('Level1').count()\n",
        "print(ab.sort_values(by=\"sentence\",axis=0))\n",
        "\n"
      ],
      "execution_count": null,
      "outputs": [
        {
          "output_type": "stream",
          "text": [
            "             sentence  Level2\n",
            "Level1                       \n",
            "NRFC               29      29\n",
            "saving             40      40\n",
            "Card_Reader        58      58\n",
            "fd                 66      66\n",
            "bond               67      67\n",
            "loan               79      79\n",
            "2in1              103     103\n",
            "tikiri            304     304\n",
            "general           345     345\n",
            "debit_card        476     476\n"
          ],
          "name": "stdout"
        }
      ]
    },
    {
      "cell_type": "code",
      "metadata": {
        "id": "KnwPRkKoup9I"
      },
      "source": [
        "sentences_train, sentences_test, y_train, y_test = train_test_split(sentences, y, test_size=0.30)"
      ],
      "execution_count": null,
      "outputs": []
    },
    {
      "cell_type": "code",
      "metadata": {
        "id": "dA1Se2XKu1fa",
        "colab": {
          "base_uri": "https://localhost:8080/"
        },
        "outputId": "98380563-9269-466a-9e9c-3b0fc78e9136"
      },
      "source": [
        "vectorizer1 = CountVectorizer(encoding='utf-8', tokenizer=nltk.word_tokenize)\n",
        "vectorizer1.fit(sentences_train)\n",
        "\n",
        "X_train = vectorizer1.transform(sentences_train)\n",
        "X_test  = vectorizer1.transform(sentences_test)\n"
      ],
      "execution_count": null,
      "outputs": [
        {
          "output_type": "stream",
          "text": [
            "/usr/local/lib/python3.6/dist-packages/sklearn/feature_extraction/text.py:507: UserWarning: The parameter 'token_pattern' will not be used since 'tokenizer' is not None'\n",
            "  warnings.warn(\"The parameter 'token_pattern' will not be used\"\n"
          ],
          "name": "stderr"
        }
      ]
    },
    {
      "cell_type": "code",
      "metadata": {
        "id": "2jKiy9ytGdDn",
        "colab": {
          "base_uri": "https://localhost:8080/"
        },
        "outputId": "8be3196c-6fbf-4975-dae7-97a4ea9ddb64"
      },
      "source": [
        "C = 1.0 # SVM regularization parameter\n",
        "\n",
        "classifier = svm.SVC(kernel='linear', C=1,gamma=1)\n",
        "classifier.fit(X_train, y_train)\n",
        "score = classifier.score(X_test, y_test)\n",
        "print(score)"
      ],
      "execution_count": null,
      "outputs": [
        {
          "output_type": "stream",
          "text": [
            "0.9978768577494692\n"
          ],
          "name": "stdout"
        }
      ]
    },
    {
      "cell_type": "code",
      "metadata": {
        "id": "7DD5DIRm0-VQ"
      },
      "source": [
        "from sklearn.externals import joblib \n",
        "  \n",
        "# Save the model as a pickle in a file \n",
        "joblib.dump(classifier, 'SVML1.pkl') \n",
        "  \n",
        "# Load the model from the file \n",
        "knn_from_joblib = joblib.load('SVML1.pkl')  \n",
        "  \n"
      ],
      "execution_count": null,
      "outputs": []
    },
    {
      "cell_type": "code",
      "metadata": {
        "id": "Yc7EsRL8AZAv",
        "colab": {
          "base_uri": "https://localhost:8080/"
        },
        "outputId": "fa033b09-c872-400b-acaf-4c432f5caae5"
      },
      "source": [
        "#print(sentences_test[0:10])\n",
        "y_pred =classifier.predict(X_test)\n",
        "df1 = pd.DataFrame(sentences_test, columns=[\"X\"])\n",
        "df1[\"actual\"] = y_test\n",
        "df1[\"predicted\"] = y_pred\n",
        "\n",
        "incorrect = df1[df1[\"actual\"] != df1[\"predicted\"]]\n",
        "incorrect.to_csv(r'pandas.txt', header=None, index=None, sep=' ', mode='a')\n",
        "print(incorrect)"
      ],
      "execution_count": null,
      "outputs": [
        {
          "output_type": "stream",
          "text": [
            "                                               X      actual predicted\n",
            "13   கடனைப்பெற எதிர்பார்க்கப்படும் தகைமைகள் எவை?  debit_card   general\n",
            "133                     கடனைப்பெற தேவையானவை எவை?  debit_card   general\n",
            "286     கடனைப்பெற நாம் வைத்திருக்கவேண்டியவை எவை?  debit_card   general\n"
          ],
          "name": "stdout"
        }
      ]
    },
    {
      "cell_type": "code",
      "metadata": {
        "id": "jOEODueNBetC",
        "colab": {
          "base_uri": "https://localhost:8080/"
        },
        "outputId": "9a47798c-8321-4e08-a8e9-4e140b316e18"
      },
      "source": [
        "import matplotlib.pyplot as plt\n",
        "import seaborn as sns\n",
        "from sklearn import metrics\n",
        "import numpy as np \n",
        "predictions = classifier.predict(X_test)\n",
        "cm = metrics.confusion_matrix(y_test, predictions)\n",
        "print(cm)\n"
      ],
      "execution_count": null,
      "outputs": [
        {
          "output_type": "stream",
          "text": [
            "[[ 28   0   0   0   0   0   0   0   0   0]\n",
            " [  0  22   0   0   0   0   0   0   0   0]\n",
            " [  0   0  12   0   0   0   0   0   0   0]\n",
            " [  0   0   0  16   0   0   0   0   0   0]\n",
            " [  0   0   0   0 137   0   0   0   0   0]\n",
            " [  0   0   0   0   0  22   0   0   0   0]\n",
            " [  0   0   0   0   0   0 112   0   0   0]\n",
            " [  0   0   0   0   0   0   0  20   0   0]\n",
            " [  0   0   0   0   0   0   1   0  13   0]\n",
            " [  0   0   0   0   0   0   0   0   0  88]]\n"
          ],
          "name": "stdout"
        }
      ]
    },
    {
      "cell_type": "code",
      "metadata": {
        "id": "Wb8vrdlo2n2p"
      },
      "source": [
        "data2in1 = df[df[\"Level1\"] == \"2in1\"]\n"
      ],
      "execution_count": null,
      "outputs": []
    },
    {
      "cell_type": "code",
      "metadata": {
        "id": "kgRNJv-43RWD",
        "colab": {
          "base_uri": "https://localhost:8080/"
        },
        "outputId": "cfc1a7a5-0a16-47eb-d935-9f68618d063f"
      },
      "source": [
        "print(data2in1.iloc[0])\n",
        "sentences = data2in1['sentence'].values\n",
        "y = data2in1['Level2'].values\n",
        "ab = data2in1.groupby('Level2').count()\n",
        "print(ab.sort_values(by=\"sentence\",axis=0))\n"
      ],
      "execution_count": null,
      "outputs": [
        {
          "output_type": "stream",
          "text": [
            "sentence    நான் 2in1 கணக்கில் சேமிப்பது எப்படி ?\n",
            "Level1                                       2in1\n",
            "Level2                          2in1_acoount_info\n",
            "Name: 0, dtype: object\n",
            "                         sentence  Level1\n",
            "Level2                                   \n",
            "2in1_atm_card                  15      15\n",
            "2in1_acoount_info              19      19\n",
            "2in1_pass_book                 20      20\n",
            "2in1_min_balance               21      21\n",
            "2in1_interest_receiving        28      28\n"
          ],
          "name": "stdout"
        }
      ]
    },
    {
      "cell_type": "code",
      "metadata": {
        "id": "RlB-bRHS4PvQ",
        "colab": {
          "base_uri": "https://localhost:8080/"
        },
        "outputId": "c672bb58-2d79-4ee0-e256-9ef58c36d394"
      },
      "source": [
        "sentences_train, sentences_test, y_train, y_test = train_test_split(sentences, y, test_size=0.30)\n",
        "vectorizer = CountVectorizer(encoding='utf-8', tokenizer=nltk.word_tokenize)\n",
        "vectorizer.fit(sentences_train)\n",
        "\n",
        "X_train = vectorizer.transform(sentences_train)\n",
        "X_test  = vectorizer.transform(sentences_test)\n"
      ],
      "execution_count": null,
      "outputs": [
        {
          "output_type": "stream",
          "text": [
            "/usr/local/lib/python3.6/dist-packages/sklearn/feature_extraction/text.py:507: UserWarning: The parameter 'token_pattern' will not be used since 'tokenizer' is not None'\n",
            "  warnings.warn(\"The parameter 'token_pattern' will not be used\"\n"
          ],
          "name": "stderr"
        }
      ]
    },
    {
      "cell_type": "code",
      "metadata": {
        "id": "HxmzYHKW4c_l",
        "colab": {
          "base_uri": "https://localhost:8080/"
        },
        "outputId": "92f491f2-c047-45d7-f97c-a36d2463c772"
      },
      "source": [
        "C = 1.0 # SVM regularization parameter\n",
        "\n",
        "classifier = svm.SVC(kernel='linear', C=1,gamma=1)\n",
        "classifier.fit(X_train, y_train)\n",
        "score = classifier.score(X_test, y_test)\n",
        "print(score)"
      ],
      "execution_count": null,
      "outputs": [
        {
          "output_type": "stream",
          "text": [
            "1.0\n"
          ],
          "name": "stdout"
        }
      ]
    },
    {
      "cell_type": "code",
      "metadata": {
        "id": "rjYFQqLj4qww",
        "colab": {
          "base_uri": "https://localhost:8080/"
        },
        "outputId": "86135f13-b103-4481-b47f-674278cbf221"
      },
      "source": [
        "# Save the model as a pickle in a file \n",
        "joblib.dump(classifier, 'SVM 2in1.pkl') "
      ],
      "execution_count": null,
      "outputs": [
        {
          "output_type": "execute_result",
          "data": {
            "text/plain": [
              "['SVM 2in1.pkl']"
            ]
          },
          "metadata": {
            "tags": []
          },
          "execution_count": 75
        }
      ]
    },
    {
      "cell_type": "code",
      "metadata": {
        "id": "K1_szmzx5VJL",
        "colab": {
          "base_uri": "https://localhost:8080/"
        },
        "outputId": "355e67bf-6533-4e82-a858-25295efb5834"
      },
      "source": [
        "dataNRFC = df[df[\"Level1\"] == \"NRFC\"]\n",
        "print(dataNRFC.iloc[0])\n",
        "sentences = dataNRFC['sentence'].values\n",
        "y = dataNRFC['Level2'].values\n",
        "ab = dataNRFC.groupby('Level2').count()\n",
        "print(ab.sort_values(by=\"sentence\",axis=0))\n"
      ],
      "execution_count": null,
      "outputs": [
        {
          "output_type": "stream",
          "text": [
            "sentence    வெளிநாட்டில் வசிக்கும் நான் (NRFC) வதிவற்ற வெள...\n",
            "Level1                                                   NRFC\n",
            "Level2                                   NRFC_account_opening\n",
            "Name: 936, dtype: object\n",
            "                      sentence  Level1\n",
            "Level2                                \n",
            "NRFC_info                   13      13\n",
            "NRFC_account_opening        16      16\n"
          ],
          "name": "stdout"
        }
      ]
    },
    {
      "cell_type": "code",
      "metadata": {
        "id": "XWRhQNXs54rJ",
        "colab": {
          "base_uri": "https://localhost:8080/"
        },
        "outputId": "81cfc03c-78bb-4a7c-b73b-1f182a3087fe"
      },
      "source": [
        "sentences_train, sentences_test, y_train, y_test = train_test_split(sentences, y, test_size=0.30)\n",
        "vectorizer = CountVectorizer(encoding='utf-8', tokenizer=nltk.word_tokenize)\n",
        "vectorizer.fit(sentences_train)\n",
        "\n",
        "X_train = vectorizer.transform(sentences_train)\n",
        "X_test  = vectorizer.transform(sentences_test)\n",
        "\n",
        "C = 1.0 # SVM regularization parameter\n",
        "\n",
        "classifier = svm.SVC(kernel='linear', C=1,gamma=1)\n",
        "classifier.fit(X_train, y_train)\n",
        "score = classifier.score(X_test, y_test)\n",
        "print(score)"
      ],
      "execution_count": null,
      "outputs": [
        {
          "output_type": "stream",
          "text": [
            "1.0\n"
          ],
          "name": "stdout"
        },
        {
          "output_type": "stream",
          "text": [
            "/usr/local/lib/python3.6/dist-packages/sklearn/feature_extraction/text.py:507: UserWarning: The parameter 'token_pattern' will not be used since 'tokenizer' is not None'\n",
            "  warnings.warn(\"The parameter 'token_pattern' will not be used\"\n"
          ],
          "name": "stderr"
        }
      ]
    },
    {
      "cell_type": "code",
      "metadata": {
        "id": "Ddw8nP9O6JKM",
        "colab": {
          "base_uri": "https://localhost:8080/"
        },
        "outputId": "40b26995-2165-40f8-c427-b66285fb5c87"
      },
      "source": [
        "# Save the model as a pickle in a file \n",
        "joblib.dump(classifier, 'SVM NRFC.pkl') "
      ],
      "execution_count": null,
      "outputs": [
        {
          "output_type": "execute_result",
          "data": {
            "text/plain": [
              "['SVM NRFC.pkl']"
            ]
          },
          "metadata": {
            "tags": []
          },
          "execution_count": 37
        }
      ]
    },
    {
      "cell_type": "code",
      "metadata": {
        "id": "QIMhf2-96YLS",
        "colab": {
          "base_uri": "https://localhost:8080/"
        },
        "outputId": "025bf65d-63a5-4942-8a13-dae23b1ede50"
      },
      "source": [
        "datasaving = df[df[\"Level1\"] == \"saving\"]\n",
        "print(datasaving.iloc[0])\n",
        "sentences = datasaving['sentence'].values\n",
        "y = datasaving['Level2'].values\n",
        "ab = datasaving.groupby('Level2').count()\n",
        "print(ab.sort_values(by=\"sentence\",axis=0))\n"
      ],
      "execution_count": null,
      "outputs": [
        {
          "output_type": "stream",
          "text": [
            "sentence    எனது வங்கிக் கூற்றினை இணையத்தின் மூலம் பெற்றுக...\n",
            "Level1                                                 saving\n",
            "Level2                                  bank_statement_online\n",
            "Name: 113, dtype: object\n",
            "                          sentence  Level1\n",
            "Level2                                    \n",
            "bank_statement_online           10      10\n",
            "interest_credit_info            10      10\n",
            "new_saving_book                 10      10\n",
            "saving_atmcard_available        10      10\n"
          ],
          "name": "stdout"
        }
      ]
    },
    {
      "cell_type": "code",
      "metadata": {
        "id": "ooweXlow8WW7",
        "colab": {
          "base_uri": "https://localhost:8080/"
        },
        "outputId": "962cc05a-3f23-4957-d7a9-563e58a40939"
      },
      "source": [
        "sentences_train, sentences_test, y_train, y_test = train_test_split(sentences, y, test_size=0.30)\n",
        "vectorizer = CountVectorizer(encoding='utf-8', tokenizer=nltk.word_tokenize)\n",
        "vectorizer.fit(sentences_train)\n",
        "\n",
        "X_train = vectorizer.transform(sentences_train)\n",
        "X_test  = vectorizer.transform(sentences_test)\n",
        "\n",
        "C = 1.0 # SVM regularization parameter\n",
        "\n",
        "classifier = svm.SVC(kernel='linear', C=1,gamma=1)\n",
        "classifier.fit(X_train, y_train)\n",
        "score = classifier.score(X_test, y_test)\n",
        "print(score)"
      ],
      "execution_count": null,
      "outputs": [
        {
          "output_type": "stream",
          "text": [
            "1.0\n"
          ],
          "name": "stdout"
        },
        {
          "output_type": "stream",
          "text": [
            "/usr/local/lib/python3.6/dist-packages/sklearn/feature_extraction/text.py:507: UserWarning: The parameter 'token_pattern' will not be used since 'tokenizer' is not None'\n",
            "  warnings.warn(\"The parameter 'token_pattern' will not be used\"\n"
          ],
          "name": "stderr"
        }
      ]
    },
    {
      "cell_type": "code",
      "metadata": {
        "id": "b7Tl5ikI8otP",
        "colab": {
          "base_uri": "https://localhost:8080/"
        },
        "outputId": "333adf0f-936a-415f-982d-db3bb964a610"
      },
      "source": [
        "# Save the model as a pickle in a file \n",
        "joblib.dump(classifier, 'SVM saving.pkl')"
      ],
      "execution_count": null,
      "outputs": [
        {
          "output_type": "execute_result",
          "data": {
            "text/plain": [
              "['SVM saving.pkl']"
            ]
          },
          "metadata": {
            "tags": []
          },
          "execution_count": 73
        }
      ]
    },
    {
      "cell_type": "code",
      "metadata": {
        "id": "Ck_kHSYt80IT",
        "colab": {
          "base_uri": "https://localhost:8080/"
        },
        "outputId": "e6beb704-50af-4c60-aaad-c00a073d3a30"
      },
      "source": [
        "dataCard_Reader = df[df[\"Level1\"] == \"Card_Reader\"]\n",
        "print(dataCard_Reader.iloc[0])\n",
        "sentences = dataCard_Reader['sentence'].values\n",
        "y = dataCard_Reader['Level2'].values\n",
        "ab = dataCard_Reader.groupby('Level2').count()\n",
        "print(ab.sort_values(by=\"sentence\",axis=0))"
      ],
      "execution_count": null,
      "outputs": [
        {
          "output_type": "stream",
          "text": [
            "sentence    கருவி பழுதடைதல் போன்ற விடயங்களுக்கு யாருடன் தொ...\n",
            "Level1                                            Card_Reader\n",
            "Level2                                    card_machine_repair\n",
            "Name: 271, dtype: object\n",
            "                      sentence  Level1\n",
            "Level2                                \n",
            "card_machine_repair          9       9\n",
            "new_card_reader_cost        49      49\n"
          ],
          "name": "stdout"
        }
      ]
    },
    {
      "cell_type": "code",
      "metadata": {
        "id": "ixCcLhAV9Vkt",
        "colab": {
          "base_uri": "https://localhost:8080/"
        },
        "outputId": "2c5623de-9bc5-4e4b-afdd-c2ae217eab9c"
      },
      "source": [
        "sentences_train, sentences_test, y_train, y_test = train_test_split(sentences, y, test_size=0.30)\n",
        "vectorizer = CountVectorizer(encoding='utf-8', tokenizer=nltk.word_tokenize)\n",
        "vectorizer.fit(sentences_train)\n",
        "\n",
        "X_train = vectorizer.transform(sentences_train)\n",
        "X_test  = vectorizer.transform(sentences_test)\n",
        "\n",
        "C = 1.0 # SVM regularization parameter\n",
        "\n",
        "classifier = svm.SVC(kernel='linear', C=1,gamma=1)\n",
        "classifier.fit(X_train, y_train)\n",
        "score = classifier.score(X_test, y_test)\n",
        "print(score)"
      ],
      "execution_count": null,
      "outputs": [
        {
          "output_type": "stream",
          "text": [
            "1.0\n"
          ],
          "name": "stdout"
        },
        {
          "output_type": "stream",
          "text": [
            "/usr/local/lib/python3.6/dist-packages/sklearn/feature_extraction/text.py:507: UserWarning: The parameter 'token_pattern' will not be used since 'tokenizer' is not None'\n",
            "  warnings.warn(\"The parameter 'token_pattern' will not be used\"\n"
          ],
          "name": "stderr"
        }
      ]
    },
    {
      "cell_type": "code",
      "metadata": {
        "id": "pfNnnj4G9gj1",
        "colab": {
          "base_uri": "https://localhost:8080/"
        },
        "outputId": "81ee8e44-a6d5-40d1-d071-871521833e60"
      },
      "source": [
        "# Save the model as a pickle in a file \n",
        "joblib.dump(classifier, 'Card_Reader.pkl')"
      ],
      "execution_count": null,
      "outputs": [
        {
          "output_type": "execute_result",
          "data": {
            "text/plain": [
              "['Card_Reader.pkl']"
            ]
          },
          "metadata": {
            "tags": []
          },
          "execution_count": 81
        }
      ]
    },
    {
      "cell_type": "code",
      "metadata": {
        "id": "ZzHqe7_L9nzH",
        "colab": {
          "base_uri": "https://localhost:8080/"
        },
        "outputId": "3c96f9c7-18c6-4371-97cb-947dd36c86ec"
      },
      "source": [
        "datafd = df[df[\"Level1\"] == \"fd\"]\n",
        "print(datafd.iloc[0])\n",
        "sentences = datafd['sentence'].values\n",
        "y = datafd['Level2'].values\n",
        "ab = datafd.groupby('Level2').count()\n",
        "print(ab.sort_values(by=\"sentence\",axis=0))\n"
      ],
      "execution_count": null,
      "outputs": [
        {
          "output_type": "stream",
          "text": [
            "sentence    வெளிநாட்டு நாணய நிலையான வைப்பினை பெறுவதற்கு மு...\n",
            "Level1                                                     fd\n",
            "Level2                            foreign_currency_withdrawal\n",
            "Name: 571, dtype: object\n",
            "                                      sentence  Level1\n",
            "Level2                                                \n",
            "precashing_foreign_fixed_deposit            14      14\n",
            "foreign_currency_withdrawal                 17      17\n",
            "foreign_currency_withdrawal_currency        17      17\n",
            "foreign_deposit_loan                        18      18\n"
          ],
          "name": "stdout"
        }
      ]
    },
    {
      "cell_type": "code",
      "metadata": {
        "id": "5fUmd9wc99b1",
        "colab": {
          "base_uri": "https://localhost:8080/"
        },
        "outputId": "66e25e0f-0665-4675-ba35-16bb4eba2797"
      },
      "source": [
        "sentences_train, sentences_test, y_train, y_test = train_test_split(sentences, y, test_size=0.30)\n",
        "vectorizer = CountVectorizer(encoding='utf-8', tokenizer=nltk.word_tokenize)\n",
        "vectorizer.fit(sentences_train)\n",
        "\n",
        "X_train = vectorizer.transform(sentences_train)\n",
        "X_test  = vectorizer.transform(sentences_test)\n",
        "\n",
        "C = 1.0 # SVM regularization parameter\n",
        "\n",
        "classifier = svm.SVC(kernel='linear', C=1,gamma=1)\n",
        "classifier.fit(X_train, y_train)\n",
        "score = classifier.score(X_test, y_test)\n",
        "print(score)"
      ],
      "execution_count": null,
      "outputs": [
        {
          "output_type": "stream",
          "text": [
            "0.95\n"
          ],
          "name": "stdout"
        },
        {
          "output_type": "stream",
          "text": [
            "/usr/local/lib/python3.6/dist-packages/sklearn/feature_extraction/text.py:507: UserWarning: The parameter 'token_pattern' will not be used since 'tokenizer' is not None'\n",
            "  warnings.warn(\"The parameter 'token_pattern' will not be used\"\n"
          ],
          "name": "stderr"
        }
      ]
    },
    {
      "cell_type": "code",
      "metadata": {
        "id": "A3egbhdo-F-1",
        "colab": {
          "base_uri": "https://localhost:8080/"
        },
        "outputId": "ac006232-b846-46d3-9e70-46de176c60aa"
      },
      "source": [
        "# Save the model as a pickle in a file \n",
        "joblib.dump(classifier, 'SVM fd.pkl')"
      ],
      "execution_count": null,
      "outputs": [
        {
          "output_type": "execute_result",
          "data": {
            "text/plain": [
              "['SVM fd.pkl']"
            ]
          },
          "metadata": {
            "tags": []
          },
          "execution_count": 84
        }
      ]
    },
    {
      "cell_type": "code",
      "metadata": {
        "id": "qZtRFjqv--D7",
        "colab": {
          "base_uri": "https://localhost:8080/"
        },
        "outputId": "9f780d7d-e9d3-4052-e592-8b8906e20cf9"
      },
      "source": [
        "databond = df[df[\"Level1\"] == \"bond\"]\n",
        "print(datafd.iloc[0])\n",
        "sentences = databond['sentence'].values\n",
        "y = databond['Level2'].values\n",
        "ab = databond.groupby('Level2').count()\n",
        "print(ab.sort_values(by=\"sentence\",axis=0))\n"
      ],
      "execution_count": null,
      "outputs": [
        {
          "output_type": "stream",
          "text": [
            "sentence    வெளிநாட்டு நாணய நிலையான வைப்பினை பெறுவதற்கு மு...\n",
            "Level1                                                     fd\n",
            "Level2                            foreign_currency_withdrawal\n",
            "Name: 571, dtype: object\n",
            "                                  sentence  Level1\n",
            "Level2                                            \n",
            "treasury_bond_advantage                 19      19\n",
            "treasury_bond_important_features        24      24\n",
            "treasury_bond_information               24      24\n"
          ],
          "name": "stdout"
        }
      ]
    },
    {
      "cell_type": "code",
      "metadata": {
        "id": "OmJqqdNe_0x4",
        "colab": {
          "base_uri": "https://localhost:8080/"
        },
        "outputId": "1fab644b-e308-4df5-aec8-49f1cd30cace"
      },
      "source": [
        "sentences_train, sentences_test, y_train, y_test = train_test_split(sentences, y, test_size=0.30)\n",
        "vectorizer = CountVectorizer(encoding='utf-8', tokenizer=nltk.word_tokenize)\n",
        "vectorizer.fit(sentences_train)\n",
        "\n",
        "X_train = vectorizer.transform(sentences_train)\n",
        "X_test  = vectorizer.transform(sentences_test)\n",
        "\n",
        "C = 1.0 # SVM regularization parameter\n",
        "\n",
        "classifier = svm.SVC(kernel='linear', C=1,gamma=1)\n",
        "classifier.fit(X_train, y_train)\n",
        "score = classifier.score(X_test, y_test)\n",
        "print(score)"
      ],
      "execution_count": null,
      "outputs": [
        {
          "output_type": "stream",
          "text": [
            "0.9047619047619048\n"
          ],
          "name": "stdout"
        },
        {
          "output_type": "stream",
          "text": [
            "/usr/local/lib/python3.6/dist-packages/sklearn/feature_extraction/text.py:507: UserWarning: The parameter 'token_pattern' will not be used since 'tokenizer' is not None'\n",
            "  warnings.warn(\"The parameter 'token_pattern' will not be used\"\n"
          ],
          "name": "stderr"
        }
      ]
    },
    {
      "cell_type": "code",
      "metadata": {
        "id": "Nm3h_Cb5_8VY",
        "colab": {
          "base_uri": "https://localhost:8080/"
        },
        "outputId": "e0dc3498-78cd-4dd2-ba51-63f01bd3eb60"
      },
      "source": [
        "joblib.dump(classifier, 'SVM bond.pkl')"
      ],
      "execution_count": null,
      "outputs": [
        {
          "output_type": "execute_result",
          "data": {
            "text/plain": [
              "['SVM bond.pkl']"
            ]
          },
          "metadata": {
            "tags": []
          },
          "execution_count": 88
        }
      ]
    },
    {
      "cell_type": "code",
      "metadata": {
        "id": "Uvh1IljFADH1",
        "colab": {
          "base_uri": "https://localhost:8080/"
        },
        "outputId": "1a952254-c856-4b77-828b-60b55dc878dd"
      },
      "source": [
        "dataloan = df[df[\"Level1\"] == \"loan\"]\n",
        "print(dataloan.iloc[0])\n",
        "sentences = dataloan['sentence'].values\n",
        "y = dataloan['Level2'].values\n",
        "ab = dataloan.groupby('Level2').count()\n",
        "print(ab.sort_values(by=\"sentence\",axis=0))\n"
      ],
      "execution_count": null,
      "outputs": [
        {
          "output_type": "stream",
          "text": [
            "sentence    வீடமைப்பு கடனை பெற்றுக் கொள்ள தேவையான ஆவணங்கள்...\n",
            "Level1                                                   loan\n",
            "Level2                                 housing_loan_documents\n",
            "Name: 700, dtype: object\n",
            "                           sentence  Level1\n",
            "Level2                                     \n",
            "housing_loan_documents           10      10\n",
            "internet_bank_loan_amount        15      15\n",
            "loan_requirement                 19      19\n",
            "housing_loan_purpose             35      35\n"
          ],
          "name": "stdout"
        }
      ]
    },
    {
      "cell_type": "code",
      "metadata": {
        "id": "SfPGSl0IAZMi",
        "colab": {
          "base_uri": "https://localhost:8080/"
        },
        "outputId": "80c7246f-0470-433f-c97b-cd853bb2986e"
      },
      "source": [
        "sentences_train, sentences_test, y_train, y_test = train_test_split(sentences, y, test_size=0.30)\n",
        "vectorizer = CountVectorizer(encoding='utf-8', tokenizer=nltk.word_tokenize)\n",
        "vectorizer.fit(sentences_train)\n",
        "\n",
        "X_train = vectorizer.transform(sentences_train)\n",
        "X_test  = vectorizer.transform(sentences_test)\n",
        "\n",
        "C = 1.0 # SVM regularization parameter\n",
        "\n",
        "classifier = svm.SVC(kernel='linear', C=1,gamma=1)\n",
        "classifier.fit(X_train, y_train)\n",
        "score = classifier.score(X_test, y_test)\n",
        "print(score)"
      ],
      "execution_count": null,
      "outputs": [
        {
          "output_type": "stream",
          "text": [
            "1.0\n"
          ],
          "name": "stdout"
        },
        {
          "output_type": "stream",
          "text": [
            "/usr/local/lib/python3.6/dist-packages/sklearn/feature_extraction/text.py:507: UserWarning: The parameter 'token_pattern' will not be used since 'tokenizer' is not None'\n",
            "  warnings.warn(\"The parameter 'token_pattern' will not be used\"\n"
          ],
          "name": "stderr"
        }
      ]
    },
    {
      "cell_type": "code",
      "metadata": {
        "id": "qMsF9-gZBBZO",
        "colab": {
          "base_uri": "https://localhost:8080/"
        },
        "outputId": "2d9456b5-157e-46c3-90a4-48c5c0fb64f5"
      },
      "source": [
        "joblib.dump(classifier, 'SVM loan.pkl')"
      ],
      "execution_count": null,
      "outputs": [
        {
          "output_type": "execute_result",
          "data": {
            "text/plain": [
              "['SVM loan.pkl']"
            ]
          },
          "metadata": {
            "tags": []
          },
          "execution_count": 91
        }
      ]
    },
    {
      "cell_type": "code",
      "metadata": {
        "id": "QTjXbrYdBMwv",
        "colab": {
          "base_uri": "https://localhost:8080/"
        },
        "outputId": "e0276b70-d178-495f-b2a3-b58a9732515f"
      },
      "source": [
        "datatikiri = df[df[\"Level1\"] == \"tikiri\"]\n",
        "print(datatikiri.iloc[0])\n",
        "sentences = datatikiri['sentence'].values\n",
        "y = datatikiri['Level2'].values\n",
        "ab = datatikiri.groupby('Level2').count()\n",
        "print(ab.sort_values(by=\"sentence\",axis=0))\n"
      ],
      "execution_count": null,
      "outputs": [
        {
          "output_type": "stream",
          "text": [
            "sentence    “செலான் டிக்கிரி” கணக்கை ஆரம்பிப்பதற்குத் தேவை...\n",
            "Level1                                                 tikiri\n",
            "Level2                          seylan_tikiri_minimum_deposit\n",
            "Name: 1079, dtype: object\n",
            "                                 sentence  Level1\n",
            "Level2                                           \n",
            "tikiri_gift_voucher_redeem             14      14\n",
            "tikiri_gift_voucher_age_limit          18      18\n",
            "tikiri_gift_voucher_validity           19      19\n",
            "tikiri_gift_voucher_withdrawal         19      19\n",
            "tikiri_gift_voucher_min_amount         21      21\n",
            "tikiri_gift_voucher_per_person         21      21\n",
            "tikiri_gift_voucher_buying_info        22      22\n",
            "tikiri_gift_voucher_info               23      23\n",
            "tikiri_required_docs                   64      64\n",
            "seylan_tikiri_minimum_deposit          83      83\n"
          ],
          "name": "stdout"
        }
      ]
    },
    {
      "cell_type": "code",
      "metadata": {
        "id": "_iydkaIRBxGa",
        "colab": {
          "base_uri": "https://localhost:8080/"
        },
        "outputId": "2def9540-c814-439a-c7c7-c3419d9204d8"
      },
      "source": [
        "sentences_train, sentences_test, y_train, y_test = train_test_split(sentences, y, test_size=0.30)\n",
        "vectorizer = CountVectorizer(encoding='utf-8', tokenizer=nltk.word_tokenize)\n",
        "vectorizer.fit(sentences_train)\n",
        "\n",
        "X_train = vectorizer.transform(sentences_train)\n",
        "X_test  = vectorizer.transform(sentences_test)\n",
        "\n",
        "C = 1.0 # SVM regularization parameter\n",
        "\n",
        "classifier = svm.SVC(kernel='linear', C=1,gamma=1)\n",
        "classifier.fit(X_train, y_train)\n",
        "score = classifier.score(X_test, y_test)\n",
        "print(score)"
      ],
      "execution_count": null,
      "outputs": [
        {
          "output_type": "stream",
          "text": [
            "0.9782608695652174\n"
          ],
          "name": "stdout"
        },
        {
          "output_type": "stream",
          "text": [
            "/usr/local/lib/python3.6/dist-packages/sklearn/feature_extraction/text.py:507: UserWarning: The parameter 'token_pattern' will not be used since 'tokenizer' is not None'\n",
            "  warnings.warn(\"The parameter 'token_pattern' will not be used\"\n"
          ],
          "name": "stderr"
        }
      ]
    },
    {
      "cell_type": "code",
      "metadata": {
        "id": "MhkGSmnMB4Jn",
        "colab": {
          "base_uri": "https://localhost:8080/"
        },
        "outputId": "6357b42f-04d7-4629-e099-7199c4d4ff71"
      },
      "source": [
        "joblib.dump(classifier, 'SVM tikiri.pkl')"
      ],
      "execution_count": null,
      "outputs": [
        {
          "output_type": "execute_result",
          "data": {
            "text/plain": [
              "['SVM tikiri.pkl']"
            ]
          },
          "metadata": {
            "tags": []
          },
          "execution_count": 94
        }
      ]
    },
    {
      "cell_type": "code",
      "metadata": {
        "id": "SV0hLVGfCYGh",
        "colab": {
          "base_uri": "https://localhost:8080/"
        },
        "outputId": "ca079e70-0a65-42a8-b83c-0fac7525f6db"
      },
      "source": [
        "datageneral = df[df[\"Level1\"] == \"general\"]\n",
        "print(datageneral.iloc[0])\n",
        "sentences = datageneral['sentence'].values\n",
        "y = datageneral['Level2'].values\n",
        "ab = datageneral.groupby('Level2').count()\n",
        "print(ab.sort_values(by=\"sentence\",axis=0))\n"
      ],
      "execution_count": null,
      "outputs": [
        {
          "output_type": "stream",
          "text": [
            "sentence    செலான் வங்கியில் கணக்கை ஆரம்பிக்க பயன்படுத்தக்...\n",
            "Level1                                                general\n",
            "Level2                                       account_currency\n",
            "Name: 103, dtype: object\n",
            "                                sentence  Level1\n",
            "Level2                                          \n",
            "SLBFE_info                            10      10\n",
            "account_currency                      10      10\n",
            "joint_account_details                 10      10\n",
            "selan_sure_info                       10      10\n",
            "marriage_claim                        13      13\n",
            "foreign_account_lkr_withdrawal        18      18\n",
            "get_lc_form                           19      19\n",
            "repos_benefits                        20      20\n",
            "update_personal_details               21      21\n",
            "sl_development_bond_benefits          22      22\n",
            "resident_foreign_account_info         60      60\n",
            "life_insurance_limit                  65      65\n",
            "FCAISPE_required_docs                 67      67\n"
          ],
          "name": "stdout"
        }
      ]
    },
    {
      "cell_type": "code",
      "metadata": {
        "id": "VvG5ms86C51A",
        "colab": {
          "base_uri": "https://localhost:8080/"
        },
        "outputId": "c55686b7-4388-4dd2-f75d-607068a8fa7f"
      },
      "source": [
        "sentences_train, sentences_test, y_train, y_test = train_test_split(sentences, y, test_size=0.30)\n",
        "vectorizer = CountVectorizer(encoding='utf-8', tokenizer=nltk.word_tokenize)\n",
        "vectorizer.fit(sentences_train)\n",
        "\n",
        "X_train = vectorizer.transform(sentences_train)\n",
        "X_test  = vectorizer.transform(sentences_test)\n",
        "\n",
        "C = 1.0 # SVM regularization parameter\n",
        "\n",
        "classifier = svm.SVC(kernel='linear', C=1,gamma=1)\n",
        "classifier.fit(X_train, y_train)\n",
        "score = classifier.score(X_test, y_test)\n",
        "print(score)"
      ],
      "execution_count": null,
      "outputs": [
        {
          "output_type": "stream",
          "text": [
            "0.9807692307692307\n"
          ],
          "name": "stdout"
        },
        {
          "output_type": "stream",
          "text": [
            "/usr/local/lib/python3.6/dist-packages/sklearn/feature_extraction/text.py:507: UserWarning: The parameter 'token_pattern' will not be used since 'tokenizer' is not None'\n",
            "  warnings.warn(\"The parameter 'token_pattern' will not be used\"\n"
          ],
          "name": "stderr"
        }
      ]
    },
    {
      "cell_type": "code",
      "metadata": {
        "id": "lTY9nSDtC-GO",
        "colab": {
          "base_uri": "https://localhost:8080/"
        },
        "outputId": "d553d5e0-d357-4d0d-b137-f4b873652a60"
      },
      "source": [
        "joblib.dump(classifier, 'SVM general.pkl')"
      ],
      "execution_count": null,
      "outputs": [
        {
          "output_type": "execute_result",
          "data": {
            "text/plain": [
              "['SVM general.pkl']"
            ]
          },
          "metadata": {
            "tags": []
          },
          "execution_count": 98
        }
      ]
    },
    {
      "cell_type": "code",
      "metadata": {
        "id": "q3d3S2lVDNzs",
        "colab": {
          "base_uri": "https://localhost:8080/"
        },
        "outputId": "c18d2b51-416d-411c-d0f2-3a943641516b"
      },
      "source": [
        "datadebit_card = df[df[\"Level1\"] == \"debit_card\"]\n",
        "print(datadebit_card.iloc[0])\n",
        "sentences = datadebit_card['sentence'].values\n",
        "y = datadebit_card['Level2'].values\n",
        "ab = datadebit_card.groupby('Level2').count()\n",
        "print(ab.sort_values(by=\"sentence\",axis=0))\n"
      ],
      "execution_count": null,
      "outputs": [
        {
          "output_type": "stream",
          "text": [
            "sentence    எனது கடன் அட்டை கணக்கை எவ்வாறு நான் இரத்துச் ச...\n",
            "Level1                                             debit_card\n",
            "Level2                                            cancel_card\n",
            "Name: 123, dtype: object\n",
            "                        sentence  Level1\n",
            "Level2                                  \n",
            "cancel_card                   27      27\n",
            "debit_card_requirement        41      41\n",
            "CVV_use                       44      44\n",
            "change_details                49      49\n",
            "card_automatic_renewal        50      50\n",
            "get_monthly_report            58      58\n",
            "suspious_activity             64      64\n",
            "card_foreign_use              71      71\n",
            "card_usage                    72      72\n"
          ],
          "name": "stdout"
        }
      ]
    },
    {
      "cell_type": "code",
      "metadata": {
        "id": "RxWm935tDj2c",
        "colab": {
          "base_uri": "https://localhost:8080/"
        },
        "outputId": "e660ad68-4e67-43f8-f1e3-60da1d4a4528"
      },
      "source": [
        "sentences_train, sentences_test, y_train, y_test = train_test_split(sentences, y, test_size=0.30)\n",
        "vectorizer = CountVectorizer(encoding='utf-8', tokenizer=nltk.word_tokenize)\n",
        "vectorizer.fit(sentences_train)\n",
        "\n",
        "X_train = vectorizer.transform(sentences_train)\n",
        "X_test  = vectorizer.transform(sentences_test)\n",
        "\n",
        "C = 1.0 # SVM regularization parameter\n",
        "\n",
        "classifier = svm.SVC(kernel='linear', C=1,gamma=1)\n",
        "classifier.fit(X_train, y_train)\n",
        "score = classifier.score(X_test, y_test)\n",
        "print(score)"
      ],
      "execution_count": null,
      "outputs": [
        {
          "output_type": "stream",
          "text": [
            "0.986013986013986\n"
          ],
          "name": "stdout"
        },
        {
          "output_type": "stream",
          "text": [
            "/usr/local/lib/python3.6/dist-packages/sklearn/feature_extraction/text.py:507: UserWarning: The parameter 'token_pattern' will not be used since 'tokenizer' is not None'\n",
            "  warnings.warn(\"The parameter 'token_pattern' will not be used\"\n"
          ],
          "name": "stderr"
        }
      ]
    },
    {
      "cell_type": "code",
      "metadata": {
        "id": "hMuVA4xsEWEt",
        "colab": {
          "base_uri": "https://localhost:8080/"
        },
        "outputId": "fa4c3cce-aaf6-41ce-fddc-3dd1e9d33fc6"
      },
      "source": [
        "joblib.dump(classifier, 'SVM debit_card.pkl')"
      ],
      "execution_count": null,
      "outputs": [
        {
          "output_type": "execute_result",
          "data": {
            "text/plain": [
              "['SVM debit_card.pkl']"
            ]
          },
          "metadata": {
            "tags": []
          },
          "execution_count": 102
        }
      ]
    },
    {
      "cell_type": "code",
      "metadata": {
        "id": "wo8KWXf1E7wa",
        "colab": {
          "base_uri": "https://localhost:8080/"
        },
        "outputId": "14c709fb-0375-40bc-9fdb-22ddf7408449"
      },
      "source": [
        "df_list = []\n",
        "filepath ='/content/Bank Dataset Hierarchy - CatagoricalIntents.csv'\n",
        "df = pd.read_csv(filepath, encoding = \"utf-8\", names=['sentence', 'Level1', 'Level2'], sep=',')\n",
        "df_list.append(df)\n",
        "\n",
        "df = pd.concat(df_list)\n",
        "df =df.sample(frac = 0.3) \n",
        "print(df.iloc[0])"
      ],
      "execution_count": null,
      "outputs": [
        {
          "output_type": "stream",
          "text": [
            "sentence    வீடமைப்பு கடனை எவ்வாறான தேவைகளுக்கு பெற முடியு...\n",
            "Level1                                                   loan\n",
            "Level2                                   housing_loan_purpose\n",
            "Name: 717, dtype: object\n"
          ],
          "name": "stdout"
        }
      ]
    },
    {
      "cell_type": "code",
      "metadata": {
        "id": "cRDT4qYBKlZE"
      },
      "source": [
        "sentences_test = df['sentence'].values\n",
        "y_test = df['Level1'].values\n",
        "y_test1= df['Level2'].values"
      ],
      "execution_count": null,
      "outputs": []
    },
    {
      "cell_type": "code",
      "metadata": {
        "id": "71GBg8eWY4Xx"
      },
      "source": [
        ""
      ],
      "execution_count": null,
      "outputs": []
    },
    {
      "cell_type": "code",
      "metadata": {
        "id": "JbYux3w6Nskm"
      },
      "source": [
        "#vectorizer = CountVectorizer(encoding='utf-8', tokenizer=nltk.word_tokenize)\n",
        "#vectorizer.fit(sentences_test )\n",
        "\n",
        "X_test  = vectorizer1.transform(sentences_test)"
      ],
      "execution_count": null,
      "outputs": []
    },
    {
      "cell_type": "code",
      "metadata": {
        "id": "GutXU9YiNUah"
      },
      "source": [
        "# Load the model from the file \n",
        "level1 = joblib.load('/content/SVML1.pkl')  \n",
        "  "
      ],
      "execution_count": null,
      "outputs": []
    },
    {
      "cell_type": "code",
      "metadata": {
        "id": "qL1KFBVROSdO",
        "colab": {
          "base_uri": "https://localhost:8080/"
        },
        "outputId": "176b22b3-097a-4202-ebfb-6715750efa20"
      },
      "source": [
        "\n",
        "y_pred = level1.predict(X_test)\n",
        "df1 = pd.DataFrame(sentences_test, columns=[\"sentence\"])\n",
        "df1[\"Level2\"]=y_test1\n",
        "df1[\"L1predicted\"] = y_pred\n"
      ],
      "execution_count": null,
      "outputs": [
        {
          "output_type": "stream",
          "text": [
            "                                              sentence  ... L1predicted\n",
            "0    வீடமைப்பு கடனை எவ்வாறான தேவைகளுக்கு பெற முடியு...  ...        loan\n",
            "1    வெளிநாட்டு நாணய நிலையான வைப்பிற்கு எதிராக கடன்...  ...          fd\n",
            "2                நான் எப்படி 2in1 கணக்கில் சேமிப்பது ?  ...        2in1\n",
            "3     NRFC தொடர்பான தகவல்களை தெரிந்து கொள்வது எவ்வாறு?  ...        NRFC\n",
            "4    எனக்கு வதிவுள்ள வெளிநாட்டு நாணய கணக்கொன்றை ஆரம...  ...     general\n",
            "..                                                 ...  ...         ...\n",
            "465  திறைசேரி உண்டியல்களின் முக்கிய அம்சங்கள் பற்றி...  ...        bond\n",
            "466  திறைசேரி உண்டியல்கள் மற்றும் பத்திங்கள் மூலம் ...  ...        bond\n",
            "467  திறைசேரி உண்டியல்கள் மற்றும் பத்திரங்களின் நன்...  ...        bond\n",
            "468                     CVV எத்தனை இலக்கங்களை கொண்டது?  ...  debit_card\n",
            "469              CVV இலக்கத்தை மறந்தால் என்ன செய்வது ?  ...  debit_card\n",
            "\n",
            "[470 rows x 3 columns]\n"
          ],
          "name": "stdout"
        }
      ]
    },
    {
      "cell_type": "code",
      "metadata": {
        "colab": {
          "base_uri": "https://localhost:8080/"
        },
        "id": "ym9EOdvhoax-",
        "outputId": "f6a1cf8c-a418-43ce-ccca-4dba141c53d7"
      },
      "source": [
        "print(df1.iloc[0])"
      ],
      "execution_count": null,
      "outputs": [
        {
          "output_type": "stream",
          "text": [
            "sentence       வீடமைப்பு கடனை எவ்வாறான தேவைகளுக்கு பெற முடியு...\n",
            "Level2                                      housing_loan_purpose\n",
            "L1predicted                                                 loan\n",
            "Name: 0, dtype: object\n"
          ],
          "name": "stdout"
        }
      ]
    },
    {
      "cell_type": "code",
      "metadata": {
        "colab": {
          "base_uri": "https://localhost:8080/"
        },
        "id": "f_Z9cKtjZw4D",
        "outputId": "ec03fd10-980b-421c-95c2-0adc489d49a7"
      },
      "source": [
        "ab = df1.groupby('L1predicted').count()\n",
        "print(ab.sort_values(by=\"sentence\",axis=0))"
      ],
      "execution_count": null,
      "outputs": [
        {
          "output_type": "stream",
          "text": [
            "             sentence  Level2\n",
            "L1predicted                  \n",
            "saving              9       9\n",
            "NRFC               10      10\n",
            "Card_Reader        12      12\n",
            "bond               19      19\n",
            "fd                 19      19\n",
            "2in1               25      25\n",
            "loan               30      30\n",
            "tikiri             89      89\n",
            "general           106     106\n",
            "debit_card        151     151\n"
          ],
          "name": "stdout"
        }
      ]
    },
    {
      "cell_type": "code",
      "metadata": {
        "id": "jOSQtMANZ8FC"
      },
      "source": [
        "NRFC = df1[df1[\"L1predicted\"] == \"NRFC\"]\n",
        "NRFC_test = NRFC['sentence'].values\n",
        "NRFC_y_test1= NRFC['Level2'].values\n"
      ],
      "execution_count": null,
      "outputs": []
    },
    {
      "cell_type": "code",
      "metadata": {
        "id": "kyMDmuekanKz"
      },
      "source": [
        "Card_Reader = df1[df1[\"L1predicted\"] == \"Card_Reader\"]\n",
        "Card_Reader_test = Card_Reader['sentence'].values\n",
        "Card_Reader_y_test1= Card_Reader['Level2'].values\n",
        "\n",
        "saving = df1[df1[\"L1predicted\"] == \"saving\"]\n",
        "saving_test = saving['sentence'].values\n",
        "saving_y_test1= saving['Level2'].values\n",
        "\n",
        "bond = df1[df1[\"L1predicted\"] == \"bond\"]\n",
        "bond_test = bond['sentence'].values\n",
        "bond_y_test1= bond['Level2'].values\n",
        "\n",
        "fd = df1[df1[\"L1predicted\"] == \"fd\"]\n",
        "fd_test = fd['sentence'].values\n",
        "fd_y_test1= fd['Level2'].values\n",
        "\n",
        "Twoin1 = df1[df1[\"L1predicted\"] == \"2in1\"]\n",
        "Twoin1_test = Twoin1['sentence'].values\n",
        "Twoin1_y_test1= Twoin1['Level2'].values\n",
        "\n",
        "loan = df1[df1[\"L1predicted\"] == \"loan\"]\n",
        "loan_test = loan['sentence'].values\n",
        "loan_y_test1= loan['Level2'].values\n",
        "\n",
        "tikiri = df1[df1[\"L1predicted\"] == \"tikiri\"]\n",
        "tikiri_test = tikiri['sentence'].values\n",
        "tikiri_y_test1= tikiri['Level2'].values\n",
        "\n",
        "general = df1[df1[\"L1predicted\"] == \"general\"]\n",
        "general_test = general['sentence'].values\n",
        "general_y_test1= general['Level2'].values\n",
        "\n",
        "debit_card = df1[df1[\"L1predicted\"] == \"debit_card\"]\n",
        "debit_card_test = debit_card['sentence'].values\n",
        "debit_card_y_test1= debit_card['Level2'].values\n"
      ],
      "execution_count": null,
      "outputs": []
    },
    {
      "cell_type": "code",
      "metadata": {
        "colab": {
          "base_uri": "https://localhost:8080/"
        },
        "id": "GdYqni02bl2C",
        "outputId": "75cb678e-ba49-4d3d-a0cb-0b5e8efba06b"
      },
      "source": [
        "l2 = joblib.load('/content/SVM 2in1.pkl')  \n",
        "y_pred = l2.predict(Twoin1)\n",
        "df2 = pd.DataFrame(sentences_test, columns=[\"sentence\"])\n",
        "df2[\"L2predicted\"] = y_pred\n",
        "print(df2)"
      ],
      "execution_count": null,
      "outputs": [
        {
          "output_type": "stream",
          "text": [
            "                                             sentence              L2predicted\n",
            "0   2in1 சேமிப்புக் கணக்கிற்கான வட்டி விபரங்களை சொ...  2in1_interest_receiving\n",
            "1   2in1 கணக்கில் சேமிப்பு வைக்க கையாள வேண்டிய படி...        2in1_acoount_info\n",
            "2             2in1 கணக்குக்கு ATM அட்டை வழங்கப்படுமா?            2in1_atm_card\n",
            "3     2in 1 சேமிப்பு கணக்கிற்கான வட்டியை பெறும் முறை.  2in1_interest_receiving\n",
            "4   2in1 சேமிப்புக் கணக்கிற்கான சேமிப்பு புத்தகத்த...           2in1_pass_book\n",
            "5   நான் 2in 1 சேமிப்பு கணக்கிற்கான வட்டியை பெறுவத...  2in1_interest_receiving\n",
            "6   2in 1 சேமிப்பு கணக்கிற்கான சேமிப்பு புத்தகத்தை...           2in1_pass_book\n",
            "7   நாங்கள் 2in 1 சேமிப்பு கணக்குகளுக்கான வட்டியை ...  2in1_interest_receiving\n",
            "8   2 in1 கணக்கில் ஆகக்குறைந்தது எவ்வளவு தொகை காணப...         2in1_min_balance\n",
            "9   2 in 1 வங்கி கணக்குகளில் எவ்வளவு தொகை பணத்தை ந...         2in1_min_balance\n",
            "10                 2 in 1 கணக்கு ஆரம்பிப்பது எவ்வாறு?        2in1_acoount_info\n",
            "11   நான் 2 in 1 கணக்கில் சேமிக்க தொடங்குவது எவ்வாறு?        2in1_acoount_info\n",
            "12  எனக்கு 2in1 கணக்கிற்கான ATM அட்டை ஒன்றை பெற்று...            2in1_atm_card\n",
            "13  2in1 கணக்கிற்கான ATM அட்டை ஒன்றை பெற்றுக்கொள்ள...            2in1_atm_card\n",
            "14  குறைந்தபட்சம் எவ்வளவு ரூபாவை 2 in1 கணக்கில் நி...         2in1_min_balance\n",
            "15  2 in 1 சேமிப்பு கணக்கிற்கான சேமிப்பு புத்தகத்த...           2in1_pass_book\n",
            "16              நான் 2in1 கணக்கில் சேமிப்பது எப்படி ?        2in1_acoount_info\n",
            "17      2 in 1 கணக்குகளை ஆரம்பித்தல் பற்றிய தகவல்கள்?        2in1_acoount_info\n",
            "18                   2in1 கணக்கில் சேமிப்பது எப்படி ?        2in1_acoount_info\n",
            "19  2 in1 கணக்கில் குறைந்தபட்சம் எவ்வளவு ரூபாவை நி...         2in1_min_balance\n",
            "20  2in1 கணக்கிற்கான ATM அட்டை ஒன்றை என்னால் பெற்ற...            2in1_atm_card\n",
            "21  2 in 1 வங்கி கணக்கில் நிலுவையாக பேண வேண்டிய பண...         2in1_min_balance\n",
            "22  2in1 சேமிப்புக் கணக்கிற்கான வட்டியை நான் பெறக்...  2in1_interest_receiving\n",
            "23  2 in 1 வங்கி கணக்கில் நிலுவையாக பேண வேண்டிய அத...         2in1_min_balance\n",
            "24  2 in 1 கணக்கில் நிலுவையாக பேண வேண்டிய பணம் எவ்...         2in1_min_balance\n",
            "25                 2 in 1 கணக்கில் எவ்வாறு சேமிப்பது?        2in1_acoount_info\n",
            "26  2 in 1 சேமிப்பு கணக்கின் சேமிப்பு புத்தகத்தை எ...           2in1_pass_book\n",
            "27  என்னால் 2in1 கணக்கிற்கான ATM அட்டை ஒன்றை பெற்ற...            2in1_atm_card\n",
            "28  நான் 2in1 கணக்கிற்கான ATM அட்டை ஒன்றை பெற முடி...            2in1_atm_card\n",
            "29  2 in1 கணக்கில் வைப்பில் காணப்பட வேண்டிய ஆகக் க...         2in1_min_balance\n",
            "30  நான் 2in1 சேமிப்புக் கணக்கிற்கான வட்டியை பெற்ற...  2in1_interest_receiving\n"
          ],
          "name": "stdout"
        }
      ]
    }
  ]
}