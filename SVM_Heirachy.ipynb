{
  "nbformat": 4,
  "nbformat_minor": 0,
  "metadata": {
    "colab": {
      "name": "SVM Heirachy.ipynb",
      "provenance": [],
      "collapsed_sections": [],
      "authorship_tag": "ABX9TyOhDCGZhS5pensvXzihsYHF"
    },
    "kernelspec": {
      "name": "python3",
      "display_name": "Python 3"
    },
    "accelerator": "TPU"
  },
  "cells": [
    {
      "cell_type": "code",
      "metadata": {
        "id": "aMGdVhNx6Yw2",
        "outputId": "08b56f2b-c4e5-427d-9767-9eea3e881860",
        "colab": {
          "base_uri": "https://localhost:8080/"
        }
      },
      "source": [
        "import pandas as pd\n",
        "\n",
        "df_list = []\n",
        "filepath ='/content/Bank Dataset Hierarchy - CatagoricalIntents.csv'\n",
        "df = pd.read_csv(filepath, encoding = \"utf-8\", names=['sentence', 'Level1', 'Level2'], sep=',')\n",
        "df_list.append(df)\n",
        "\n",
        "df = pd.concat(df_list)\n",
        "print(df.iloc[0])"
      ],
      "execution_count": null,
      "outputs": [
        {
          "output_type": "stream",
          "text": [
            "sentence    நான் 2in1 கணக்கில் சேமிப்பது எப்படி ?\n",
            "Level1                                       2in1\n",
            "Level2                          2in1_acoount_info\n",
            "Name: 0, dtype: object\n"
          ],
          "name": "stdout"
        }
      ]
    },
    {
      "cell_type": "code",
      "metadata": {
        "id": "v-svpcUH9QFh",
        "outputId": "7f31c37f-8165-45ca-f45a-97c0bd099b96",
        "colab": {
          "base_uri": "https://localhost:8080/"
        }
      },
      "source": [
        "from sklearn.feature_extraction.text import CountVectorizer\n",
        "from sklearn.model_selection import train_test_split\n",
        "import numpy as np\n",
        "import matplotlib.pyplot as plt\n",
        "from sklearn import svm\n",
        "\n",
        "sentences = df['sentence'].values\n",
        "y = df['Level1'].values\n",
        "\n",
        "from nltk.corpus import stopwords\n",
        "from nltk.tokenize import word_tokenize\n",
        "from nltk.stem.lancaster import LancasterStemmer\n",
        "import nltk\n",
        "nltk.download(\"punkt\")\n"
      ],
      "execution_count": null,
      "outputs": [
        {
          "output_type": "stream",
          "text": [
            "[nltk_data] Downloading package punkt to /root/nltk_data...\n",
            "[nltk_data]   Package punkt is already up-to-date!\n"
          ],
          "name": "stdout"
        },
        {
          "output_type": "execute_result",
          "data": {
            "text/plain": [
              "True"
            ]
          },
          "metadata": {
            "tags": []
          },
          "execution_count": 59
        }
      ]
    },
    {
      "cell_type": "code",
      "metadata": {
        "id": "a0Y_X0SFN3RD",
        "outputId": "adf2e0f0-7c88-4f76-c2ed-cfaa67ba2ff6",
        "colab": {
          "base_uri": "https://localhost:8080/",
          "height": 442
        }
      },
      "source": [
        "import matplotlib.pyplot as plt\n",
        "fig = plt.figure(figsize=(8,6))\n",
        "df.groupby('Level1').size().plot.bar(ylim=0)\n",
        "plt.show()"
      ],
      "execution_count": null,
      "outputs": [
        {
          "output_type": "display_data",
          "data": {
            "image/png": "[encoded data removed]",
            "text/plain": [
              "<Figure size 576x432 with 1 Axes>"
            ]
          },
          "metadata": {
            "tags": [],
            "needs_background": "light"
          }
        }
      ]
    },
    {
      "cell_type": "code",
      "metadata": {
        "id": "ZMsE9iyFNcMl",
        "outputId": "0a616f27-6efa-4682-db86-f40411c5f275",
        "colab": {
          "base_uri": "https://localhost:8080/"
        }
      },
      "source": [
        "ab = df.groupby('Level1').count()\n",
        "print(ab.sort_values(by=\"sentence\",axis=0))\n",
        "\n"
      ],
      "execution_count": null,
      "outputs": [
        {
          "output_type": "stream",
          "text": [
            "             sentence  Level2\n",
            "Level1                       \n",
            "NRFC               29      29\n",
            "saving             40      40\n",
            "Card_Reader        58      58\n",
            "fd                 66      66\n",
            "bond               67      67\n",
            "loan               79      79\n",
            "2in1              103     103\n",
            "tikiri            304     304\n",
            "general           345     345\n",
            "debit_card        476     476\n"
          ],
          "name": "stdout"
        }
      ]
    },
    {
      "cell_type": "code",
      "metadata": {
        "id": "KnwPRkKoup9I"
      },
      "source": [
        "sentences_train, sentences_test, y_train, y_test = train_test_split(sentences, y, test_size=0.30)"
      ],
      "execution_count": null,
      "outputs": []
    },
    {
      "cell_type": "code",
      "metadata": {
        "id": "dA1Se2XKu1fa",
        "outputId": "20f0a273-49f5-4222-b31c-a5d4e928c658",
        "colab": {
          "base_uri": "https://localhost:8080/"
        }
      },
      "source": [
        "vectorizer = CountVectorizer(encoding='utf-8', tokenizer=nltk.word_tokenize)\n",
        "vectorizer.fit(sentences_train)\n",
        "\n",
        "X_train = vectorizer.transform(sentences_train)\n",
        "X_test  = vectorizer.transform(sentences_test)\n"
      ],
      "execution_count": null,
      "outputs": [
        {
          "output_type": "stream",
          "text": [
            "/usr/local/lib/python3.6/dist-packages/sklearn/feature_extraction/text.py:507: UserWarning: The parameter 'token_pattern' will not be used since 'tokenizer' is not None'\n",
            "  warnings.warn(\"The parameter 'token_pattern' will not be used\"\n"
          ],
          "name": "stderr"
        }
      ]
    },
    {
      "cell_type": "code",
      "metadata": {
        "id": "2jKiy9ytGdDn",
        "outputId": "94e185ae-ac6a-4e3c-8963-5a4a24f3ee2e",
        "colab": {
          "base_uri": "https://localhost:8080/"
        }
      },
      "source": [
        "C = 1.0 # SVM regularization parameter\n",
        "\n",
        "classifier = svm.SVC(kernel='linear', C=1,gamma=1)\n",
        "classifier.fit(X_train, y_train)\n",
        "score = classifier.score(X_test, y_test)\n",
        "print(score)"
      ],
      "execution_count": null,
      "outputs": [
        {
          "output_type": "stream",
          "text": [
            "0.9936305732484076\n"
          ],
          "name": "stdout"
        }
      ]
    },
    {
      "cell_type": "code",
      "metadata": {
        "id": "7DD5DIRm0-VQ"
      },
      "source": [
        "from sklearn.externals import joblib \n",
        "  \n",
        "# Save the model as a pickle in a file \n",
        "joblib.dump(classifier, 'SVML1.pkl') \n",
        "  \n",
        "# Load the model from the file \n",
        "knn_from_joblib = joblib.load('SVML1.pkl')  \n",
        "  \n"
      ],
      "execution_count": null,
      "outputs": []
    },
    {
      "cell_type": "code",
      "metadata": {
        "id": "Yc7EsRL8AZAv",
        "outputId": "fa033b09-c872-400b-acaf-4c432f5caae5",
        "colab": {
          "base_uri": "https://localhost:8080/"
        }
      },
      "source": [
        "#print(sentences_test[0:10])\n",
        "y_pred =classifier.predict(X_test)\n",
        "df1 = pd.DataFrame(sentences_test, columns=[\"X\"])\n",
        "df1[\"actual\"] = y_test\n",
        "df1[\"predicted\"] = y_pred\n",
        "\n",
        "incorrect = df1[df1[\"actual\"] != df1[\"predicted\"]]\n",
        "incorrect.to_csv(r'pandas.txt', header=None, index=None, sep=' ', mode='a')\n",
        "print(incorrect)"
      ],
      "execution_count": null,
      "outputs": [
        {
          "output_type": "stream",
          "text": [
            "                                               X      actual predicted\n",
            "13   கடனைப்பெற எதிர்பார்க்கப்படும் தகைமைகள் எவை?  debit_card   general\n",
            "133                     கடனைப்பெற தேவையானவை எவை?  debit_card   general\n",
            "286     கடனைப்பெற நாம் வைத்திருக்கவேண்டியவை எவை?  debit_card   general\n"
          ],
          "name": "stdout"
        }
      ]
    },
    {
      "cell_type": "code",
      "metadata": {
        "id": "jOEODueNBetC",
        "outputId": "9a47798c-8321-4e08-a8e9-4e140b316e18",
        "colab": {
          "base_uri": "https://localhost:8080/"
        }
      },
      "source": [
        "import matplotlib.pyplot as plt\n",
        "import seaborn as sns\n",
        "from sklearn import metrics\n",
        "import numpy as np \n",
        "predictions = classifier.predict(X_test)\n",
        "cm = metrics.confusion_matrix(y_test, predictions)\n",
        "print(cm)\n"
      ],
      "execution_count": null,
      "outputs": [
        {
          "output_type": "stream",
          "text": [
            "[[ 28   0   0   0   0   0   0   0   0   0]\n",
            " [  0  22   0   0   0   0   0   0   0   0]\n",
            " [  0   0  12   0   0   0   0   0   0   0]\n",
            " [  0   0   0  16   0   0   0   0   0   0]\n",
            " [  0   0   0   0 137   0   0   0   0   0]\n",
            " [  0   0   0   0   0  22   0   0   0   0]\n",
            " [  0   0   0   0   0   0 112   0   0   0]\n",
            " [  0   0   0   0   0   0   0  20   0   0]\n",
            " [  0   0   0   0   0   0   1   0  13   0]\n",
            " [  0   0   0   0   0   0   0   0   0  88]]\n"
          ],
          "name": "stdout"
        }
      ]
    },
    {
      "cell_type": "code",
      "metadata": {
        "id": "Wb8vrdlo2n2p"
      },
      "source": [
        "data2in1 = df[df[\"Level1\"] == \"2in1\"]\n"
      ],
      "execution_count": null,
      "outputs": []
    },
    {
      "cell_type": "code",
      "metadata": {
        "id": "kgRNJv-43RWD",
        "outputId": "4e401856-0dbe-4201-91dc-19f6a07c7eb1",
        "colab": {
          "base_uri": "https://localhost:8080/"
        }
      },
      "source": [
        "print(data2in1.iloc[0])\n",
        "sentences = data2in1['sentence'].values\n",
        "y = data2in1['Level2'].values\n",
        "ab = data2in1.groupby('Level2').count()\n",
        "print(ab.sort_values(by=\"sentence\",axis=0))\n"
      ],
      "execution_count": null,
      "outputs": [
        {
          "output_type": "stream",
          "text": [
            "sentence    நான் 2in1 கணக்கில் சேமிப்பது எப்படி ?\n",
            "Level1                                       2in1\n",
            "Level2                          2in1_acoount_info\n",
            "Name: 0, dtype: object\n",
            "                         sentence  Level1\n",
            "Level2                                   \n",
            "2in1_atm_card                  15      15\n",
            "2in1_acoount_info              19      19\n",
            "2in1_pass_book                 20      20\n",
            "2in1_min_balance               21      21\n",
            "2in1_interest_receiving        28      28\n"
          ],
          "name": "stdout"
        }
      ]
    },
    {
      "cell_type": "code",
      "metadata": {
        "id": "RlB-bRHS4PvQ",
        "outputId": "7d402bc1-5d39-4081-ffc2-a36799263836",
        "colab": {
          "base_uri": "https://localhost:8080/"
        }
      },
      "source": [
        "sentences_train, sentences_test, y_train, y_test = train_test_split(sentences, y, test_size=0.30)\n",
        "vectorizer = CountVectorizer(encoding='utf-8', tokenizer=nltk.word_tokenize)\n",
        "vectorizer.fit(sentences_train)\n",
        "\n",
        "X_train = vectorizer.transform(sentences_train)\n",
        "X_test  = vectorizer.transform(sentences_test)\n"
      ],
      "execution_count": null,
      "outputs": [
        {
          "output_type": "stream",
          "text": [
            "/usr/local/lib/python3.6/dist-packages/sklearn/feature_extraction/text.py:507: UserWarning: The parameter 'token_pattern' will not be used since 'tokenizer' is not None'\n",
            "  warnings.warn(\"The parameter 'token_pattern' will not be used\"\n"
          ],
          "name": "stderr"
        }
      ]
    },
    {
      "cell_type": "code",
      "metadata": {
        "id": "HxmzYHKW4c_l",
        "outputId": "11746ea8-282e-4feb-f71a-3298f0fafd17",
        "colab": {
          "base_uri": "https://localhost:8080/"
        }
      },
      "source": [
        "C = 1.0 # SVM regularization parameter\n",
        "\n",
        "classifier = svm.SVC(kernel='linear', C=1,gamma=1)\n",
        "classifier.fit(X_train, y_train)\n",
        "score = classifier.score(X_test, y_test)\n",
        "print(score)"
      ],
      "execution_count": null,
      "outputs": [
        {
          "output_type": "stream",
          "text": [
            "1.0\n"
          ],
          "name": "stdout"
        }
      ]
    },
    {
      "cell_type": "code",
      "metadata": {
        "id": "rjYFQqLj4qww"
      },
      "source": [
        "# Save the model as a pickle in a file \n",
        "joblib.dump(classifier, 'SVM 2in1.pkl') "
      ],
      "execution_count": null,
      "outputs": []
    },
    {
      "cell_type": "code",
      "metadata": {
        "id": "K1_szmzx5VJL",
        "outputId": "355e67bf-6533-4e82-a858-25295efb5834",
        "colab": {
          "base_uri": "https://localhost:8080/"
        }
      },
      "source": [
        "dataNRFC = df[df[\"Level1\"] == \"NRFC\"]\n",
        "print(dataNRFC.iloc[0])\n",
        "sentences = dataNRFC['sentence'].values\n",
        "y = dataNRFC['Level2'].values\n",
        "ab = dataNRFC.groupby('Level2').count()\n",
        "print(ab.sort_values(by=\"sentence\",axis=0))\n"
      ],
      "execution_count": null,
      "outputs": [
        {
          "output_type": "stream",
          "text": [
            "sentence    வெளிநாட்டில் வசிக்கும் நான் (NRFC) வதிவற்ற வெள...\n",
            "Level1                                                   NRFC\n",
            "Level2                                   NRFC_account_opening\n",
            "Name: 936, dtype: object\n",
            "                      sentence  Level1\n",
            "Level2                                \n",
            "NRFC_info                   13      13\n",
            "NRFC_account_opening        16      16\n"
          ],
          "name": "stdout"
        }
      ]
    },
    {
      "cell_type": "code",
      "metadata": {
        "id": "XWRhQNXs54rJ",
        "outputId": "81cfc03c-78bb-4a7c-b73b-1f182a3087fe",
        "colab": {
          "base_uri": "https://localhost:8080/"
        }
      },
      "source": [
        "sentences_train, sentences_test, y_train, y_test = train_test_split(sentences, y, test_size=0.30)\n",
        "vectorizer = CountVectorizer(encoding='utf-8', tokenizer=nltk.word_tokenize)\n",
        "vectorizer.fit(sentences_train)\n",
        "\n",
        "X_train = vectorizer.transform(sentences_train)\n",
        "X_test  = vectorizer.transform(sentences_test)\n",
        "\n",
        "C = 1.0 # SVM regularization parameter\n",
        "\n",
        "classifier = svm.SVC(kernel='linear', C=1,gamma=1)\n",
        "classifier.fit(X_train, y_train)\n",
        "score = classifier.score(X_test, y_test)\n",
        "print(score)"
      ],
      "execution_count": null,
      "outputs": [
        {
          "output_type": "stream",
          "text": [
            "1.0\n"
          ],
          "name": "stdout"
        },
        {
          "output_type": "stream",
          "text": [
            "/usr/local/lib/python3.6/dist-packages/sklearn/feature_extraction/text.py:507: UserWarning: The parameter 'token_pattern' will not be used since 'tokenizer' is not None'\n",
            "  warnings.warn(\"The parameter 'token_pattern' will not be used\"\n"
          ],
          "name": "stderr"
        }
      ]
    },
    {
      "cell_type": "code",
      "metadata": {
        "id": "Ddw8nP9O6JKM",
        "outputId": "40b26995-2165-40f8-c427-b66285fb5c87",
        "colab": {
          "base_uri": "https://localhost:8080/"
        }
      },
      "source": [
        "# Save the model as a pickle in a file \n",
        "joblib.dump(classifier, 'SVM NRFC.pkl') "
      ],
      "execution_count": null,
      "outputs": [
        {
          "output_type": "execute_result",
          "data": {
            "text/plain": [
              "['SVM NRFC.pkl']"
            ]
          },
          "metadata": {
            "tags": []
          },
          "execution_count": 37
        }
      ]
    },
    {
      "cell_type": "code",
      "metadata": {
        "id": "QIMhf2-96YLS",
        "outputId": "025bf65d-63a5-4942-8a13-dae23b1ede50",
        "colab": {
          "base_uri": "https://localhost:8080/"
        }
      },
      "source": [
        "datasaving = df[df[\"Level1\"] == \"saving\"]\n",
        "print(datasaving.iloc[0])\n",
        "sentences = datasaving['sentence'].values\n",
        "y = datasaving['Level2'].values\n",
        "ab = datasaving.groupby('Level2').count()\n",
        "print(ab.sort_values(by=\"sentence\",axis=0))\n"
      ],
      "execution_count": null,
      "outputs": [
        {
          "output_type": "stream",
          "text": [
            "sentence    எனது வங்கிக் கூற்றினை இணையத்தின் மூலம் பெற்றுக...\n",
            "Level1                                                 saving\n",
            "Level2                                  bank_statement_online\n",
            "Name: 113, dtype: object\n",
            "                          sentence  Level1\n",
            "Level2                                    \n",
            "bank_statement_online           10      10\n",
            "interest_credit_info            10      10\n",
            "new_saving_book                 10      10\n",
            "saving_atmcard_available        10      10\n"
          ],
          "name": "stdout"
        }
      ]
    },
    {
      "cell_type": "code",
      "metadata": {
        "id": "ooweXlow8WW7",
        "outputId": "962cc05a-3f23-4957-d7a9-563e58a40939",
        "colab": {
          "base_uri": "https://localhost:8080/"
        }
      },
      "source": [
        "sentences_train, sentences_test, y_train, y_test = train_test_split(sentences, y, test_size=0.30)\n",
        "vectorizer = CountVectorizer(encoding='utf-8', tokenizer=nltk.word_tokenize)\n",
        "vectorizer.fit(sentences_train)\n",
        "\n",
        "X_train = vectorizer.transform(sentences_train)\n",
        "X_test  = vectorizer.transform(sentences_test)\n",
        "\n",
        "C = 1.0 # SVM regularization parameter\n",
        "\n",
        "classifier = svm.SVC(kernel='linear', C=1,gamma=1)\n",
        "classifier.fit(X_train, y_train)\n",
        "score = classifier.score(X_test, y_test)\n",
        "print(score)"
      ],
      "execution_count": null,
      "outputs": [
        {
          "output_type": "stream",
          "text": [
            "1.0\n"
          ],
          "name": "stdout"
        },
        {
          "output_type": "stream",
          "text": [
            "/usr/local/lib/python3.6/dist-packages/sklearn/feature_extraction/text.py:507: UserWarning: The parameter 'token_pattern' will not be used since 'tokenizer' is not None'\n",
            "  warnings.warn(\"The parameter 'token_pattern' will not be used\"\n"
          ],
          "name": "stderr"
        }
      ]
    },
    {
      "cell_type": "code",
      "metadata": {
        "id": "b7Tl5ikI8otP",
        "outputId": "333adf0f-936a-415f-982d-db3bb964a610",
        "colab": {
          "base_uri": "https://localhost:8080/"
        }
      },
      "source": [
        "# Save the model as a pickle in a file \n",
        "joblib.dump(classifier, 'SVM saving.pkl')"
      ],
      "execution_count": null,
      "outputs": [
        {
          "output_type": "execute_result",
          "data": {
            "text/plain": [
              "['SVM saving.pkl']"
            ]
          },
          "metadata": {
            "tags": []
          },
          "execution_count": 73
        }
      ]
    },
    {
      "cell_type": "code",
      "metadata": {
        "id": "Ck_kHSYt80IT",
        "outputId": "e6beb704-50af-4c60-aaad-c00a073d3a30",
        "colab": {
          "base_uri": "https://localhost:8080/"
        }
      },
      "source": [
        "dataCard_Reader = df[df[\"Level1\"] == \"Card_Reader\"]\n",
        "print(dataCard_Reader.iloc[0])\n",
        "sentences = dataCard_Reader['sentence'].values\n",
        "y = dataCard_Reader['Level2'].values\n",
        "ab = dataCard_Reader.groupby('Level2').count()\n",
        "print(ab.sort_values(by=\"sentence\",axis=0))\n"
      ],
      "execution_count": null,
      "outputs": [
        {
          "output_type": "stream",
          "text": [
            "sentence    கருவி பழுதடைதல் போன்ற விடயங்களுக்கு யாருடன் தொ...\n",
            "Level1                                            Card_Reader\n",
            "Level2                                    card_machine_repair\n",
            "Name: 271, dtype: object\n",
            "                      sentence  Level1\n",
            "Level2                                \n",
            "card_machine_repair          9       9\n",
            "new_card_reader_cost        49      49\n"
          ],
          "name": "stdout"
        }
      ]
    },
    {
      "cell_type": "code",
      "metadata": {
        "id": "ixCcLhAV9Vkt",
        "outputId": "2c5623de-9bc5-4e4b-afdd-c2ae217eab9c",
        "colab": {
          "base_uri": "https://localhost:8080/"
        }
      },
      "source": [
        "sentences_train, sentences_test, y_train, y_test = train_test_split(sentences, y, test_size=0.30)\n",
        "vectorizer = CountVectorizer(encoding='utf-8', tokenizer=nltk.word_tokenize)\n",
        "vectorizer.fit(sentences_train)\n",
        "\n",
        "X_train = vectorizer.transform(sentences_train)\n",
        "X_test  = vectorizer.transform(sentences_test)\n",
        "\n",
        "C = 1.0 # SVM regularization parameter\n",
        "\n",
        "classifier = svm.SVC(kernel='linear', C=1,gamma=1)\n",
        "classifier.fit(X_train, y_train)\n",
        "score = classifier.score(X_test, y_test)\n",
        "print(score)"
      ],
      "execution_count": null,
      "outputs": [
        {
          "output_type": "stream",
          "text": [
            "1.0\n"
          ],
          "name": "stdout"
        },
        {
          "output_type": "stream",
          "text": [
            "/usr/local/lib/python3.6/dist-packages/sklearn/feature_extraction/text.py:507: UserWarning: The parameter 'token_pattern' will not be used since 'tokenizer' is not None'\n",
            "  warnings.warn(\"The parameter 'token_pattern' will not be used\"\n"
          ],
          "name": "stderr"
        }
      ]
    },
    {
      "cell_type": "code",
      "metadata": {
        "id": "pfNnnj4G9gj1",
        "outputId": "81ee8e44-a6d5-40d1-d071-871521833e60",
        "colab": {
          "base_uri": "https://localhost:8080/"
        }
      },
      "source": [
        "# Save the model as a pickle in a file \n",
        "joblib.dump(classifier, 'Card_Reader.pkl')"
      ],
      "execution_count": null,
      "outputs": [
        {
          "output_type": "execute_result",
          "data": {
            "text/plain": [
              "['Card_Reader.pkl']"
            ]
          },
          "metadata": {
            "tags": []
          },
          "execution_count": 81
        }
      ]
    },
    {
      "cell_type": "code",
      "metadata": {
        "id": "ZzHqe7_L9nzH",
        "outputId": "3c96f9c7-18c6-4371-97cb-947dd36c86ec",
        "colab": {
          "base_uri": "https://localhost:8080/"
        }
      },
      "source": [
        "datafd = df[df[\"Level1\"] == \"fd\"]\n",
        "print(datafd.iloc[0])\n",
        "sentences = datafd['sentence'].values\n",
        "y = datafd['Level2'].values\n",
        "ab = datafd.groupby('Level2').count()\n",
        "print(ab.sort_values(by=\"sentence\",axis=0))\n"
      ],
      "execution_count": null,
      "outputs": [
        {
          "output_type": "stream",
          "text": [
            "sentence    வெளிநாட்டு நாணய நிலையான வைப்பினை பெறுவதற்கு மு...\n",
            "Level1                                                     fd\n",
            "Level2                            foreign_currency_withdrawal\n",
            "Name: 571, dtype: object\n",
            "                                      sentence  Level1\n",
            "Level2                                                \n",
            "precashing_foreign_fixed_deposit            14      14\n",
            "foreign_currency_withdrawal                 17      17\n",
            "foreign_currency_withdrawal_currency        17      17\n",
            "foreign_deposit_loan                        18      18\n"
          ],
          "name": "stdout"
        }
      ]
    },
    {
      "cell_type": "code",
      "metadata": {
        "id": "5fUmd9wc99b1",
        "outputId": "66e25e0f-0665-4675-ba35-16bb4eba2797",
        "colab": {
          "base_uri": "https://localhost:8080/"
        }
      },
      "source": [
        "sentences_train, sentences_test, y_train, y_test = train_test_split(sentences, y, test_size=0.30)\n",
        "vectorizer = CountVectorizer(encoding='utf-8', tokenizer=nltk.word_tokenize)\n",
        "vectorizer.fit(sentences_train)\n",
        "\n",
        "X_train = vectorizer.transform(sentences_train)\n",
        "X_test  = vectorizer.transform(sentences_test)\n",
        "\n",
        "C = 1.0 # SVM regularization parameter\n",
        "\n",
        "classifier = svm.SVC(kernel='linear', C=1,gamma=1)\n",
        "classifier.fit(X_train, y_train)\n",
        "score = classifier.score(X_test, y_test)\n",
        "print(score)"
      ],
      "execution_count": null,
      "outputs": [
        {
          "output_type": "stream",
          "text": [
            "0.95\n"
          ],
          "name": "stdout"
        },
        {
          "output_type": "stream",
          "text": [
            "/usr/local/lib/python3.6/dist-packages/sklearn/feature_extraction/text.py:507: UserWarning: The parameter 'token_pattern' will not be used since 'tokenizer' is not None'\n",
            "  warnings.warn(\"The parameter 'token_pattern' will not be used\"\n"
          ],
          "name": "stderr"
        }
      ]
    },
    {
      "cell_type": "code",
      "metadata": {
        "id": "A3egbhdo-F-1",
        "outputId": "ac006232-b846-46d3-9e70-46de176c60aa",
        "colab": {
          "base_uri": "https://localhost:8080/"
        }
      },
      "source": [
        "# Save the model as a pickle in a file \n",
        "joblib.dump(classifier, 'SVM fd.pkl')"
      ],
      "execution_count": null,
      "outputs": [
        {
          "output_type": "execute_result",
          "data": {
            "text/plain": [
              "['SVM fd.pkl']"
            ]
          },
          "metadata": {
            "tags": []
          },
          "execution_count": 84
        }
      ]
    },
    {
      "cell_type": "code",
      "metadata": {
        "id": "qZtRFjqv--D7",
        "outputId": "9f780d7d-e9d3-4052-e592-8b8906e20cf9",
        "colab": {
          "base_uri": "https://localhost:8080/"
        }
      },
      "source": [
        "databond = df[df[\"Level1\"] == \"bond\"]\n",
        "print(datafd.iloc[0])\n",
        "sentences = databond['sentence'].values\n",
        "y = databond['Level2'].values\n",
        "ab = databond.groupby('Level2').count()\n",
        "print(ab.sort_values(by=\"sentence\",axis=0))\n"
      ],
      "execution_count": null,
      "outputs": [
        {
          "output_type": "stream",
          "text": [
            "sentence    வெளிநாட்டு நாணய நிலையான வைப்பினை பெறுவதற்கு மு...\n",
            "Level1                                                     fd\n",
            "Level2                            foreign_currency_withdrawal\n",
            "Name: 571, dtype: object\n",
            "                                  sentence  Level1\n",
            "Level2                                            \n",
            "treasury_bond_advantage                 19      19\n",
            "treasury_bond_important_features        24      24\n",
            "treasury_bond_information               24      24\n"
          ],
          "name": "stdout"
        }
      ]
    },
    {
      "cell_type": "code",
      "metadata": {
        "id": "OmJqqdNe_0x4",
        "outputId": "1fab644b-e308-4df5-aec8-49f1cd30cace",
        "colab": {
          "base_uri": "https://localhost:8080/"
        }
      },
      "source": [
        "sentences_train, sentences_test, y_train, y_test = train_test_split(sentences, y, test_size=0.30)\n",
        "vectorizer = CountVectorizer(encoding='utf-8', tokenizer=nltk.word_tokenize)\n",
        "vectorizer.fit(sentences_train)\n",
        "\n",
        "X_train = vectorizer.transform(sentences_train)\n",
        "X_test  = vectorizer.transform(sentences_test)\n",
        "\n",
        "C = 1.0 # SVM regularization parameter\n",
        "\n",
        "classifier = svm.SVC(kernel='linear', C=1,gamma=1)\n",
        "classifier.fit(X_train, y_train)\n",
        "score = classifier.score(X_test, y_test)\n",
        "print(score)"
      ],
      "execution_count": null,
      "outputs": [
        {
          "output_type": "stream",
          "text": [
            "0.9047619047619048\n"
          ],
          "name": "stdout"
        },
        {
          "output_type": "stream",
          "text": [
            "/usr/local/lib/python3.6/dist-packages/sklearn/feature_extraction/text.py:507: UserWarning: The parameter 'token_pattern' will not be used since 'tokenizer' is not None'\n",
            "  warnings.warn(\"The parameter 'token_pattern' will not be used\"\n"
          ],
          "name": "stderr"
        }
      ]
    },
    {
      "cell_type": "code",
      "metadata": {
        "id": "Nm3h_Cb5_8VY",
        "outputId": "e0dc3498-78cd-4dd2-ba51-63f01bd3eb60",
        "colab": {
          "base_uri": "https://localhost:8080/"
        }
      },
      "source": [
        "joblib.dump(classifier, 'SVM bond.pkl')"
      ],
      "execution_count": null,
      "outputs": [
        {
          "output_type": "execute_result",
          "data": {
            "text/plain": [
              "['SVM bond.pkl']"
            ]
          },
          "metadata": {
            "tags": []
          },
          "execution_count": 88
        }
      ]
    },
    {
      "cell_type": "code",
      "metadata": {
        "id": "Uvh1IljFADH1",
        "outputId": "1a952254-c856-4b77-828b-60b55dc878dd",
        "colab": {
          "base_uri": "https://localhost:8080/"
        }
      },
      "source": [
        "dataloan = df[df[\"Level1\"] == \"loan\"]\n",
        "print(dataloan.iloc[0])\n",
        "sentences = dataloan['sentence'].values\n",
        "y = dataloan['Level2'].values\n",
        "ab = dataloan.groupby('Level2').count()\n",
        "print(ab.sort_values(by=\"sentence\",axis=0))\n"
      ],
      "execution_count": null,
      "outputs": [
        {
          "output_type": "stream",
          "text": [
            "sentence    வீடமைப்பு கடனை பெற்றுக் கொள்ள தேவையான ஆவணங்கள்...\n",
            "Level1                                                   loan\n",
            "Level2                                 housing_loan_documents\n",
            "Name: 700, dtype: object\n",
            "                           sentence  Level1\n",
            "Level2                                     \n",
            "housing_loan_documents           10      10\n",
            "internet_bank_loan_amount        15      15\n",
            "loan_requirement                 19      19\n",
            "housing_loan_purpose             35      35\n"
          ],
          "name": "stdout"
        }
      ]
    },
    {
      "cell_type": "code",
      "metadata": {
        "id": "SfPGSl0IAZMi",
        "outputId": "80c7246f-0470-433f-c97b-cd853bb2986e",
        "colab": {
          "base_uri": "https://localhost:8080/"
        }
      },
      "source": [
        "sentences_train, sentences_test, y_train, y_test = train_test_split(sentences, y, test_size=0.30)\n",
        "vectorizer = CountVectorizer(encoding='utf-8', tokenizer=nltk.word_tokenize)\n",
        "vectorizer.fit(sentences_train)\n",
        "\n",
        "X_train = vectorizer.transform(sentences_train)\n",
        "X_test  = vectorizer.transform(sentences_test)\n",
        "\n",
        "C = 1.0 # SVM regularization parameter\n",
        "\n",
        "classifier = svm.SVC(kernel='linear', C=1,gamma=1)\n",
        "classifier.fit(X_train, y_train)\n",
        "score = classifier.score(X_test, y_test)\n",
        "print(score)"
      ],
      "execution_count": null,
      "outputs": [
        {
          "output_type": "stream",
          "text": [
            "1.0\n"
          ],
          "name": "stdout"
        },
        {
          "output_type": "stream",
          "text": [
            "/usr/local/lib/python3.6/dist-packages/sklearn/feature_extraction/text.py:507: UserWarning: The parameter 'token_pattern' will not be used since 'tokenizer' is not None'\n",
            "  warnings.warn(\"The parameter 'token_pattern' will not be used\"\n"
          ],
          "name": "stderr"
        }
      ]
    },
    {
      "cell_type": "code",
      "metadata": {
        "id": "qMsF9-gZBBZO",
        "outputId": "2d9456b5-157e-46c3-90a4-48c5c0fb64f5",
        "colab": {
          "base_uri": "https://localhost:8080/"
        }
      },
      "source": [
        "joblib.dump(classifier, 'SVM loan.pkl')"
      ],
      "execution_count": null,
      "outputs": [
        {
          "output_type": "execute_result",
          "data": {
            "text/plain": [
              "['SVM loan.pkl']"
            ]
          },
          "metadata": {
            "tags": []
          },
          "execution_count": 91
        }
      ]
    },
    {
      "cell_type": "code",
      "metadata": {
        "id": "QTjXbrYdBMwv",
        "outputId": "e0276b70-d178-495f-b2a3-b58a9732515f",
        "colab": {
          "base_uri": "https://localhost:8080/"
        }
      },
      "source": [
        "datatikiri = df[df[\"Level1\"] == \"tikiri\"]\n",
        "print(datatikiri.iloc[0])\n",
        "sentences = datatikiri['sentence'].values\n",
        "y = datatikiri['Level2'].values\n",
        "ab = datatikiri.groupby('Level2').count()\n",
        "print(ab.sort_values(by=\"sentence\",axis=0))\n"
      ],
      "execution_count": null,
      "outputs": [
        {
          "output_type": "stream",
          "text": [
            "sentence    “செலான் டிக்கிரி” கணக்கை ஆரம்பிப்பதற்குத் தேவை...\n",
            "Level1                                                 tikiri\n",
            "Level2                          seylan_tikiri_minimum_deposit\n",
            "Name: 1079, dtype: object\n",
            "                                 sentence  Level1\n",
            "Level2                                           \n",
            "tikiri_gift_voucher_redeem             14      14\n",
            "tikiri_gift_voucher_age_limit          18      18\n",
            "tikiri_gift_voucher_validity           19      19\n",
            "tikiri_gift_voucher_withdrawal         19      19\n",
            "tikiri_gift_voucher_min_amount         21      21\n",
            "tikiri_gift_voucher_per_person         21      21\n",
            "tikiri_gift_voucher_buying_info        22      22\n",
            "tikiri_gift_voucher_info               23      23\n",
            "tikiri_required_docs                   64      64\n",
            "seylan_tikiri_minimum_deposit          83      83\n"
          ],
          "name": "stdout"
        }
      ]
    },
    {
      "cell_type": "code",
      "metadata": {
        "id": "_iydkaIRBxGa",
        "outputId": "2def9540-c814-439a-c7c7-c3419d9204d8",
        "colab": {
          "base_uri": "https://localhost:8080/"
        }
      },
      "source": [
        "sentences_train, sentences_test, y_train, y_test = train_test_split(sentences, y, test_size=0.30)\n",
        "vectorizer = CountVectorizer(encoding='utf-8', tokenizer=nltk.word_tokenize)\n",
        "vectorizer.fit(sentences_train)\n",
        "\n",
        "X_train = vectorizer.transform(sentences_train)\n",
        "X_test  = vectorizer.transform(sentences_test)\n",
        "\n",
        "C = 1.0 # SVM regularization parameter\n",
        "\n",
        "classifier = svm.SVC(kernel='linear', C=1,gamma=1)\n",
        "classifier.fit(X_train, y_train)\n",
        "score = classifier.score(X_test, y_test)\n",
        "print(score)"
      ],
      "execution_count": null,
      "outputs": [
        {
          "output_type": "stream",
          "text": [
            "0.9782608695652174\n"
          ],
          "name": "stdout"
        },
        {
          "output_type": "stream",
          "text": [
            "/usr/local/lib/python3.6/dist-packages/sklearn/feature_extraction/text.py:507: UserWarning: The parameter 'token_pattern' will not be used since 'tokenizer' is not None'\n",
            "  warnings.warn(\"The parameter 'token_pattern' will not be used\"\n"
          ],
          "name": "stderr"
        }
      ]
    },
    {
      "cell_type": "code",
      "metadata": {
        "id": "MhkGSmnMB4Jn",
        "outputId": "6357b42f-04d7-4629-e099-7199c4d4ff71",
        "colab": {
          "base_uri": "https://localhost:8080/"
        }
      },
      "source": [
        "joblib.dump(classifier, 'SVM tikiri.pkl')"
      ],
      "execution_count": null,
      "outputs": [
        {
          "output_type": "execute_result",
          "data": {
            "text/plain": [
              "['SVM tikiri.pkl']"
            ]
          },
          "metadata": {
            "tags": []
          },
          "execution_count": 94
        }
      ]
    },
    {
      "cell_type": "code",
      "metadata": {
        "id": "SV0hLVGfCYGh",
        "outputId": "ca079e70-0a65-42a8-b83c-0fac7525f6db",
        "colab": {
          "base_uri": "https://localhost:8080/"
        }
      },
      "source": [
        "datageneral = df[df[\"Level1\"] == \"general\"]\n",
        "print(datageneral.iloc[0])\n",
        "sentences = datageneral['sentence'].values\n",
        "y = datageneral['Level2'].values\n",
        "ab = datageneral.groupby('Level2').count()\n",
        "print(ab.sort_values(by=\"sentence\",axis=0))\n"
      ],
      "execution_count": null,
      "outputs": [
        {
          "output_type": "stream",
          "text": [
            "sentence    செலான் வங்கியில் கணக்கை ஆரம்பிக்க பயன்படுத்தக்...\n",
            "Level1                                                general\n",
            "Level2                                       account_currency\n",
            "Name: 103, dtype: object\n",
            "                                sentence  Level1\n",
            "Level2                                          \n",
            "SLBFE_info                            10      10\n",
            "account_currency                      10      10\n",
            "joint_account_details                 10      10\n",
            "selan_sure_info                       10      10\n",
            "marriage_claim                        13      13\n",
            "foreign_account_lkr_withdrawal        18      18\n",
            "get_lc_form                           19      19\n",
            "repos_benefits                        20      20\n",
            "update_personal_details               21      21\n",
            "sl_development_bond_benefits          22      22\n",
            "resident_foreign_account_info         60      60\n",
            "life_insurance_limit                  65      65\n",
            "FCAISPE_required_docs                 67      67\n"
          ],
          "name": "stdout"
        }
      ]
    },
    {
      "cell_type": "code",
      "metadata": {
        "id": "VvG5ms86C51A",
        "outputId": "c55686b7-4388-4dd2-f75d-607068a8fa7f",
        "colab": {
          "base_uri": "https://localhost:8080/"
        }
      },
      "source": [
        "sentences_train, sentences_test, y_train, y_test = train_test_split(sentences, y, test_size=0.30)\n",
        "vectorizer = CountVectorizer(encoding='utf-8', tokenizer=nltk.word_tokenize)\n",
        "vectorizer.fit(sentences_train)\n",
        "\n",
        "X_train = vectorizer.transform(sentences_train)\n",
        "X_test  = vectorizer.transform(sentences_test)\n",
        "\n",
        "C = 1.0 # SVM regularization parameter\n",
        "\n",
        "classifier = svm.SVC(kernel='linear', C=1,gamma=1)\n",
        "classifier.fit(X_train, y_train)\n",
        "score = classifier.score(X_test, y_test)\n",
        "print(score)"
      ],
      "execution_count": null,
      "outputs": [
        {
          "output_type": "stream",
          "text": [
            "0.9807692307692307\n"
          ],
          "name": "stdout"
        },
        {
          "output_type": "stream",
          "text": [
            "/usr/local/lib/python3.6/dist-packages/sklearn/feature_extraction/text.py:507: UserWarning: The parameter 'token_pattern' will not be used since 'tokenizer' is not None'\n",
            "  warnings.warn(\"The parameter 'token_pattern' will not be used\"\n"
          ],
          "name": "stderr"
        }
      ]
    },
    {
      "cell_type": "code",
      "metadata": {
        "id": "lTY9nSDtC-GO",
        "outputId": "d553d5e0-d357-4d0d-b137-f4b873652a60",
        "colab": {
          "base_uri": "https://localhost:8080/"
        }
      },
      "source": [
        "joblib.dump(classifier, 'SVM general.pkl')"
      ],
      "execution_count": null,
      "outputs": [
        {
          "output_type": "execute_result",
          "data": {
            "text/plain": [
              "['SVM general.pkl']"
            ]
          },
          "metadata": {
            "tags": []
          },
          "execution_count": 98
        }
      ]
    },
    {
      "cell_type": "code",
      "metadata": {
        "id": "q3d3S2lVDNzs",
        "outputId": "c18d2b51-416d-411c-d0f2-3a943641516b",
        "colab": {
          "base_uri": "https://localhost:8080/"
        }
      },
      "source": [
        "datadebit_card = df[df[\"Level1\"] == \"debit_card\"]\n",
        "print(datadebit_card.iloc[0])\n",
        "sentences = datadebit_card['sentence'].values\n",
        "y = datadebit_card['Level2'].values\n",
        "ab = datadebit_card.groupby('Level2').count()\n",
        "print(ab.sort_values(by=\"sentence\",axis=0))\n"
      ],
      "execution_count": null,
      "outputs": [
        {
          "output_type": "stream",
          "text": [
            "sentence    எனது கடன் அட்டை கணக்கை எவ்வாறு நான் இரத்துச் ச...\n",
            "Level1                                             debit_card\n",
            "Level2                                            cancel_card\n",
            "Name: 123, dtype: object\n",
            "                        sentence  Level1\n",
            "Level2                                  \n",
            "cancel_card                   27      27\n",
            "debit_card_requirement        41      41\n",
            "CVV_use                       44      44\n",
            "change_details                49      49\n",
            "card_automatic_renewal        50      50\n",
            "get_monthly_report            58      58\n",
            "suspious_activity             64      64\n",
            "card_foreign_use              71      71\n",
            "card_usage                    72      72\n"
          ],
          "name": "stdout"
        }
      ]
    },
    {
      "cell_type": "code",
      "metadata": {
        "id": "RxWm935tDj2c",
        "outputId": "e660ad68-4e67-43f8-f1e3-60da1d4a4528",
        "colab": {
          "base_uri": "https://localhost:8080/"
        }
      },
      "source": [
        "sentences_train, sentences_test, y_train, y_test = train_test_split(sentences, y, test_size=0.30)\n",
        "vectorizer = CountVectorizer(encoding='utf-8', tokenizer=nltk.word_tokenize)\n",
        "vectorizer.fit(sentences_train)\n",
        "\n",
        "X_train = vectorizer.transform(sentences_train)\n",
        "X_test  = vectorizer.transform(sentences_test)\n",
        "\n",
        "C = 1.0 # SVM regularization parameter\n",
        "\n",
        "classifier = svm.SVC(kernel='linear', C=1,gamma=1)\n",
        "classifier.fit(X_train, y_train)\n",
        "score = classifier.score(X_test, y_test)\n",
        "print(score)"
      ],
      "execution_count": null,
      "outputs": [
        {
          "output_type": "stream",
          "text": [
            "0.986013986013986\n"
          ],
          "name": "stdout"
        },
        {
          "output_type": "stream",
          "text": [
            "/usr/local/lib/python3.6/dist-packages/sklearn/feature_extraction/text.py:507: UserWarning: The parameter 'token_pattern' will not be used since 'tokenizer' is not None'\n",
            "  warnings.warn(\"The parameter 'token_pattern' will not be used\"\n"
          ],
          "name": "stderr"
        }
      ]
    },
    {
      "cell_type": "code",
      "metadata": {
        "id": "hMuVA4xsEWEt",
        "outputId": "fa4c3cce-aaf6-41ce-fddc-3dd1e9d33fc6",
        "colab": {
          "base_uri": "https://localhost:8080/"
        }
      },
      "source": [
        "joblib.dump(classifier, 'SVM debit_card.pkl')"
      ],
      "execution_count": null,
      "outputs": [
        {
          "output_type": "execute_result",
          "data": {
            "text/plain": [
              "['SVM debit_card.pkl']"
            ]
          },
          "metadata": {
            "tags": []
          },
          "execution_count": 102
        }
      ]
    },
    {
      "cell_type": "code",
      "metadata": {
        "id": "wo8KWXf1E7wa",
        "outputId": "c3867d9f-8962-4b9d-d0e3-4842fc681e34",
        "colab": {
          "base_uri": "https://localhost:8080/"
        }
      },
      "source": [
        "df_list = []\n",
        "filepath ='/content/Bank Dataset Hierarchy - CatagoricalIntents.csv'\n",
        "df = pd.read_csv(filepath, encoding = \"utf-8\", names=['sentence', 'Level1', 'Level2'], sep=',')\n",
        "df_list.append(df)\n",
        "\n",
        "df = pd.concat(df_list)\n",
        "df =df.sample(frac = 0.3) \n",
        "print(df.iloc[0])"
      ],
      "execution_count": null,
      "outputs": [
        {
          "output_type": "stream",
          "text": [
            "sentence    டிக்கிரி கணக்கை ஆரம்பிப்பதற்குத் தேவைப்படும் ஆ...\n",
            "Level1                                                 tikiri\n",
            "Level2                                   tikiri_required_docs\n",
            "Name: 1415, dtype: object\n"
          ],
          "name": "stdout"
        }
      ]
    },
    {
      "cell_type": "code",
      "metadata": {
        "id": "cRDT4qYBKlZE"
      },
      "source": [
        "sentences_test = df['sentence'].values\n",
        "y_test = df['Level1'].values\n",
        "y_test1= df['Level2'].values"
      ],
      "execution_count": null,
      "outputs": []
    },
    {
      "cell_type": "code",
      "metadata": {
        "id": "JbYux3w6Nskm",
        "outputId": "ef01ccac-d4ac-4e3b-d428-32d8be37594e",
        "colab": {
          "base_uri": "https://localhost:8080/"
        }
      },
      "source": [
        "vectorizer = CountVectorizer(encoding='utf-8', tokenizer=nltk.word_tokenize)\n",
        "vectorizer.fit(sentences_test )\n",
        "\n",
        "X_test  = vectorizer.transform(sentences_test)"
      ],
      "execution_count": null,
      "outputs": [
        {
          "output_type": "stream",
          "text": [
            "/usr/local/lib/python3.6/dist-packages/sklearn/feature_extraction/text.py:507: UserWarning: The parameter 'token_pattern' will not be used since 'tokenizer' is not None'\n",
            "  warnings.warn(\"The parameter 'token_pattern' will not be used\"\n"
          ],
          "name": "stderr"
        }
      ]
    },
    {
      "cell_type": "code",
      "metadata": {
        "id": "GutXU9YiNUah"
      },
      "source": [
        "# Load the model from the file \n",
        "level1 = joblib.load('/content/SVML1.pkl')  \n",
        "  "
      ],
      "execution_count": null,
      "outputs": []
    },
    {
      "cell_type": "code",
      "metadata": {
        "id": "qL1KFBVROSdO",
        "outputId": "1a13d6e3-faa0-4882-9975-4a2bfb334e2a",
        "colab": {
          "base_uri": "https://localhost:8080/",
          "height": 357
        }
      },
      "source": [
        "\n",
        "y_pred = level1.predict(X_test)\n",
        "df1 = pd.DataFrame(sentences_test, columns=[\"sentence\"])\n",
        "df1[\"L1predicted\"] = y_pred\n"
      ],
      "execution_count": null,
      "outputs": [
        {
          "output_type": "error",
          "ename": "ValueError",
          "evalue": "ignored",
          "traceback": [
            "\u001b[0;31m---------------------------------------------------------------------------\u001b[0m",
            "\u001b[0;31mValueError\u001b[0m                                Traceback (most recent call last)",
            "\u001b[0;32m<ipython-input-132-d207ca925684>\u001b[0m in \u001b[0;36m<module>\u001b[0;34m()\u001b[0m\n\u001b[1;32m      1\u001b[0m \u001b[0;34m\u001b[0m\u001b[0m\n\u001b[0;32m----> 2\u001b[0;31m \u001b[0my_pred\u001b[0m \u001b[0;34m=\u001b[0m\u001b[0mlevel1\u001b[0m\u001b[0;34m.\u001b[0m\u001b[0mpredict\u001b[0m\u001b[0;34m(\u001b[0m\u001b[0mX_test\u001b[0m\u001b[0;34m)\u001b[0m\u001b[0;34m\u001b[0m\u001b[0;34m\u001b[0m\u001b[0m\n\u001b[0m\u001b[1;32m      3\u001b[0m \u001b[0mdf1\u001b[0m \u001b[0;34m=\u001b[0m \u001b[0mpd\u001b[0m\u001b[0;34m.\u001b[0m\u001b[0mDataFrame\u001b[0m\u001b[0;34m(\u001b[0m\u001b[0msentences_test\u001b[0m\u001b[0;34m,\u001b[0m \u001b[0mcolumns\u001b[0m\u001b[0;34m=\u001b[0m\u001b[0;34m[\u001b[0m\u001b[0;34m\"sentence\"\u001b[0m\u001b[0;34m]\u001b[0m\u001b[0;34m)\u001b[0m\u001b[0;34m\u001b[0m\u001b[0;34m\u001b[0m\u001b[0m\n\u001b[1;32m      4\u001b[0m \u001b[0mdf1\u001b[0m\u001b[0;34m[\u001b[0m\u001b[0;34m\"L1predicted\"\u001b[0m\u001b[0;34m]\u001b[0m \u001b[0;34m=\u001b[0m \u001b[0my_pred\u001b[0m\u001b[0;34m\u001b[0m\u001b[0;34m\u001b[0m\u001b[0m\n",
            "\u001b[0;32m/usr/local/lib/python3.6/dist-packages/sklearn/svm/_base.py\u001b[0m in \u001b[0;36mpredict\u001b[0;34m(self, X)\u001b[0m\n\u001b[1;32m    592\u001b[0m             \u001b[0my\u001b[0m \u001b[0;34m=\u001b[0m \u001b[0mnp\u001b[0m\u001b[0;34m.\u001b[0m\u001b[0margmax\u001b[0m\u001b[0;34m(\u001b[0m\u001b[0mself\u001b[0m\u001b[0;34m.\u001b[0m\u001b[0mdecision_function\u001b[0m\u001b[0;34m(\u001b[0m\u001b[0mX\u001b[0m\u001b[0;34m)\u001b[0m\u001b[0;34m,\u001b[0m \u001b[0maxis\u001b[0m\u001b[0;34m=\u001b[0m\u001b[0;36m1\u001b[0m\u001b[0;34m)\u001b[0m\u001b[0;34m\u001b[0m\u001b[0;34m\u001b[0m\u001b[0m\n\u001b[1;32m    593\u001b[0m         \u001b[0;32melse\u001b[0m\u001b[0;34m:\u001b[0m\u001b[0;34m\u001b[0m\u001b[0;34m\u001b[0m\u001b[0m\n\u001b[0;32m--> 594\u001b[0;31m             \u001b[0my\u001b[0m \u001b[0;34m=\u001b[0m \u001b[0msuper\u001b[0m\u001b[0;34m(\u001b[0m\u001b[0;34m)\u001b[0m\u001b[0;34m.\u001b[0m\u001b[0mpredict\u001b[0m\u001b[0;34m(\u001b[0m\u001b[0mX\u001b[0m\u001b[0;34m)\u001b[0m\u001b[0;34m\u001b[0m\u001b[0;34m\u001b[0m\u001b[0m\n\u001b[0m\u001b[1;32m    595\u001b[0m         \u001b[0;32mreturn\u001b[0m \u001b[0mself\u001b[0m\u001b[0;34m.\u001b[0m\u001b[0mclasses_\u001b[0m\u001b[0;34m.\u001b[0m\u001b[0mtake\u001b[0m\u001b[0;34m(\u001b[0m\u001b[0mnp\u001b[0m\u001b[0;34m.\u001b[0m\u001b[0masarray\u001b[0m\u001b[0;34m(\u001b[0m\u001b[0my\u001b[0m\u001b[0;34m,\u001b[0m \u001b[0mdtype\u001b[0m\u001b[0;34m=\u001b[0m\u001b[0mnp\u001b[0m\u001b[0;34m.\u001b[0m\u001b[0mintp\u001b[0m\u001b[0;34m)\u001b[0m\u001b[0;34m)\u001b[0m\u001b[0;34m\u001b[0m\u001b[0;34m\u001b[0m\u001b[0m\n\u001b[1;32m    596\u001b[0m \u001b[0;34m\u001b[0m\u001b[0m\n",
            "\u001b[0;32m/usr/local/lib/python3.6/dist-packages/sklearn/svm/_base.py\u001b[0m in \u001b[0;36mpredict\u001b[0;34m(self, X)\u001b[0m\n\u001b[1;32m    313\u001b[0m         \u001b[0my_pred\u001b[0m \u001b[0;34m:\u001b[0m \u001b[0marray\u001b[0m\u001b[0;34m,\u001b[0m \u001b[0mshape\u001b[0m \u001b[0;34m(\u001b[0m\u001b[0mn_samples\u001b[0m\u001b[0;34m,\u001b[0m\u001b[0;34m)\u001b[0m\u001b[0;34m\u001b[0m\u001b[0;34m\u001b[0m\u001b[0m\n\u001b[1;32m    314\u001b[0m         \"\"\"\n\u001b[0;32m--> 315\u001b[0;31m         \u001b[0mX\u001b[0m \u001b[0;34m=\u001b[0m \u001b[0mself\u001b[0m\u001b[0;34m.\u001b[0m\u001b[0m_validate_for_predict\u001b[0m\u001b[0;34m(\u001b[0m\u001b[0mX\u001b[0m\u001b[0;34m)\u001b[0m\u001b[0;34m\u001b[0m\u001b[0;34m\u001b[0m\u001b[0m\n\u001b[0m\u001b[1;32m    316\u001b[0m         \u001b[0mpredict\u001b[0m \u001b[0;34m=\u001b[0m \u001b[0mself\u001b[0m\u001b[0;34m.\u001b[0m\u001b[0m_sparse_predict\u001b[0m \u001b[0;32mif\u001b[0m \u001b[0mself\u001b[0m\u001b[0;34m.\u001b[0m\u001b[0m_sparse\u001b[0m \u001b[0;32melse\u001b[0m \u001b[0mself\u001b[0m\u001b[0;34m.\u001b[0m\u001b[0m_dense_predict\u001b[0m\u001b[0;34m\u001b[0m\u001b[0;34m\u001b[0m\u001b[0m\n\u001b[1;32m    317\u001b[0m         \u001b[0;32mreturn\u001b[0m \u001b[0mpredict\u001b[0m\u001b[0;34m(\u001b[0m\u001b[0mX\u001b[0m\u001b[0;34m)\u001b[0m\u001b[0;34m\u001b[0m\u001b[0;34m\u001b[0m\u001b[0m\n",
            "\u001b[0;32m/usr/local/lib/python3.6/dist-packages/sklearn/svm/_base.py\u001b[0m in \u001b[0;36m_validate_for_predict\u001b[0;34m(self, X)\u001b[0m\n\u001b[1;32m    465\u001b[0m             raise ValueError(\"X.shape[1] = %d should be equal to %d, \"\n\u001b[1;32m    466\u001b[0m                              \u001b[0;34m\"the number of features at training time\"\u001b[0m \u001b[0;34m%\u001b[0m\u001b[0;34m\u001b[0m\u001b[0;34m\u001b[0m\u001b[0m\n\u001b[0;32m--> 467\u001b[0;31m                              (n_features, self.shape_fit_[1]))\n\u001b[0m\u001b[1;32m    468\u001b[0m         \u001b[0;32mreturn\u001b[0m \u001b[0mX\u001b[0m\u001b[0;34m\u001b[0m\u001b[0;34m\u001b[0m\u001b[0m\n\u001b[1;32m    469\u001b[0m \u001b[0;34m\u001b[0m\u001b[0m\n",
            "\u001b[0;31mValueError\u001b[0m: X.shape[1] = 750 should be equal to 1031, the number of features at training time"
          ]
        }
      ]
    }
  ]
}