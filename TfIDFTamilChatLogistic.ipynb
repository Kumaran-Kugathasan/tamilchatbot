{
  "nbformat": 4,
  "nbformat_minor": 0,
  "metadata": {
    "colab": {
      "name": "TfIDFTamilChatLogistic.ipynb",
      "provenance": [],
      "collapsed_sections": [],
      "authorship_tag": "ABX9TyMHW60OrryDZNQFkYMtuldK",
      "include_colab_link": true
    },
    "kernelspec": {
      "name": "python3",
      "display_name": "Python 3"
    },
    "accelerator": "TPU"
  },
  "cells": [
    {
      "cell_type": "markdown",
      "metadata": {
        "id": "view-in-github",
        "colab_type": "text"
      },
      "source": [
        "<a href=\"https://colab.research.google.com/github/Kumaran-Kugathasan/tamilchatbot/blob/main/TfIDFTamilChatLogistic.ipynb\" target=\"_parent\"><img src=\"https://colab.research.google.com/assets/colab-badge.svg\" alt=\"Open In Colab\"/></a>"
      ]
    },
    {
      "cell_type": "code",
      "metadata": {
        "id": "aMGdVhNx6Yw2",
        "outputId": "09e14ccf-3b75-4d95-883d-623dae805148",
        "colab": {
          "base_uri": "https://localhost:8080/",
          "height": 68
        }
      },
      "source": [
        "import pandas as pd\n",
        "\n",
        "df_list = []\n",
        "filepath ='/content/bank.csv'\n",
        "df = pd.read_csv(filepath, encoding = \"utf-8\", names=['sentence', 'label'], sep=',')\n",
        "df_list.append(df)\n",
        "\n",
        "df = pd.concat(df_list)\n",
        "print(df.iloc[0])"
      ],
      "execution_count": null,
      "outputs": [
        {
          "output_type": "stream",
          "text": [
            "sentence    நான் 2in1 கணக்கில் சேமிப்பது எப்படி ?\n",
            "label                           2in1_acoount_info\n",
            "Name: 0, dtype: object\n"
          ],
          "name": "stdout"
        }
      ]
    },
    {
      "cell_type": "code",
      "metadata": {
        "id": "v-svpcUH9QFh",
        "outputId": "e94f17b8-0efb-4dfa-f9f2-68b8102645d8",
        "colab": {
          "base_uri": "https://localhost:8080/",
          "height": 68
        }
      },
      "source": [
        "from sklearn.feature_extraction.text import CountVectorizer\n",
        "from sklearn.model_selection import train_test_split\n",
        "from sklearn.linear_model import LogisticRegression\n",
        "\n",
        "sentences = df['sentence'].values\n",
        "y = df['label'].values\n",
        "\n",
        "from nltk.corpus import stopwords\n",
        "from nltk.tokenize import word_tokenize\n",
        "from nltk.stem.lancaster import LancasterStemmer\n",
        "import nltk\n",
        "nltk.download(\"punkt\")\n"
      ],
      "execution_count": null,
      "outputs": [
        {
          "output_type": "stream",
          "text": [
            "[nltk_data] Downloading package punkt to /root/nltk_data...\n",
            "[nltk_data]   Package punkt is already up-to-date!\n"
          ],
          "name": "stdout"
        },
        {
          "output_type": "execute_result",
          "data": {
            "text/plain": [
              "True"
            ]
          },
          "metadata": {
            "tags": []
          },
          "execution_count": 108
        }
      ]
    },
    {
      "cell_type": "code",
      "metadata": {
        "id": "KnwPRkKoup9I",
        "outputId": "4361234c-a2db-4214-d231-c74e3f257c66",
        "colab": {
          "base_uri": "https://localhost:8080/",
          "height": 34
        }
      },
      "source": [
        "sentences_train, sentences_test, y_train, y_test = train_test_split(sentences, y, test_size=0.30, stratify=y)\n",
        "print(sentences_train[0])\n"
      ],
      "execution_count": null,
      "outputs": [
        {
          "output_type": "stream",
          "text": [
            "என்னென்ன தகைமைகளை வச்சு நான் BOC கடன் அட்டை ஒன்றை பெற்றுக்கொள்ளலாம்?\n"
          ],
          "name": "stdout"
        }
      ]
    },
    {
      "cell_type": "code",
      "metadata": {
        "id": "dA1Se2XKu1fa",
        "outputId": "c2f12d5b-d79f-4185-a543-7a58d255845d",
        "colab": {
          "base_uri": "https://localhost:8080/",
          "height": 71
        }
      },
      "source": [
        "#vectorizer = CountVectorizer(encoding='utf-8', tokenizer=nltk.word_tokenize)\n",
        "\n",
        "vectorizer = CountVectorizer(encoding='utf-8', tokenizer=nltk.word_tokenize, stop_words = frozenset([\",\" , \".\", \"?\",\"ஒரு\",\"என்று\",\"மற்றும்\",\"இந்த\",\"இது\",\"என்ற\",\"கொண்டு\",\"என்பது\",\"பல\",\"ஆகும்\",\"அல்லது\",\"அவர்\",\"நான்\",\"உள்ள\",\"அந்த\",\"இவர்\",\"என\",\"முதல்\",\"என்ன\",\"இருந்து\",\"சில\",\"என்\",\"போன்ற\",\"வேண்டும்\",\"வந்து\",\"இதன்\",\"அது\",\"அவன்\",\"தான்\",\"பலரும்\",\"என்னும்\",\"மேலும்\",\"பின்னர்\",\"கொண்ட\",\"இருக்கும்\",\"தனது\",\"உள்ளது\",\"போது\",\"என்றும்\",\"அதன்\",\"தன்\",\"பிறகு\",\"அவர்கள்\",\"வரை\",\"அவள்\",\"நீ\",\"ஆகிய\",\"இருந்தது\",\"உள்ளன\",\"வந்த\",\"இருந்த\",\"மிகவும்\",\"இங்கு\",\"மீது\",\"ஓர்\",\"இவை\",\"இந்தக்\",\"பற்றி\",\"வரும்\",\"வேறு\",\"இரு\",\"இதில்\",\"போல்\",\"இப்போது\",\"அவரது\",\"மட்டும்\",\"இந்தப்\",\"எனும்\",\"மேல்\",\"பின்\",\"சேர்ந்த\",\"ஆகியோர்\",\"எனக்கு\",\"இன்னும்\",\"அந்தப்\",\"அன்று\",\"ஒரே\",\"மிக\",\"அங்கு\",\"பல்வேறு\",\"விட்டு\",\"பெரும்\",\"அதை\",\"பற்றிய\",\"உன்\",\"அதிக\",\"அந்தக்\",\"பேர்\",\"இதனால்\",\"அவை\",\"அதே\",\"ஏன்\",\"முறை\",\"யார்\",\"என்பதை\",\"எல்லாம்\",\"மட்டுமே\",\"இங்கே\",\"அங்கே\",\"இடம்\",\"இடத்தில்\",\"அதில்\",\"நாம்\",\"அதற்கு\",\"எனவே\",\"பிற\",\"சிறு\",\"மற்ற\",\"விட\",\"எந்த\",\"எனவும்\",\"எனப்படும்\",\"எனினும்\",\"அடுத்த\",\"இதனை\",\"இதை\",\"கொள்ள\",\"இந்தத்\",\"இதற்கு\",\"அதனால்\",\"தவிர\",\"போல\",\"வரையில்\"]))\n",
        "\n",
        "\n",
        "vectorizer.fit(sentences_train)\n",
        "\n",
        "X_train = vectorizer.transform(sentences_train)\n",
        "X_test  = vectorizer.transform(sentences_test)\n",
        "\n"
      ],
      "execution_count": null,
      "outputs": [
        {
          "output_type": "stream",
          "text": [
            "/usr/local/lib/python3.6/dist-packages/sklearn/feature_extraction/text.py:507: UserWarning: The parameter 'token_pattern' will not be used since 'tokenizer' is not None'\n",
            "  warnings.warn(\"The parameter 'token_pattern' will not be used\"\n"
          ],
          "name": "stderr"
        }
      ]
    },
    {
      "cell_type": "code",
      "metadata": {
        "id": "EkKS3p55aCBc"
      },
      "source": [
        "from sklearn.feature_extraction.text import TfidfTransformer\n",
        "tfidf_transformer = TfidfTransformer()\n",
        "X_train_tfidf = tfidf_transformer.fit_transform(X_train)\n",
        "X_train_tfidf.shape\n",
        "X_test1 = tfidf_transformer.fit_transform(X_test)"
      ],
      "execution_count": null,
      "outputs": []
    },
    {
      "cell_type": "code",
      "metadata": {
        "id": "xTVl8KlLcwvu",
        "colab": {
          "base_uri": "https://localhost:8080/",
          "height": 34
        },
        "outputId": "970fe474-40e7-42da-9fbf-0cdc11ccf108"
      },
      "source": [
        "classifier1 = LogisticRegression()\n",
        "classifier1.fit(X_train, y_train)\n",
        "score = classifier1.score(X_test, y_test)\n",
        "print(score)"
      ],
      "execution_count": null,
      "outputs": [
        {
          "output_type": "stream",
          "text": [
            "0.9745222929936306\n"
          ],
          "name": "stdout"
        }
      ]
    },
    {
      "cell_type": "code",
      "metadata": {
        "id": "mltLNhMxhM5S",
        "colab": {
          "base_uri": "https://localhost:8080/",
          "height": 34
        },
        "outputId": "1dc1fa50-0797-41f1-9505-e6127af9e32d"
      },
      "source": [
        "classifier = LogisticRegression()\n",
        "classifier.fit(X_train_tfidf, y_train)\n",
        "score = classifier.score(X_test1, y_test)\n",
        "print(score)"
      ],
      "execution_count": null,
      "outputs": [
        {
          "output_type": "stream",
          "text": [
            "0.9660297239915074\n"
          ],
          "name": "stdout"
        }
      ]
    },
    {
      "cell_type": "code",
      "metadata": {
        "id": "JfGwmF11e5JH",
        "colab": {
          "base_uri": "https://localhost:8080/",
          "height": 34
        },
        "outputId": "29558324-f738-4ce0-ee06-4df187ffe93d"
      },
      "source": [
        "C = 1.0 # SVM regularization parameter\n",
        "\n",
        "classifierSVM1 = svm.SVC(kernel='linear', C=1,gamma=1)\n",
        "classifierSVM1.fit(X_train, y_train)\n",
        "score = classifierSVM1.score(X_test, y_test)\n",
        "print(score)"
      ],
      "execution_count": null,
      "outputs": [
        {
          "output_type": "stream",
          "text": [
            "0.9808917197452229\n"
          ],
          "name": "stdout"
        }
      ]
    },
    {
      "cell_type": "code",
      "metadata": {
        "id": "o3o2sX3MhQXp",
        "colab": {
          "base_uri": "https://localhost:8080/",
          "height": 34
        },
        "outputId": "e4d77c45-dbc5-4510-bf93-a1e212e8d02c"
      },
      "source": [
        "from sklearn import svm\n",
        "C = 1.0 # SVM regularization parameter\n",
        "\n",
        "classifierSVM = svm.SVC(kernel='linear', C=1,gamma=1)\n",
        "classifierSVM .fit(X_train_tfidf, y_train)\n",
        "score = classifierSVM.score(X_test1, y_test)\n",
        "print(score)"
      ],
      "execution_count": null,
      "outputs": [
        {
          "output_type": "stream",
          "text": [
            "0.9872611464968153\n"
          ],
          "name": "stdout"
        }
      ]
    }
  ]
}